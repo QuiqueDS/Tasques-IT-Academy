{
 "cells": [
  {
   "cell_type": "markdown",
   "id": "71fe1471",
   "metadata": {},
   "source": [
    "# Tasca M7 T01\n",
    "Exercicis d'algoritmes de Classificació."
   ]
  },
  {
   "cell_type": "markdown",
   "id": "5c220585",
   "metadata": {},
   "source": [
    "# Exercici 1\n",
    "Crea almenys dos models de classificació diferents per intentar predir el millor les classes de l'arxiu adjunt."
   ]
  },
  {
   "cell_type": "code",
   "execution_count": 273,
   "id": "39d8681e",
   "metadata": {},
   "outputs": [],
   "source": [
    "# Importació de biblioteques\n",
    "import os\n",
    "import numpy as np\n",
    "import pandas as pd\n",
    "\n",
    "from sklearn.model_selection import train_test_split\n",
    "from sklearn.preprocessing import StandardScaler\n",
    "\n",
    "from sklearn import preprocessing\n",
    "from sklearn import utils\n",
    "\n",
    "#from sklearn.tree import DecisionTreeClassifier \n",
    "from sklearn.tree import DecisionTreeRegressor\n",
    "from sklearn import metrics\n",
    "from sklearn.neighbors import KNeighborsClassifier\n",
    "from sklearn.svm import SVC\n",
    "\n",
    "from sklearn.linear_model import LogisticRegression  \n",
    "\n",
    "from sklearn.model_selection import GridSearchCV\n",
    "import warnings\n",
    "warnings.filterwarnings('ignore')\n",
    "from sklearn.metrics import accuracy_score"
   ]
  },
  {
   "cell_type": "code",
   "execution_count": 197,
   "id": "2ffbc5e3",
   "metadata": {},
   "outputs": [
    {
     "data": {
      "text/html": [
       "<div>\n",
       "<style scoped>\n",
       "    .dataframe tbody tr th:only-of-type {\n",
       "        vertical-align: middle;\n",
       "    }\n",
       "\n",
       "    .dataframe tbody tr th {\n",
       "        vertical-align: top;\n",
       "    }\n",
       "\n",
       "    .dataframe thead th {\n",
       "        text-align: right;\n",
       "    }\n",
       "</style>\n",
       "<table border=\"1\" class=\"dataframe\">\n",
       "  <thead>\n",
       "    <tr style=\"text-align: right;\">\n",
       "      <th></th>\n",
       "      <th>1</th>\n",
       "      <th>14.23</th>\n",
       "      <th>1.71</th>\n",
       "      <th>2.43</th>\n",
       "      <th>15.6</th>\n",
       "      <th>127</th>\n",
       "      <th>2.8</th>\n",
       "      <th>3.06</th>\n",
       "      <th>.28</th>\n",
       "      <th>2.29</th>\n",
       "      <th>5.64</th>\n",
       "      <th>1.04</th>\n",
       "      <th>3.92</th>\n",
       "      <th>1065</th>\n",
       "    </tr>\n",
       "  </thead>\n",
       "  <tbody>\n",
       "    <tr>\n",
       "      <th>0</th>\n",
       "      <td>1</td>\n",
       "      <td>13.20</td>\n",
       "      <td>1.78</td>\n",
       "      <td>2.14</td>\n",
       "      <td>11.2</td>\n",
       "      <td>100</td>\n",
       "      <td>2.65</td>\n",
       "      <td>2.76</td>\n",
       "      <td>0.26</td>\n",
       "      <td>1.28</td>\n",
       "      <td>4.38</td>\n",
       "      <td>1.05</td>\n",
       "      <td>3.40</td>\n",
       "      <td>1050</td>\n",
       "    </tr>\n",
       "    <tr>\n",
       "      <th>1</th>\n",
       "      <td>1</td>\n",
       "      <td>13.16</td>\n",
       "      <td>2.36</td>\n",
       "      <td>2.67</td>\n",
       "      <td>18.6</td>\n",
       "      <td>101</td>\n",
       "      <td>2.80</td>\n",
       "      <td>3.24</td>\n",
       "      <td>0.30</td>\n",
       "      <td>2.81</td>\n",
       "      <td>5.68</td>\n",
       "      <td>1.03</td>\n",
       "      <td>3.17</td>\n",
       "      <td>1185</td>\n",
       "    </tr>\n",
       "    <tr>\n",
       "      <th>2</th>\n",
       "      <td>1</td>\n",
       "      <td>14.37</td>\n",
       "      <td>1.95</td>\n",
       "      <td>2.50</td>\n",
       "      <td>16.8</td>\n",
       "      <td>113</td>\n",
       "      <td>3.85</td>\n",
       "      <td>3.49</td>\n",
       "      <td>0.24</td>\n",
       "      <td>2.18</td>\n",
       "      <td>7.80</td>\n",
       "      <td>0.86</td>\n",
       "      <td>3.45</td>\n",
       "      <td>1480</td>\n",
       "    </tr>\n",
       "    <tr>\n",
       "      <th>3</th>\n",
       "      <td>1</td>\n",
       "      <td>13.24</td>\n",
       "      <td>2.59</td>\n",
       "      <td>2.87</td>\n",
       "      <td>21.0</td>\n",
       "      <td>118</td>\n",
       "      <td>2.80</td>\n",
       "      <td>2.69</td>\n",
       "      <td>0.39</td>\n",
       "      <td>1.82</td>\n",
       "      <td>4.32</td>\n",
       "      <td>1.04</td>\n",
       "      <td>2.93</td>\n",
       "      <td>735</td>\n",
       "    </tr>\n",
       "  </tbody>\n",
       "</table>\n",
       "</div>"
      ],
      "text/plain": [
       "   1  14.23  1.71  2.43  15.6  127   2.8  3.06   .28  2.29  5.64  1.04  3.92  \\\n",
       "0  1  13.20  1.78  2.14  11.2  100  2.65  2.76  0.26  1.28  4.38  1.05  3.40   \n",
       "1  1  13.16  2.36  2.67  18.6  101  2.80  3.24  0.30  2.81  5.68  1.03  3.17   \n",
       "2  1  14.37  1.95  2.50  16.8  113  3.85  3.49  0.24  2.18  7.80  0.86  3.45   \n",
       "3  1  13.24  2.59  2.87  21.0  118  2.80  2.69  0.39  1.82  4.32  1.04  2.93   \n",
       "\n",
       "   1065  \n",
       "0  1050  \n",
       "1  1185  \n",
       "2  1480  \n",
       "3   735  "
      ]
     },
     "execution_count": 197,
     "metadata": {},
     "output_type": "execute_result"
    }
   ],
   "source": [
    "filePath = r\"C:\\Formación\\2022 BarcelonaActiva\\CursDSOnline\\Sprint07_ml_classificacio\" + os.sep\n",
    "file = filePath + \"wineData.txt\"\n",
    "dfWine = pd.read_csv(file)\n",
    "dfWine.head(4)"
   ]
  },
  {
   "cell_type": "code",
   "execution_count": 198,
   "id": "123de0c4",
   "metadata": {},
   "outputs": [
    {
     "data": {
      "text/html": [
       "<div>\n",
       "<style scoped>\n",
       "    .dataframe tbody tr th:only-of-type {\n",
       "        vertical-align: middle;\n",
       "    }\n",
       "\n",
       "    .dataframe tbody tr th {\n",
       "        vertical-align: top;\n",
       "    }\n",
       "\n",
       "    .dataframe thead th {\n",
       "        text-align: right;\n",
       "    }\n",
       "</style>\n",
       "<table border=\"1\" class=\"dataframe\">\n",
       "  <thead>\n",
       "    <tr style=\"text-align: right;\">\n",
       "      <th></th>\n",
       "      <th>class_id</th>\n",
       "      <th>alcohol</th>\n",
       "      <th>malic_acid</th>\n",
       "      <th>ash</th>\n",
       "      <th>alcalinity_ash</th>\n",
       "      <th>magnesium</th>\n",
       "      <th>total_phenols</th>\n",
       "      <th>flavanoids</th>\n",
       "      <th>nonflav_phenols</th>\n",
       "      <th>cyanins</th>\n",
       "      <th>color_intens</th>\n",
       "      <th>hue</th>\n",
       "      <th>diluted_wines</th>\n",
       "      <th>proline</th>\n",
       "    </tr>\n",
       "  </thead>\n",
       "  <tbody>\n",
       "    <tr>\n",
       "      <th>0</th>\n",
       "      <td>1</td>\n",
       "      <td>13.20</td>\n",
       "      <td>1.78</td>\n",
       "      <td>2.14</td>\n",
       "      <td>11.2</td>\n",
       "      <td>100</td>\n",
       "      <td>2.65</td>\n",
       "      <td>2.76</td>\n",
       "      <td>0.26</td>\n",
       "      <td>1.28</td>\n",
       "      <td>4.38</td>\n",
       "      <td>1.05</td>\n",
       "      <td>3.40</td>\n",
       "      <td>1050</td>\n",
       "    </tr>\n",
       "    <tr>\n",
       "      <th>1</th>\n",
       "      <td>1</td>\n",
       "      <td>13.16</td>\n",
       "      <td>2.36</td>\n",
       "      <td>2.67</td>\n",
       "      <td>18.6</td>\n",
       "      <td>101</td>\n",
       "      <td>2.80</td>\n",
       "      <td>3.24</td>\n",
       "      <td>0.30</td>\n",
       "      <td>2.81</td>\n",
       "      <td>5.68</td>\n",
       "      <td>1.03</td>\n",
       "      <td>3.17</td>\n",
       "      <td>1185</td>\n",
       "    </tr>\n",
       "    <tr>\n",
       "      <th>2</th>\n",
       "      <td>1</td>\n",
       "      <td>14.37</td>\n",
       "      <td>1.95</td>\n",
       "      <td>2.50</td>\n",
       "      <td>16.8</td>\n",
       "      <td>113</td>\n",
       "      <td>3.85</td>\n",
       "      <td>3.49</td>\n",
       "      <td>0.24</td>\n",
       "      <td>2.18</td>\n",
       "      <td>7.80</td>\n",
       "      <td>0.86</td>\n",
       "      <td>3.45</td>\n",
       "      <td>1480</td>\n",
       "    </tr>\n",
       "    <tr>\n",
       "      <th>3</th>\n",
       "      <td>1</td>\n",
       "      <td>13.24</td>\n",
       "      <td>2.59</td>\n",
       "      <td>2.87</td>\n",
       "      <td>21.0</td>\n",
       "      <td>118</td>\n",
       "      <td>2.80</td>\n",
       "      <td>2.69</td>\n",
       "      <td>0.39</td>\n",
       "      <td>1.82</td>\n",
       "      <td>4.32</td>\n",
       "      <td>1.04</td>\n",
       "      <td>2.93</td>\n",
       "      <td>735</td>\n",
       "    </tr>\n",
       "  </tbody>\n",
       "</table>\n",
       "</div>"
      ],
      "text/plain": [
       "   class_id  alcohol  malic_acid   ash  alcalinity_ash  magnesium  \\\n",
       "0         1    13.20        1.78  2.14            11.2        100   \n",
       "1         1    13.16        2.36  2.67            18.6        101   \n",
       "2         1    14.37        1.95  2.50            16.8        113   \n",
       "3         1    13.24        2.59  2.87            21.0        118   \n",
       "\n",
       "   total_phenols  flavanoids  nonflav_phenols  cyanins  color_intens   hue  \\\n",
       "0           2.65        2.76             0.26     1.28          4.38  1.05   \n",
       "1           2.80        3.24             0.30     2.81          5.68  1.03   \n",
       "2           3.85        3.49             0.24     2.18          7.80  0.86   \n",
       "3           2.80        2.69             0.39     1.82          4.32  1.04   \n",
       "\n",
       "   diluted_wines  proline  \n",
       "0           3.40     1050  \n",
       "1           3.17     1185  \n",
       "2           3.45     1480  \n",
       "3           2.93      735  "
      ]
     },
     "execution_count": 198,
     "metadata": {},
     "output_type": "execute_result"
    }
   ],
   "source": [
    "# Reanomeno les columnes del dataframe resultant més descriptives\n",
    "dfWine.columns= ['class_id', 'alcohol', \"malic_acid\", \"ash\", \"alcalinity_ash\", \"magnesium\", \"total_phenols\", \"flavanoids\",\n",
    "                 \"nonflav_phenols\", \"cyanins\", \"color_intens\", \"hue\", \"diluted_wines\", \"proline\"\n",
    "                ]\n",
    "dfWine.head(4)"
   ]
  },
  {
   "cell_type": "code",
   "execution_count": 199,
   "id": "c1fce7b3",
   "metadata": {},
   "outputs": [
    {
     "name": "stdout",
     "output_type": "stream",
     "text": [
      "<class 'pandas.core.frame.DataFrame'>\n",
      "RangeIndex: 177 entries, 0 to 176\n",
      "Data columns (total 14 columns):\n",
      " #   Column           Non-Null Count  Dtype  \n",
      "---  ------           --------------  -----  \n",
      " 0   class_id         177 non-null    int64  \n",
      " 1   alcohol          177 non-null    float64\n",
      " 2   malic_acid       177 non-null    float64\n",
      " 3   ash              177 non-null    float64\n",
      " 4   alcalinity_ash   177 non-null    float64\n",
      " 5   magnesium        177 non-null    int64  \n",
      " 6   total_phenols    177 non-null    float64\n",
      " 7   flavanoids       177 non-null    float64\n",
      " 8   nonflav_phenols  177 non-null    float64\n",
      " 9   cyanins          177 non-null    float64\n",
      " 10  color_intens     177 non-null    float64\n",
      " 11  hue              177 non-null    float64\n",
      " 12  diluted_wines    177 non-null    float64\n",
      " 13  proline          177 non-null    int64  \n",
      "dtypes: float64(11), int64(3)\n",
      "memory usage: 19.5 KB\n"
     ]
    }
   ],
   "source": [
    "dfWine.info()"
   ]
  },
  {
   "cell_type": "code",
   "execution_count": 200,
   "id": "6f690c06",
   "metadata": {},
   "outputs": [
    {
     "data": {
      "text/plain": [
       "class_id           0\n",
       "alcohol            0\n",
       "malic_acid         0\n",
       "ash                0\n",
       "alcalinity_ash     0\n",
       "magnesium          0\n",
       "total_phenols      0\n",
       "flavanoids         0\n",
       "nonflav_phenols    0\n",
       "cyanins            0\n",
       "color_intens       0\n",
       "hue                0\n",
       "diluted_wines      0\n",
       "proline            0\n",
       "dtype: int64"
      ]
     },
     "execution_count": 200,
     "metadata": {},
     "output_type": "execute_result"
    }
   ],
   "source": [
    "# Determinació de valors nuls\n",
    "dfWine.isna().sum().sort_values()"
   ]
  },
  {
   "cell_type": "markdown",
   "id": "be1cd802",
   "metadata": {},
   "source": [
    "S'observa que totes les dades són numèriques contínues i no hi ha cap valor null."
   ]
  },
  {
   "cell_type": "code",
   "execution_count": 201,
   "id": "b42bbaf1",
   "metadata": {},
   "outputs": [
    {
     "data": {
      "text/plain": [
       "(177, 14)"
      ]
     },
     "execution_count": 201,
     "metadata": {},
     "output_type": "execute_result"
    }
   ],
   "source": [
    "# Dimensions del dataframe\n",
    "dfWine.shape"
   ]
  },
  {
   "cell_type": "markdown",
   "id": "ab8ff8c9",
   "metadata": {},
   "source": [
    "### - Divisió de dades en conjunts train i test"
   ]
  },
  {
   "cell_type": "code",
   "execution_count": 202,
   "id": "ee160c6e",
   "metadata": {},
   "outputs": [],
   "source": [
    "X_train, X_test, y_train, y_test = train_test_split(\n",
    "                                        dfWine.drop('class_id', axis = 'columns'),\n",
    "                                        dfWine['class_id'],\n",
    "                                        train_size   = .7,               # 70% train i 30% test\n",
    "                                        random_state = 4,\n",
    "                                        shuffle      = True\n",
    "                                    )                                                 "
   ]
  },
  {
   "cell_type": "code",
   "execution_count": 203,
   "id": "84991dc6",
   "metadata": {
    "scrolled": false
   },
   "outputs": [
    {
     "data": {
      "text/html": [
       "<div>\n",
       "<style scoped>\n",
       "    .dataframe tbody tr th:only-of-type {\n",
       "        vertical-align: middle;\n",
       "    }\n",
       "\n",
       "    .dataframe tbody tr th {\n",
       "        vertical-align: top;\n",
       "    }\n",
       "\n",
       "    .dataframe thead th {\n",
       "        text-align: right;\n",
       "    }\n",
       "</style>\n",
       "<table border=\"1\" class=\"dataframe\">\n",
       "  <thead>\n",
       "    <tr style=\"text-align: right;\">\n",
       "      <th></th>\n",
       "      <th>alcohol</th>\n",
       "      <th>malic_acid</th>\n",
       "      <th>ash</th>\n",
       "      <th>alcalinity_ash</th>\n",
       "      <th>magnesium</th>\n",
       "      <th>total_phenols</th>\n",
       "      <th>flavanoids</th>\n",
       "      <th>nonflav_phenols</th>\n",
       "      <th>cyanins</th>\n",
       "      <th>color_intens</th>\n",
       "      <th>hue</th>\n",
       "      <th>diluted_wines</th>\n",
       "      <th>proline</th>\n",
       "    </tr>\n",
       "  </thead>\n",
       "  <tbody>\n",
       "    <tr>\n",
       "      <th>28</th>\n",
       "      <td>14.02</td>\n",
       "      <td>1.68</td>\n",
       "      <td>2.21</td>\n",
       "      <td>16.0</td>\n",
       "      <td>96</td>\n",
       "      <td>2.65</td>\n",
       "      <td>2.33</td>\n",
       "      <td>0.26</td>\n",
       "      <td>1.98</td>\n",
       "      <td>4.70</td>\n",
       "      <td>1.04</td>\n",
       "      <td>3.59</td>\n",
       "      <td>1035</td>\n",
       "    </tr>\n",
       "    <tr>\n",
       "      <th>82</th>\n",
       "      <td>13.05</td>\n",
       "      <td>3.86</td>\n",
       "      <td>2.32</td>\n",
       "      <td>22.5</td>\n",
       "      <td>85</td>\n",
       "      <td>1.65</td>\n",
       "      <td>1.59</td>\n",
       "      <td>0.61</td>\n",
       "      <td>1.62</td>\n",
       "      <td>4.80</td>\n",
       "      <td>0.84</td>\n",
       "      <td>2.01</td>\n",
       "      <td>515</td>\n",
       "    </tr>\n",
       "    <tr>\n",
       "      <th>83</th>\n",
       "      <td>11.84</td>\n",
       "      <td>0.89</td>\n",
       "      <td>2.58</td>\n",
       "      <td>18.0</td>\n",
       "      <td>94</td>\n",
       "      <td>2.20</td>\n",
       "      <td>2.21</td>\n",
       "      <td>0.22</td>\n",
       "      <td>2.35</td>\n",
       "      <td>3.05</td>\n",
       "      <td>0.79</td>\n",
       "      <td>3.08</td>\n",
       "      <td>520</td>\n",
       "    </tr>\n",
       "    <tr>\n",
       "      <th>106</th>\n",
       "      <td>12.72</td>\n",
       "      <td>1.75</td>\n",
       "      <td>2.28</td>\n",
       "      <td>22.5</td>\n",
       "      <td>84</td>\n",
       "      <td>1.38</td>\n",
       "      <td>1.76</td>\n",
       "      <td>0.48</td>\n",
       "      <td>1.63</td>\n",
       "      <td>3.30</td>\n",
       "      <td>0.88</td>\n",
       "      <td>2.42</td>\n",
       "      <td>488</td>\n",
       "    </tr>\n",
       "    <tr>\n",
       "      <th>161</th>\n",
       "      <td>12.85</td>\n",
       "      <td>3.27</td>\n",
       "      <td>2.58</td>\n",
       "      <td>22.0</td>\n",
       "      <td>106</td>\n",
       "      <td>1.65</td>\n",
       "      <td>0.60</td>\n",
       "      <td>0.60</td>\n",
       "      <td>0.96</td>\n",
       "      <td>5.58</td>\n",
       "      <td>0.87</td>\n",
       "      <td>2.11</td>\n",
       "      <td>570</td>\n",
       "    </tr>\n",
       "    <tr>\n",
       "      <th>...</th>\n",
       "      <td>...</td>\n",
       "      <td>...</td>\n",
       "      <td>...</td>\n",
       "      <td>...</td>\n",
       "      <td>...</td>\n",
       "      <td>...</td>\n",
       "      <td>...</td>\n",
       "      <td>...</td>\n",
       "      <td>...</td>\n",
       "      <td>...</td>\n",
       "      <td>...</td>\n",
       "      <td>...</td>\n",
       "      <td>...</td>\n",
       "    </tr>\n",
       "    <tr>\n",
       "      <th>87</th>\n",
       "      <td>11.64</td>\n",
       "      <td>2.06</td>\n",
       "      <td>2.46</td>\n",
       "      <td>21.6</td>\n",
       "      <td>84</td>\n",
       "      <td>1.95</td>\n",
       "      <td>1.69</td>\n",
       "      <td>0.48</td>\n",
       "      <td>1.35</td>\n",
       "      <td>2.80</td>\n",
       "      <td>1.00</td>\n",
       "      <td>2.75</td>\n",
       "      <td>680</td>\n",
       "    </tr>\n",
       "    <tr>\n",
       "      <th>104</th>\n",
       "      <td>12.42</td>\n",
       "      <td>2.55</td>\n",
       "      <td>2.27</td>\n",
       "      <td>22.0</td>\n",
       "      <td>90</td>\n",
       "      <td>1.68</td>\n",
       "      <td>1.84</td>\n",
       "      <td>0.66</td>\n",
       "      <td>1.42</td>\n",
       "      <td>2.70</td>\n",
       "      <td>0.86</td>\n",
       "      <td>3.30</td>\n",
       "      <td>315</td>\n",
       "    </tr>\n",
       "    <tr>\n",
       "      <th>129</th>\n",
       "      <td>12.86</td>\n",
       "      <td>1.35</td>\n",
       "      <td>2.32</td>\n",
       "      <td>18.0</td>\n",
       "      <td>122</td>\n",
       "      <td>1.51</td>\n",
       "      <td>1.25</td>\n",
       "      <td>0.21</td>\n",
       "      <td>0.94</td>\n",
       "      <td>4.10</td>\n",
       "      <td>0.76</td>\n",
       "      <td>1.29</td>\n",
       "      <td>630</td>\n",
       "    </tr>\n",
       "    <tr>\n",
       "      <th>174</th>\n",
       "      <td>13.27</td>\n",
       "      <td>4.28</td>\n",
       "      <td>2.26</td>\n",
       "      <td>20.0</td>\n",
       "      <td>120</td>\n",
       "      <td>1.59</td>\n",
       "      <td>0.69</td>\n",
       "      <td>0.43</td>\n",
       "      <td>1.35</td>\n",
       "      <td>10.20</td>\n",
       "      <td>0.59</td>\n",
       "      <td>1.56</td>\n",
       "      <td>835</td>\n",
       "    </tr>\n",
       "    <tr>\n",
       "      <th>122</th>\n",
       "      <td>13.05</td>\n",
       "      <td>5.80</td>\n",
       "      <td>2.13</td>\n",
       "      <td>21.5</td>\n",
       "      <td>86</td>\n",
       "      <td>2.62</td>\n",
       "      <td>2.65</td>\n",
       "      <td>0.30</td>\n",
       "      <td>2.01</td>\n",
       "      <td>2.60</td>\n",
       "      <td>0.73</td>\n",
       "      <td>3.10</td>\n",
       "      <td>380</td>\n",
       "    </tr>\n",
       "  </tbody>\n",
       "</table>\n",
       "<p>123 rows × 13 columns</p>\n",
       "</div>"
      ],
      "text/plain": [
       "     alcohol  malic_acid   ash  alcalinity_ash  magnesium  total_phenols  \\\n",
       "28     14.02        1.68  2.21            16.0         96           2.65   \n",
       "82     13.05        3.86  2.32            22.5         85           1.65   \n",
       "83     11.84        0.89  2.58            18.0         94           2.20   \n",
       "106    12.72        1.75  2.28            22.5         84           1.38   \n",
       "161    12.85        3.27  2.58            22.0        106           1.65   \n",
       "..       ...         ...   ...             ...        ...            ...   \n",
       "87     11.64        2.06  2.46            21.6         84           1.95   \n",
       "104    12.42        2.55  2.27            22.0         90           1.68   \n",
       "129    12.86        1.35  2.32            18.0        122           1.51   \n",
       "174    13.27        4.28  2.26            20.0        120           1.59   \n",
       "122    13.05        5.80  2.13            21.5         86           2.62   \n",
       "\n",
       "     flavanoids  nonflav_phenols  cyanins  color_intens   hue  diluted_wines  \\\n",
       "28         2.33             0.26     1.98          4.70  1.04           3.59   \n",
       "82         1.59             0.61     1.62          4.80  0.84           2.01   \n",
       "83         2.21             0.22     2.35          3.05  0.79           3.08   \n",
       "106        1.76             0.48     1.63          3.30  0.88           2.42   \n",
       "161        0.60             0.60     0.96          5.58  0.87           2.11   \n",
       "..          ...              ...      ...           ...   ...            ...   \n",
       "87         1.69             0.48     1.35          2.80  1.00           2.75   \n",
       "104        1.84             0.66     1.42          2.70  0.86           3.30   \n",
       "129        1.25             0.21     0.94          4.10  0.76           1.29   \n",
       "174        0.69             0.43     1.35         10.20  0.59           1.56   \n",
       "122        2.65             0.30     2.01          2.60  0.73           3.10   \n",
       "\n",
       "     proline  \n",
       "28      1035  \n",
       "82       515  \n",
       "83       520  \n",
       "106      488  \n",
       "161      570  \n",
       "..       ...  \n",
       "87       680  \n",
       "104      315  \n",
       "129      630  \n",
       "174      835  \n",
       "122      380  \n",
       "\n",
       "[123 rows x 13 columns]"
      ]
     },
     "execution_count": 203,
     "metadata": {},
     "output_type": "execute_result"
    }
   ],
   "source": [
    "X_train"
   ]
  },
  {
   "cell_type": "code",
   "execution_count": 204,
   "id": "f2c1e310",
   "metadata": {
    "scrolled": false
   },
   "outputs": [
    {
     "data": {
      "text/html": [
       "<div>\n",
       "<style scoped>\n",
       "    .dataframe tbody tr th:only-of-type {\n",
       "        vertical-align: middle;\n",
       "    }\n",
       "\n",
       "    .dataframe tbody tr th {\n",
       "        vertical-align: top;\n",
       "    }\n",
       "\n",
       "    .dataframe thead th {\n",
       "        text-align: right;\n",
       "    }\n",
       "</style>\n",
       "<table border=\"1\" class=\"dataframe\">\n",
       "  <thead>\n",
       "    <tr style=\"text-align: right;\">\n",
       "      <th></th>\n",
       "      <th>alcohol</th>\n",
       "      <th>malic_acid</th>\n",
       "      <th>ash</th>\n",
       "      <th>alcalinity_ash</th>\n",
       "      <th>magnesium</th>\n",
       "      <th>total_phenols</th>\n",
       "      <th>flavanoids</th>\n",
       "      <th>nonflav_phenols</th>\n",
       "      <th>cyanins</th>\n",
       "      <th>color_intens</th>\n",
       "      <th>hue</th>\n",
       "      <th>diluted_wines</th>\n",
       "      <th>proline</th>\n",
       "    </tr>\n",
       "  </thead>\n",
       "  <tbody>\n",
       "    <tr>\n",
       "      <th>162</th>\n",
       "      <td>12.96</td>\n",
       "      <td>3.45</td>\n",
       "      <td>2.35</td>\n",
       "      <td>18.5</td>\n",
       "      <td>106</td>\n",
       "      <td>1.39</td>\n",
       "      <td>0.70</td>\n",
       "      <td>0.40</td>\n",
       "      <td>0.94</td>\n",
       "      <td>5.28</td>\n",
       "      <td>0.68</td>\n",
       "      <td>1.75</td>\n",
       "      <td>675</td>\n",
       "    </tr>\n",
       "    <tr>\n",
       "      <th>141</th>\n",
       "      <td>13.52</td>\n",
       "      <td>3.17</td>\n",
       "      <td>2.72</td>\n",
       "      <td>23.5</td>\n",
       "      <td>97</td>\n",
       "      <td>1.55</td>\n",
       "      <td>0.52</td>\n",
       "      <td>0.50</td>\n",
       "      <td>0.55</td>\n",
       "      <td>4.35</td>\n",
       "      <td>0.89</td>\n",
       "      <td>2.06</td>\n",
       "      <td>520</td>\n",
       "    </tr>\n",
       "    <tr>\n",
       "      <th>14</th>\n",
       "      <td>13.63</td>\n",
       "      <td>1.81</td>\n",
       "      <td>2.70</td>\n",
       "      <td>17.2</td>\n",
       "      <td>112</td>\n",
       "      <td>2.85</td>\n",
       "      <td>2.91</td>\n",
       "      <td>0.30</td>\n",
       "      <td>1.46</td>\n",
       "      <td>7.30</td>\n",
       "      <td>1.28</td>\n",
       "      <td>2.88</td>\n",
       "      <td>1310</td>\n",
       "    </tr>\n",
       "    <tr>\n",
       "      <th>45</th>\n",
       "      <td>14.38</td>\n",
       "      <td>3.59</td>\n",
       "      <td>2.28</td>\n",
       "      <td>16.0</td>\n",
       "      <td>102</td>\n",
       "      <td>3.25</td>\n",
       "      <td>3.17</td>\n",
       "      <td>0.27</td>\n",
       "      <td>2.19</td>\n",
       "      <td>4.90</td>\n",
       "      <td>1.04</td>\n",
       "      <td>3.44</td>\n",
       "      <td>1065</td>\n",
       "    </tr>\n",
       "  </tbody>\n",
       "</table>\n",
       "</div>"
      ],
      "text/plain": [
       "     alcohol  malic_acid   ash  alcalinity_ash  magnesium  total_phenols  \\\n",
       "162    12.96        3.45  2.35            18.5        106           1.39   \n",
       "141    13.52        3.17  2.72            23.5         97           1.55   \n",
       "14     13.63        1.81  2.70            17.2        112           2.85   \n",
       "45     14.38        3.59  2.28            16.0        102           3.25   \n",
       "\n",
       "     flavanoids  nonflav_phenols  cyanins  color_intens   hue  diluted_wines  \\\n",
       "162        0.70             0.40     0.94          5.28  0.68           1.75   \n",
       "141        0.52             0.50     0.55          4.35  0.89           2.06   \n",
       "14         2.91             0.30     1.46          7.30  1.28           2.88   \n",
       "45         3.17             0.27     2.19          4.90  1.04           3.44   \n",
       "\n",
       "     proline  \n",
       "162      675  \n",
       "141      520  \n",
       "14      1310  \n",
       "45      1065  "
      ]
     },
     "execution_count": 204,
     "metadata": {},
     "output_type": "execute_result"
    }
   ],
   "source": [
    "X_test.head(4)"
   ]
  },
  {
   "cell_type": "code",
   "execution_count": 205,
   "id": "11602f1e",
   "metadata": {},
   "outputs": [
    {
     "data": {
      "text/plain": [
       "28     1\n",
       "82     2\n",
       "83     2\n",
       "106    2\n",
       "161    3\n",
       "      ..\n",
       "87     2\n",
       "104    2\n",
       "129    3\n",
       "174    3\n",
       "122    2\n",
       "Name: class_id, Length: 123, dtype: int64"
      ]
     },
     "execution_count": 205,
     "metadata": {},
     "output_type": "execute_result"
    }
   ],
   "source": [
    "y_train"
   ]
  },
  {
   "cell_type": "code",
   "execution_count": 206,
   "id": "2cb31e0e",
   "metadata": {
    "scrolled": true
   },
   "outputs": [
    {
     "data": {
      "text/plain": [
       "162    3\n",
       "141    3\n",
       "14     1\n",
       "45     1\n",
       "81     2\n",
       "Name: class_id, dtype: int64"
      ]
     },
     "execution_count": 206,
     "metadata": {},
     "output_type": "execute_result"
    }
   ],
   "source": [
    "y_test.head()"
   ]
  },
  {
   "cell_type": "code",
   "execution_count": 207,
   "id": "4d3bdea5",
   "metadata": {},
   "outputs": [
    {
     "data": {
      "text/plain": [
       "count    123.000000\n",
       "mean       1.926829\n",
       "std        0.759322\n",
       "min        1.000000\n",
       "25%        1.000000\n",
       "50%        2.000000\n",
       "75%        2.500000\n",
       "max        3.000000\n",
       "Name: class_id, dtype: float64"
      ]
     },
     "execution_count": 207,
     "metadata": {},
     "output_type": "execute_result"
    }
   ],
   "source": [
    "y_train.describe()"
   ]
  },
  {
   "cell_type": "code",
   "execution_count": 208,
   "id": "f2c56c64",
   "metadata": {},
   "outputs": [
    {
     "data": {
      "text/plain": [
       "count    54.000000\n",
       "mean      1.981481\n",
       "std       0.812421\n",
       "min       1.000000\n",
       "25%       1.000000\n",
       "50%       2.000000\n",
       "75%       3.000000\n",
       "max       3.000000\n",
       "Name: class_id, dtype: float64"
      ]
     },
     "execution_count": 208,
     "metadata": {},
     "output_type": "execute_result"
    }
   ],
   "source": [
    "y_test.describe()"
   ]
  },
  {
   "cell_type": "markdown",
   "id": "14baf6d0",
   "metadata": {},
   "source": [
    "És important que la distribució de la variable resposta (variança/desviació estàndard) sigui semblant en el conjunt de train i en el de test, com es pot observar en aquest cas."
   ]
  },
  {
   "cell_type": "markdown",
   "id": "0cfe7dce",
   "metadata": {},
   "source": [
    "### - Preprocessat de dades: Escalat estàndard"
   ]
  },
  {
   "cell_type": "code",
   "execution_count": 209,
   "id": "f38671df",
   "metadata": {},
   "outputs": [],
   "source": [
    "sc = StandardScaler()\n",
    "\n",
    "# Escalat del conjunt train\n",
    "X_train_stand = sc.fit_transform(X_train)\n",
    "\n",
    "# Escalat del conjunt train\n",
    "X_test_stand = sc.transform(X_test)"
   ]
  },
  {
   "cell_type": "code",
   "execution_count": 210,
   "id": "33ff9b2d",
   "metadata": {},
   "outputs": [
    {
     "data": {
      "text/plain": [
       "array([[ 1.28863377, -0.55494409, -0.50819265, ...,  0.324497  ,\n",
       "         1.35824268,  0.96846784],\n",
       "       [ 0.06686887,  1.27986118, -0.12363747, ..., -0.49930344,\n",
       "        -0.85137462, -0.70152038],\n",
       "       [-1.45718838, -1.21985058,  0.78531113, ..., -0.70525355,\n",
       "         0.64501178, -0.6854628 ],\n",
       "       ...,\n",
       "       [-0.17244591, -0.83268984, -0.12363747, ..., -0.82882362,\n",
       "        -1.85828882, -0.33219606],\n",
       "       [ 0.34397019,  1.63335578, -0.33339484, ..., -1.529054  ,\n",
       "        -1.480696  ,  0.32616468],\n",
       "       [ 0.06686887,  2.91266954, -0.78786915, ..., -0.95239369,\n",
       "         0.67298162, -1.13507501]])"
      ]
     },
     "execution_count": 210,
     "metadata": {},
     "output_type": "execute_result"
    }
   ],
   "source": [
    "# Visualització de dades X train escalades\n",
    "X_train_stand"
   ]
  },
  {
   "cell_type": "code",
   "execution_count": 211,
   "id": "5dfc9eaa",
   "metadata": {
    "scrolled": true
   },
   "outputs": [
    {
     "data": {
      "text/plain": [
       "array([[-0.04649076,  0.93478313, -0.01875879, -0.31809848,  0.41126512,\n",
       "        -1.57621786, -1.39530903,  0.31648275, -1.18772202,  0.10575044,\n",
       "        -1.1583438 , -1.21498252, -0.18767785],\n",
       "       [ 0.65885805,  0.69912007,  1.27474499,  1.11090492, -0.203135  ,\n",
       "        -1.30811097, -1.57977276,  1.08579853, -1.88270891, -0.2838403 ,\n",
       "        -0.29335333, -0.78145002, -0.6854628 ],\n",
       "       [ 0.79740871, -0.44552909,  1.20482587, -0.68963937,  0.82086519,\n",
       "         0.87025754,  0.86949573, -0.45283303, -0.26107283,  0.9519583 ,\n",
       "         1.31305754,  0.36531339,  1.85163469],\n",
       "       [ 1.74207229,  1.05261466, -0.26347572, -1.03260018,  0.1381984 ,\n",
       "         1.54052477,  1.13594335, -0.68362776,  1.03980007, -0.05343717,\n",
       "         0.324497  ,  1.14846888,  1.06481331],\n",
       "       [-1.15489603, -1.01785367,  0.5405942 ,  1.25380526, -1.50020191,\n",
       "        -0.55406033, -0.49348632,  0.31648275, -0.36799389, -1.18450709,\n",
       "         1.43662761,  0.14155467, -0.33219606],\n",
       "       [-0.688862  ,  0.58128853,  0.9950685 ,  2.1112073 , -0.203135  ,\n",
       "        -0.72162714, -1.51828485,  2.08590903, -0.83131849,  1.03574126,\n",
       "        -1.19953382, -1.24295236,  0.47068289],\n",
       "       [ 0.38175673, -0.52127793, -0.75290958, -0.7467995 , -0.40793504,\n",
       "         0.1162069 ,  0.13164079, -0.68362776, -0.45709478, -0.45140622,\n",
       "         0.24211696,  0.21147927,  1.77134679],\n",
       "       [-1.68390764, -0.38661333, -1.52201994, -1.03260018, -0.203135  ,\n",
       "        -1.20757088, -0.5037343 , -0.14510672, -0.81349831, -0.51424343,\n",
       "         1.10710743, -0.66957066, -0.98092226],\n",
       "       [ 0.20541953,  0.01738049,  1.09994718, -0.28951841,  0.06993172,\n",
       "         0.78647413,  1.20767925, -0.45283303,  2.14465102,  0.27331635,\n",
       "         0.28330698,  0.77087605,  1.45019521],\n",
       "       [-1.45718838,  0.463457  , -0.43827353, -0.46099882,  0.82086519,\n",
       "        -1.02324739, -0.75993394,  0.54727748, -1.16990184, -0.99599543,\n",
       "        -0.00502317, -0.13814372, -0.74969312],\n",
       "       [-1.25566015, -0.69802523,  0.22595814,  0.6822039 , -0.95406847,\n",
       "        -1.47567778, -0.83166983,  1.08579853,  0.04187017, -0.59802639,\n",
       "         0.36568703,  0.04366024, -0.91026891],\n",
       "       [ 0.81000422,  0.6402043 ,  0.71539201, -1.26124073,  1.09393191,\n",
       "         0.61890732,  0.99247155, -1.45294353,  0.0953307 ,  0.03034578,\n",
       "        -0.00502317,  1.03658953,  0.35827984],\n",
       "       [-1.00374986,  0.58128853, -0.12363747, -0.17519814, -0.27140168,\n",
       "        -1.81081139, -1.61051672,  0.31648275, -1.56194573,  0.19791169,\n",
       "        -1.24072384, -1.10310317, -0.71757796],\n",
       "       [ 0.57068945,  1.14519658,  0.85523025,  0.96800458,  0.75259851,\n",
       "        -1.05676076, -1.16985335,  0.54727748, -0.26107283,  2.36789026,\n",
       "        -0.45811342, -1.480696  , -0.12344753],\n",
       "       [ 0.64626253, -0.45394563,  1.03002806, -0.17519814,  0.68433184,\n",
       "         0.0324235 ,  0.48007229, -0.5297646 , -0.11851142, -0.34667752,\n",
       "         0.57163714,  0.35132847,  1.16115879],\n",
       "       [-0.94077229, -0.5128614 , -0.82282871, -0.17519814, -1.36366855,\n",
       "        -1.14054416, -0.03232698,  0.08568802,  0.04187017, -0.68180935,\n",
       "         0.15973692,  0.77087605, -0.71757796],\n",
       "       [ 1.18786966, -0.5128614 , -0.29843528, -0.63247923,  0.54779848,\n",
       "         0.92052758,  1.51511881, -0.29896987,  0.84377812,  1.62222195,\n",
       "         0.65401718,  0.67298162,  1.6910589 ],\n",
       "       [-1.48237941, -0.52127793, -1.66185819, -0.0322978 , -0.95406847,\n",
       "         0.28377371, -0.43199841,  0.08568802, -0.33235354, -1.24315515,\n",
       "        -0.08740322, -0.25002307, -1.02267196],\n",
       "       [-1.7342897 , -0.29403141, -0.26347572, -0.46099882, -0.13486832,\n",
       "         1.15512111,  0.20337668, -1.45294353, -0.45709478, -0.74464656,\n",
       "         0.81877727,  0.47719274, -1.24747807],\n",
       "       [ 0.10465541,  1.31352733,  0.01620077,  0.53930356,  0.88913187,\n",
       "        -1.5427045 , -0.68819804, -0.14510672, -0.83131849,  1.83167934,\n",
       "        -1.61143404, -1.80234915, -0.58911733],\n",
       "       [-0.38656965, -0.68119216, -0.33339484,  0.31066302, -1.36366855,\n",
       "        -1.59297454, -0.61646214,  1.70125115,  0.02404999, -0.82842952,\n",
       "        -0.00502317, -0.78145002, -0.7657507 ],\n",
       "       [ 0.92336385,  1.70068808, -0.33339484,  0.82510424, -0.81753511,\n",
       "        -1.76054135, -1.63101269,  1.23966168, -0.81349831,  0.66709625,\n",
       "        -0.74644357, -1.21498252, -0.6854628 ],\n",
       "       [-1.41940184,  1.65860539,  0.12107946,  0.39640322, -1.22713519,\n",
       "         0.88701422,  0.99247155, -1.14521722,  2.32285279, -0.93315822,\n",
       "        -0.87001364,  1.42816727, -1.13507501],\n",
       "       [ 0.73443114,  0.20254433,  1.16986631,  1.3967056 ,  0.34299844,\n",
       "        -1.30811097, -1.25183723,  0.23955117, -0.11851142,  1.5216824 ,\n",
       "        -0.91120366, -1.14505793,  0.05318583],\n",
       "       [ 1.33901583, -0.1593668 ,  0.89018981, -0.57531909,  1.43526531,\n",
       "         0.45134052,  0.45957632, -0.37590145, -0.63529654,  0.00940004,\n",
       "         0.40687705,  1.34425776,  1.80346195],\n",
       "       [-0.61328891, -0.92527175, -0.36835441, -0.60389916, -1.02233515,\n",
       "        -0.55406033, -1.51828485,  1.8551143 , -0.63529654,  0.17696596,\n",
       "        -0.87001364, -1.55062059, -0.26796575],\n",
       "       [-0.89039023, -0.61385985, -0.50819265,  0.22492281,  0.20646508,\n",
       "        -2.0621616 , -1.0673735 ,  0.08568802, -0.26107283, -0.82842952,\n",
       "        -0.22744929, -1.11708809,  0.43856773],\n",
       "       [-0.89039023,  0.41295778, -0.47323309, -0.46099882, -0.81753511,\n",
       "         0.1999903 ,  0.1931287 , -0.83749091,  0.68339653, -1.20545282,\n",
       "         0.77758725,  0.95268001, -1.42411144],\n",
       "       [ 0.78481319,  2.19726382, -0.01875879,  0.11060254, -0.54446839,\n",
       "        -0.55406033, -1.29282917,  0.85500379, -1.04516061, -0.26289457,\n",
       "        -0.21097328, -0.79543494, -0.58911733],\n",
       "       [-0.94077229,  1.29669426, -0.54315221, -0.31809848,  0.82086519,\n",
       "        -1.59297454, -1.31332514, -0.5297646 , -0.83131849,  1.33317075,\n",
       "        -1.28191386, -0.86535954,  0.39039499],\n",
       "       [ 1.38939789, -0.2687818 ,  0.15603902, -0.23235828,  0.20646508,\n",
       "         0.70269073,  0.87974372, -0.29896987,  1.37838342,  0.49115204,\n",
       "         0.44806707,  0.18350943,  1.04875574],\n",
       "       [-0.84000817, -1.1356852 , -1.41714126, -1.375561  ,  2.4592655 ,\n",
       "        -0.72162714, -0.21679071, -0.06817514,  2.05555014, -0.68180935,\n",
       "         0.40687705, -0.43182703,  0.05318583],\n",
       "       [ 2.20810633, -0.5128614 ,  0.12107946, -2.34728331, -0.61273507,\n",
       "         1.28917456,  1.66883859,  0.54727748,  2.14465102,  0.15602022,\n",
       "         1.18948747,  0.15553959,  1.33779216],\n",
       "       [-1.15489603, -0.79902369,  0.50563464,  0.82510424, -1.09060183,\n",
       "         0.38431379,  0.23412064,  0.54727748, -1.00952025, -0.89126674,\n",
       "        -0.12859324,  0.79884589, -1.11901743],\n",
       "       [-0.22282796,  0.86745082, -0.1935566 , -0.0322978 , -0.81753511,\n",
       "        -1.42540773, -1.43630097,  0.31648275, -1.13426149,  2.19194605,\n",
       "        -0.99358371, -1.21498252, -0.15556269],\n",
       "       [-0.0842773 ,  0.3961247 ,  1.20482587,  0.39640322, -0.27140168,\n",
       "        -1.32486765, -1.60026873,  1.31659326, -1.52630538, -0.17911161,\n",
       "        -0.7876336 , -0.43182703, -0.42854154],\n",
       "       [ 1.049319  , -0.647526  ,  0.92514938,  0.11060254,  1.02566523,\n",
       "         1.03782434,  1.37164701,  0.31648275,  0.20225176,  0.65871795,\n",
       "         0.6952072 , -0.06821912,  1.27356184],\n",
       "       [ 1.33901583, -0.59702678, -0.26347572, -1.03260018,  1.77659871,\n",
       "         1.12160775,  1.13594335, -0.91442249,  0.87941848,  0.26074891,\n",
       "         0.53044712,  1.52606171,  0.14953131],\n",
       "       [ 1.72947678, -0.32769756,  0.50563464, -0.80395964,  0.88913187,\n",
       "         2.54592562,  1.46387888, -0.91442249,  1.02197989,  1.16141569,\n",
       "        -0.4169234 ,  1.1624538 ,  2.39759237],\n",
       "       [-0.14725488,  0.54762238,  0.15603902,  0.11060254,  0.27473176,\n",
       "        -1.72702799, -0.86241379, -0.91442249, -1.38374396,  0.15602022,\n",
       "        -0.91120366, -1.67648487, -0.65334764],\n",
       "       [-0.49992928,  0.10154587, -0.54315221, -0.31809848, -0.40793504,\n",
       "        -1.1908142 , -1.43630097,  2.08590903, -1.18772202,  0.86817534,\n",
       "        -0.95239369, -1.45272616, -0.12344753],\n",
       "       [ 0.92336385, -0.70644177,  1.20482587,  0.82510424,  0.06993172,\n",
       "         1.12160775,  1.21792723, -0.5297646 ,  1.37838342,  0.28169465,\n",
       "         0.94234734,  0.12756975,  1.77134679],\n",
       "       [ 0.06686887, -0.24353218,  3.02272308,  1.53960594,  1.64006535,\n",
       "         0.50161056,  0.63379207,  0.85500379,  0.5586553 , -0.60640469,\n",
       "         0.6952072 ,  0.81283081,  0.3101071 ],\n",
       "       [ 0.84779077, -0.91685522, -1.52201994, -0.46099882, -0.40793504,\n",
       "        -0.38649352, -0.27827863, -0.29896987, -1.56194573, -0.51424343,\n",
       "         1.10710743, -0.22205324, -0.33219606],\n",
       "       [-1.74688521, -0.83268984,  1.20482587,  0.11060254, -0.40793504,\n",
       "         0.68593405,  0.87974372, -0.5297646 ,  1.57440537, -0.99599543,\n",
       "        -0.00502317,  0.89674033, -0.17162027],\n",
       "       [ 1.75466781, -0.39502987,  0.33083683, -1.43272113, -0.27140168,\n",
       "         0.28377371,  0.4698243 , -0.45283303,  0.66557636,  0.093183  ,\n",
       "         0.24211696,  1.34425776,  1.78740437],\n",
       "       [-0.82741266,  0.09312933,  0.36579639,  0.39640322, -0.13486832,\n",
       "         0.38431379,  0.0496569 , -0.14510672, -0.52837548, -0.93315822,\n",
       "        -0.66406353,  1.06455937, -0.9488071 ],\n",
       "       [ 0.45732982,  0.18571125, -0.01875879,  0.11060254, -0.74926843,\n",
       "        -1.55946118, -1.60026873,  0.08568802, -1.72232732,  0.23980317,\n",
       "        -1.07596375, -0.20806832,  0.14953131],\n",
       "       [ 0.49511636, -0.47919524,  0.92514938, -1.00402011, -0.47620172,\n",
       "         0.87025754,  0.90023969, -0.14510672, -0.27889301, -0.09532865,\n",
       "        -0.16978326,  0.84080065,  1.48231037],\n",
       "       [ 0.40694776,  0.75803583,  0.0861199 ,  0.53930356, -0.54446839,\n",
       "        -0.6713571 , -1.33382112,  0.70114064, -0.63529654,  1.42114286,\n",
       "        -1.69381409, -1.39678648, -0.26796575],\n",
       "       [-1.16749155, -0.15095027, -0.6480309 ,  0.39640322, -1.02233515,\n",
       "         0.45134052,  0.60304811,  0.08568802, -0.45709478, -0.94991481,\n",
       "        -0.4169234 ,  0.92471017, -1.14149805],\n",
       "       [-1.15489603, -0.42869602, -0.12363747, -0.31809848, -1.29540187,\n",
       "        -1.22432756, -0.5754702 ,  1.23966168,  0.05969035, -1.10072413,\n",
       "         0.48925709, -0.48776671, -0.81392343],\n",
       "       [-0.78962611, -1.0683529 , -0.89274783, -0.31809848, -0.81753511,\n",
       "         1.99295515,  1.7303265 , -0.91442249,  0.61211583, -0.22100309,\n",
       "         0.324497  ,  0.21147927, -0.23585059],\n",
       "       [ 0.94855488, -0.5128614 ,  0.19099858, -1.03260018, -0.74926843,\n",
       "         0.45134052,  0.71577595, -0.5297646 ,  0.36263335,  0.23980317,\n",
       "         0.77758725,  0.39328323,  1.88374985]])"
      ]
     },
     "execution_count": 211,
     "metadata": {},
     "output_type": "execute_result"
    }
   ],
   "source": [
    "# Visualització de dades X test escalades\n",
    "X_test_stand"
   ]
  },
  {
   "cell_type": "markdown",
   "id": "5f89e4d4",
   "metadata": {},
   "source": [
    "Les dades escalades tenen una distribució normal amb una mitjana de 0 i una desviació estàndard igual a 1."
   ]
  },
  {
   "cell_type": "markdown",
   "id": "1b76f47e",
   "metadata": {},
   "source": [
    "### - Creació d'arbre de regressió*\n",
    "* La variable resposta (class_id) es tracta d'un nombre, de manera que l'arbre de classificació dóna error i, per tant, utilitzo el model de regressió de l'arbre de decisió. Aquest codi no és una resposa a l'exercici, però ja que l'he fet el presento com a material extra."
   ]
  },
  {
   "cell_type": "code",
   "execution_count": 212,
   "id": "607dfad1",
   "metadata": {},
   "outputs": [],
   "source": [
    "# Creo l'objecte regresor de l'arbre de decisió\n",
    "regressor = DecisionTreeRegressor(random_state=42)\n",
    "\n",
    "# Ajusto l'objecte regressor amb les dades del conjunt entrenament\n",
    "regressor = regressor.fit(X_train_stand, y_train)\n",
    "\n",
    "# Faig les prediccions de la variable resposta amb el conjunt de prova\n",
    "y_pred_dt = regressor.predict(X_test_stand)"
   ]
  },
  {
   "cell_type": "code",
   "execution_count": 213,
   "id": "5788208f",
   "metadata": {},
   "outputs": [
    {
     "name": "stdout",
     "output_type": "stream",
     "text": [
      "Les prediccions de 'class_id' són:\n",
      " [3. 3. 1. 1. 2. 3. 1. 2. 1. 2. 2. 1. 3. 3. 1. 2. 1. 2. 2. 3. 3. 3. 2. 3.\n",
      " 1. 2. 3. 2. 3. 3. 1. 2. 1. 2. 3. 2. 1. 1. 1. 3. 3. 1. 1. 2. 2. 1. 2. 1.\n",
      " 1. 3. 2. 2. 2. 1.]\n"
     ]
    }
   ],
   "source": [
    "print(\"Les prediccions de 'class_id' són:\\n\", y_pred_dt)"
   ]
  },
  {
   "cell_type": "code",
   "execution_count": 214,
   "id": "ab8d0654",
   "metadata": {},
   "outputs": [
    {
     "name": "stdout",
     "output_type": "stream",
     "text": [
      "La puntuació R2: 1.0\n"
     ]
    }
   ],
   "source": [
    "# Avaluació del model\n",
    "print(\"La puntuació R2:\",regressor.score(X_train_stand, y_train))"
   ]
  },
  {
   "cell_type": "code",
   "execution_count": 215,
   "id": "d48cb606",
   "metadata": {},
   "outputs": [
    {
     "name": "stdout",
     "output_type": "stream",
     "text": [
      "Accuracy: 0.9074074074074074\n"
     ]
    }
   ],
   "source": [
    "# Accuracy és del objecte classificador\n",
    "print(\"Accuracy:\",metrics.accuracy_score(y_test, y_pred_dt)) "
   ]
  },
  {
   "cell_type": "markdown",
   "id": "2e702fe5",
   "metadata": {},
   "source": [
    "### - Classificació usant model de regressió logística"
   ]
  },
  {
   "cell_type": "code",
   "execution_count": 216,
   "id": "dce613e4",
   "metadata": {},
   "outputs": [
    {
     "data": {
      "text/plain": [
       "array([0, 1, 1, 1, 2, 2, 0, 2, 1, 1, 1, 0, 2, 1, 1, 0, 1, 1, 1, 0, 1, 2,\n",
       "       0, 0, 1, 1, 2, 2, 2, 1, 0, 0, 2, 0, 0, 1, 0, 1, 0, 1, 2, 1, 1, 1,\n",
       "       1, 1, 1, 0, 2, 2, 2, 1, 1, 0, 0, 1, 0, 0, 0, 1, 2, 2, 1, 0, 2, 1,\n",
       "       2, 0, 2, 1, 0, 1, 0, 0, 1, 1, 0, 1, 1, 2, 2, 0, 1, 0, 2, 1, 2, 1,\n",
       "       1, 1, 1, 0, 2, 0, 2, 1, 0, 2, 0, 1, 0, 2, 0, 0, 2, 0, 1, 0, 0, 2,\n",
       "       0, 0, 1, 1, 1, 1, 2, 0, 1, 1, 2, 2, 1], dtype=int64)"
      ]
     },
     "execution_count": 216,
     "metadata": {},
     "output_type": "execute_result"
    }
   ],
   "source": [
    "# Converteixo els valors continus de la variable resposta en valors categòrics, usant la funció LabelEncoder() \n",
    "# i així evitar l'error \"ValueError: Unknown label type: 'continuous'\"\n",
    "lab = preprocessing.LabelEncoder()\n",
    "y_train_cat_lr = lab.fit_transform(y_train)\n",
    "y_train_cat_lr"
   ]
  },
  {
   "cell_type": "code",
   "execution_count": 217,
   "id": "9712062a",
   "metadata": {},
   "outputs": [
    {
     "name": "stdout",
     "output_type": "stream",
     "text": [
      "Les prediccions de 'class_id' són:\n",
      " [2 2 0 0 1 2 0 1 0 1 1 0 2 2 0 1 0 1 1 2 1 2 1 2 0 1 1 1 2 2 0 1 0 1 2 2 0\n",
      " 0 0 2 2 0 0 1 1 0 1 2 0 2 1 1 1 0]\n"
     ]
    }
   ],
   "source": [
    "lr = LogisticRegression().fit(X_train_stand, y_train_cat_lr)  \n",
    "y_pred_lr = lr.predict(X_test_stand)\n",
    "print(\"Les prediccions de 'class_id' són:\\n\", y_pred_lr)"
   ]
  },
  {
   "cell_type": "code",
   "execution_count": 218,
   "id": "d78f88d1",
   "metadata": {},
   "outputs": [
    {
     "data": {
      "text/plain": [
       "array([2, 2, 0, 0, 1, 2, 0, 1, 0, 1, 1, 0, 2, 2, 0, 1, 0, 1, 1, 2, 1, 2,\n",
       "       1, 2, 0, 2, 1, 1, 2, 2, 0, 1, 0, 1, 2, 2, 0, 0, 0, 2, 2, 0, 0, 1,\n",
       "       1, 0, 1, 2, 0, 2, 1, 1, 1, 0], dtype=int64)"
      ]
     },
     "execution_count": 218,
     "metadata": {},
     "output_type": "execute_result"
    }
   ],
   "source": [
    "# Converteixo els valors continus de la variable resposta en categòrics\n",
    "lab = preprocessing.LabelEncoder()\n",
    "y_test_cat_lr = lab.fit_transform(y_test)\n",
    "y_test_cat_lr #Valors categòrics"
   ]
  },
  {
   "cell_type": "markdown",
   "id": "2035fe1b",
   "metadata": {},
   "source": [
    "### - Classificació usant KNN\n",
    "En aquest cas, vull classificar els valors de malic_acid en grups, així que faré prediccions dels grups."
   ]
  },
  {
   "cell_type": "code",
   "execution_count": 219,
   "id": "c38b6baa",
   "metadata": {},
   "outputs": [],
   "source": [
    "# Preprocessat de dades per a la classificació\n",
    "\n",
    "# Creo 2 classes i les assigno a \"class_id_cat\"\n",
    "dfWine[\"class_id_cat\"] = pd.qcut(dfWine[\"class_id\"], 2, retbins=False, labels=[0, 1])\n",
    "y = dfWine[\"class_id_cat\"]\n",
    "X = dfWine.drop([\"class_id\", \"class_id_cat\"], axis = 1)"
   ]
  },
  {
   "cell_type": "code",
   "execution_count": 220,
   "id": "9430899d",
   "metadata": {},
   "outputs": [
    {
     "data": {
      "text/plain": [
       "0      0\n",
       "1      0\n",
       "2      0\n",
       "3      0\n",
       "4      0\n",
       "      ..\n",
       "172    1\n",
       "173    1\n",
       "174    1\n",
       "175    1\n",
       "176    1\n",
       "Name: class_id_cat, Length: 177, dtype: category\n",
       "Categories (2, int64): [0 < 1]"
      ]
     },
     "execution_count": 220,
     "metadata": {},
     "output_type": "execute_result"
    }
   ],
   "source": [
    "y"
   ]
  },
  {
   "cell_type": "code",
   "execution_count": 221,
   "id": "1a01ada4",
   "metadata": {},
   "outputs": [
    {
     "data": {
      "text/html": [
       "<div>\n",
       "<style scoped>\n",
       "    .dataframe tbody tr th:only-of-type {\n",
       "        vertical-align: middle;\n",
       "    }\n",
       "\n",
       "    .dataframe tbody tr th {\n",
       "        vertical-align: top;\n",
       "    }\n",
       "\n",
       "    .dataframe thead th {\n",
       "        text-align: right;\n",
       "    }\n",
       "</style>\n",
       "<table border=\"1\" class=\"dataframe\">\n",
       "  <thead>\n",
       "    <tr style=\"text-align: right;\">\n",
       "      <th></th>\n",
       "      <th>alcohol</th>\n",
       "      <th>malic_acid</th>\n",
       "      <th>ash</th>\n",
       "      <th>alcalinity_ash</th>\n",
       "      <th>magnesium</th>\n",
       "      <th>total_phenols</th>\n",
       "      <th>flavanoids</th>\n",
       "      <th>nonflav_phenols</th>\n",
       "      <th>cyanins</th>\n",
       "      <th>color_intens</th>\n",
       "      <th>hue</th>\n",
       "      <th>diluted_wines</th>\n",
       "      <th>proline</th>\n",
       "    </tr>\n",
       "  </thead>\n",
       "  <tbody>\n",
       "    <tr>\n",
       "      <th>0</th>\n",
       "      <td>13.20</td>\n",
       "      <td>1.78</td>\n",
       "      <td>2.14</td>\n",
       "      <td>11.2</td>\n",
       "      <td>100</td>\n",
       "      <td>2.65</td>\n",
       "      <td>2.76</td>\n",
       "      <td>0.26</td>\n",
       "      <td>1.28</td>\n",
       "      <td>4.38</td>\n",
       "      <td>1.05</td>\n",
       "      <td>3.40</td>\n",
       "      <td>1050</td>\n",
       "    </tr>\n",
       "    <tr>\n",
       "      <th>1</th>\n",
       "      <td>13.16</td>\n",
       "      <td>2.36</td>\n",
       "      <td>2.67</td>\n",
       "      <td>18.6</td>\n",
       "      <td>101</td>\n",
       "      <td>2.80</td>\n",
       "      <td>3.24</td>\n",
       "      <td>0.30</td>\n",
       "      <td>2.81</td>\n",
       "      <td>5.68</td>\n",
       "      <td>1.03</td>\n",
       "      <td>3.17</td>\n",
       "      <td>1185</td>\n",
       "    </tr>\n",
       "    <tr>\n",
       "      <th>2</th>\n",
       "      <td>14.37</td>\n",
       "      <td>1.95</td>\n",
       "      <td>2.50</td>\n",
       "      <td>16.8</td>\n",
       "      <td>113</td>\n",
       "      <td>3.85</td>\n",
       "      <td>3.49</td>\n",
       "      <td>0.24</td>\n",
       "      <td>2.18</td>\n",
       "      <td>7.80</td>\n",
       "      <td>0.86</td>\n",
       "      <td>3.45</td>\n",
       "      <td>1480</td>\n",
       "    </tr>\n",
       "  </tbody>\n",
       "</table>\n",
       "</div>"
      ],
      "text/plain": [
       "   alcohol  malic_acid   ash  alcalinity_ash  magnesium  total_phenols  \\\n",
       "0    13.20        1.78  2.14            11.2        100           2.65   \n",
       "1    13.16        2.36  2.67            18.6        101           2.80   \n",
       "2    14.37        1.95  2.50            16.8        113           3.85   \n",
       "\n",
       "   flavanoids  nonflav_phenols  cyanins  color_intens   hue  diluted_wines  \\\n",
       "0        2.76             0.26     1.28          4.38  1.05           3.40   \n",
       "1        3.24             0.30     2.81          5.68  1.03           3.17   \n",
       "2        3.49             0.24     2.18          7.80  0.86           3.45   \n",
       "\n",
       "   proline  \n",
       "0     1050  \n",
       "1     1185  \n",
       "2     1480  "
      ]
     },
     "execution_count": 221,
     "metadata": {},
     "output_type": "execute_result"
    }
   ],
   "source": [
    "X.head(3)"
   ]
  },
  {
   "cell_type": "code",
   "execution_count": 222,
   "id": "bc5af1be",
   "metadata": {},
   "outputs": [],
   "source": [
    "# Divisió de dades en conjunts train i test\n",
    "X_train, X_test, y_train, y_test = train_test_split(X, y, test_size=.3, random_state=42)"
   ]
  },
  {
   "cell_type": "code",
   "execution_count": 223,
   "id": "edcf2ae8",
   "metadata": {},
   "outputs": [
    {
     "data": {
      "text/html": [
       "<div>\n",
       "<style scoped>\n",
       "    .dataframe tbody tr th:only-of-type {\n",
       "        vertical-align: middle;\n",
       "    }\n",
       "\n",
       "    .dataframe tbody tr th {\n",
       "        vertical-align: top;\n",
       "    }\n",
       "\n",
       "    .dataframe thead th {\n",
       "        text-align: right;\n",
       "    }\n",
       "</style>\n",
       "<table border=\"1\" class=\"dataframe\">\n",
       "  <thead>\n",
       "    <tr style=\"text-align: right;\">\n",
       "      <th></th>\n",
       "      <th>alcohol</th>\n",
       "      <th>malic_acid</th>\n",
       "      <th>ash</th>\n",
       "      <th>alcalinity_ash</th>\n",
       "      <th>magnesium</th>\n",
       "      <th>total_phenols</th>\n",
       "      <th>flavanoids</th>\n",
       "      <th>nonflav_phenols</th>\n",
       "      <th>cyanins</th>\n",
       "      <th>color_intens</th>\n",
       "      <th>hue</th>\n",
       "      <th>diluted_wines</th>\n",
       "      <th>proline</th>\n",
       "    </tr>\n",
       "  </thead>\n",
       "  <tbody>\n",
       "    <tr>\n",
       "      <th>128</th>\n",
       "      <td>12.04</td>\n",
       "      <td>4.30</td>\n",
       "      <td>2.38</td>\n",
       "      <td>22.0</td>\n",
       "      <td>80</td>\n",
       "      <td>2.10</td>\n",
       "      <td>1.75</td>\n",
       "      <td>0.42</td>\n",
       "      <td>1.35</td>\n",
       "      <td>2.60</td>\n",
       "      <td>0.79</td>\n",
       "      <td>2.57</td>\n",
       "      <td>580</td>\n",
       "    </tr>\n",
       "    <tr>\n",
       "      <th>104</th>\n",
       "      <td>12.42</td>\n",
       "      <td>2.55</td>\n",
       "      <td>2.27</td>\n",
       "      <td>22.0</td>\n",
       "      <td>90</td>\n",
       "      <td>1.68</td>\n",
       "      <td>1.84</td>\n",
       "      <td>0.66</td>\n",
       "      <td>1.42</td>\n",
       "      <td>2.70</td>\n",
       "      <td>0.86</td>\n",
       "      <td>3.30</td>\n",
       "      <td>315</td>\n",
       "    </tr>\n",
       "    <tr>\n",
       "      <th>78</th>\n",
       "      <td>12.70</td>\n",
       "      <td>3.87</td>\n",
       "      <td>2.40</td>\n",
       "      <td>23.0</td>\n",
       "      <td>101</td>\n",
       "      <td>2.83</td>\n",
       "      <td>2.55</td>\n",
       "      <td>0.43</td>\n",
       "      <td>1.95</td>\n",
       "      <td>2.57</td>\n",
       "      <td>1.19</td>\n",
       "      <td>3.13</td>\n",
       "      <td>463</td>\n",
       "    </tr>\n",
       "    <tr>\n",
       "      <th>36</th>\n",
       "      <td>13.05</td>\n",
       "      <td>1.65</td>\n",
       "      <td>2.55</td>\n",
       "      <td>18.0</td>\n",
       "      <td>98</td>\n",
       "      <td>2.45</td>\n",
       "      <td>2.43</td>\n",
       "      <td>0.29</td>\n",
       "      <td>1.44</td>\n",
       "      <td>4.25</td>\n",
       "      <td>1.12</td>\n",
       "      <td>2.51</td>\n",
       "      <td>1105</td>\n",
       "    </tr>\n",
       "    <tr>\n",
       "      <th>93</th>\n",
       "      <td>11.62</td>\n",
       "      <td>1.99</td>\n",
       "      <td>2.28</td>\n",
       "      <td>18.0</td>\n",
       "      <td>98</td>\n",
       "      <td>3.02</td>\n",
       "      <td>2.26</td>\n",
       "      <td>0.17</td>\n",
       "      <td>1.35</td>\n",
       "      <td>3.25</td>\n",
       "      <td>1.16</td>\n",
       "      <td>2.96</td>\n",
       "      <td>345</td>\n",
       "    </tr>\n",
       "    <tr>\n",
       "      <th>...</th>\n",
       "      <td>...</td>\n",
       "      <td>...</td>\n",
       "      <td>...</td>\n",
       "      <td>...</td>\n",
       "      <td>...</td>\n",
       "      <td>...</td>\n",
       "      <td>...</td>\n",
       "      <td>...</td>\n",
       "      <td>...</td>\n",
       "      <td>...</td>\n",
       "      <td>...</td>\n",
       "      <td>...</td>\n",
       "      <td>...</td>\n",
       "    </tr>\n",
       "    <tr>\n",
       "      <th>71</th>\n",
       "      <td>13.49</td>\n",
       "      <td>1.66</td>\n",
       "      <td>2.24</td>\n",
       "      <td>24.0</td>\n",
       "      <td>87</td>\n",
       "      <td>1.88</td>\n",
       "      <td>1.84</td>\n",
       "      <td>0.27</td>\n",
       "      <td>1.03</td>\n",
       "      <td>3.74</td>\n",
       "      <td>0.98</td>\n",
       "      <td>2.78</td>\n",
       "      <td>472</td>\n",
       "    </tr>\n",
       "    <tr>\n",
       "      <th>106</th>\n",
       "      <td>12.72</td>\n",
       "      <td>1.75</td>\n",
       "      <td>2.28</td>\n",
       "      <td>22.5</td>\n",
       "      <td>84</td>\n",
       "      <td>1.38</td>\n",
       "      <td>1.76</td>\n",
       "      <td>0.48</td>\n",
       "      <td>1.63</td>\n",
       "      <td>3.30</td>\n",
       "      <td>0.88</td>\n",
       "      <td>2.42</td>\n",
       "      <td>488</td>\n",
       "    </tr>\n",
       "    <tr>\n",
       "      <th>14</th>\n",
       "      <td>13.63</td>\n",
       "      <td>1.81</td>\n",
       "      <td>2.70</td>\n",
       "      <td>17.2</td>\n",
       "      <td>112</td>\n",
       "      <td>2.85</td>\n",
       "      <td>2.91</td>\n",
       "      <td>0.30</td>\n",
       "      <td>1.46</td>\n",
       "      <td>7.30</td>\n",
       "      <td>1.28</td>\n",
       "      <td>2.88</td>\n",
       "      <td>1310</td>\n",
       "    </tr>\n",
       "    <tr>\n",
       "      <th>92</th>\n",
       "      <td>12.29</td>\n",
       "      <td>2.83</td>\n",
       "      <td>2.22</td>\n",
       "      <td>18.0</td>\n",
       "      <td>88</td>\n",
       "      <td>2.45</td>\n",
       "      <td>2.25</td>\n",
       "      <td>0.25</td>\n",
       "      <td>1.99</td>\n",
       "      <td>2.15</td>\n",
       "      <td>1.15</td>\n",
       "      <td>3.30</td>\n",
       "      <td>290</td>\n",
       "    </tr>\n",
       "    <tr>\n",
       "      <th>102</th>\n",
       "      <td>11.82</td>\n",
       "      <td>1.72</td>\n",
       "      <td>1.88</td>\n",
       "      <td>19.5</td>\n",
       "      <td>86</td>\n",
       "      <td>2.50</td>\n",
       "      <td>1.64</td>\n",
       "      <td>0.37</td>\n",
       "      <td>1.42</td>\n",
       "      <td>2.06</td>\n",
       "      <td>0.94</td>\n",
       "      <td>2.44</td>\n",
       "      <td>415</td>\n",
       "    </tr>\n",
       "  </tbody>\n",
       "</table>\n",
       "<p>123 rows × 13 columns</p>\n",
       "</div>"
      ],
      "text/plain": [
       "     alcohol  malic_acid   ash  alcalinity_ash  magnesium  total_phenols  \\\n",
       "128    12.04        4.30  2.38            22.0         80           2.10   \n",
       "104    12.42        2.55  2.27            22.0         90           1.68   \n",
       "78     12.70        3.87  2.40            23.0        101           2.83   \n",
       "36     13.05        1.65  2.55            18.0         98           2.45   \n",
       "93     11.62        1.99  2.28            18.0         98           3.02   \n",
       "..       ...         ...   ...             ...        ...            ...   \n",
       "71     13.49        1.66  2.24            24.0         87           1.88   \n",
       "106    12.72        1.75  2.28            22.5         84           1.38   \n",
       "14     13.63        1.81  2.70            17.2        112           2.85   \n",
       "92     12.29        2.83  2.22            18.0         88           2.45   \n",
       "102    11.82        1.72  1.88            19.5         86           2.50   \n",
       "\n",
       "     flavanoids  nonflav_phenols  cyanins  color_intens   hue  diluted_wines  \\\n",
       "128        1.75             0.42     1.35          2.60  0.79           2.57   \n",
       "104        1.84             0.66     1.42          2.70  0.86           3.30   \n",
       "78         2.55             0.43     1.95          2.57  1.19           3.13   \n",
       "36         2.43             0.29     1.44          4.25  1.12           2.51   \n",
       "93         2.26             0.17     1.35          3.25  1.16           2.96   \n",
       "..          ...              ...      ...           ...   ...            ...   \n",
       "71         1.84             0.27     1.03          3.74  0.98           2.78   \n",
       "106        1.76             0.48     1.63          3.30  0.88           2.42   \n",
       "14         2.91             0.30     1.46          7.30  1.28           2.88   \n",
       "92         2.25             0.25     1.99          2.15  1.15           3.30   \n",
       "102        1.64             0.37     1.42          2.06  0.94           2.44   \n",
       "\n",
       "     proline  \n",
       "128      580  \n",
       "104      315  \n",
       "78       463  \n",
       "36      1105  \n",
       "93       345  \n",
       "..       ...  \n",
       "71       472  \n",
       "106      488  \n",
       "14      1310  \n",
       "92       290  \n",
       "102      415  \n",
       "\n",
       "[123 rows x 13 columns]"
      ]
     },
     "execution_count": 223,
     "metadata": {},
     "output_type": "execute_result"
    }
   ],
   "source": [
    "X_train"
   ]
  },
  {
   "cell_type": "code",
   "execution_count": 224,
   "id": "a64f1029",
   "metadata": {},
   "outputs": [
    {
     "data": {
      "text/plain": [
       "19     0\n",
       "45     0\n",
       "139    1\n",
       "30     0\n",
       "67     0\n",
       "Name: class_id_cat, dtype: category\n",
       "Categories (2, int64): [0 < 1]"
      ]
     },
     "execution_count": 224,
     "metadata": {},
     "output_type": "execute_result"
    }
   ],
   "source": [
    "y_test.head()"
   ]
  },
  {
   "cell_type": "code",
   "execution_count": 225,
   "id": "cfaa87dd",
   "metadata": {},
   "outputs": [],
   "source": [
    "# Escalat estàndard de les característiques per a la classificació\n",
    "sc = StandardScaler()\n",
    "sc.fit(X_train)\n",
    "\n",
    "X_train_sc = sc.transform(X_train)\n",
    "X_test_sc = sc.transform(X_test)"
   ]
  },
  {
   "cell_type": "code",
   "execution_count": 226,
   "id": "d32708e7",
   "metadata": {},
   "outputs": [
    {
     "data": {
      "text/plain": [
       "KNeighborsClassifier()"
      ]
     },
     "execution_count": 226,
     "metadata": {},
     "output_type": "execute_result"
    }
   ],
   "source": [
    "# Entrenament i predicció per a la classificació\n",
    "classifier = KNeighborsClassifier()   #Com no hi ha cap argument, usarà 5 veïns per defecte \n",
    "classifier.fit(X_train_sc, y_train)"
   ]
  },
  {
   "cell_type": "code",
   "execution_count": 227,
   "id": "52a70978",
   "metadata": {},
   "outputs": [
    {
     "name": "stdout",
     "output_type": "stream",
     "text": [
      "Les prediccions de les classes de malic_acid són:\n",
      " [0 0 1 0 1 0 0 1 0 1 0 1 0 0 0 0 0 1 0 0 0 0 0 1 1 1 1 0 0 0 0 0 1 0 0 0 1\n",
      " 1 0 1 0 0 0 0 1 0 0 0 1 0 0 0 0 1]\n"
     ]
    }
   ],
   "source": [
    "# Prediccions de les classes del malic_acid del conjunt de dades test\n",
    "y_pred_knn = classifier.predict(X_test_sc)\n",
    "print(\"Les prediccions de les classes de malic_acid són:\\n\", y_pred_knn)"
   ]
  },
  {
   "cell_type": "markdown",
   "id": "ec173c82",
   "metadata": {},
   "source": [
    "### - Classificació usant Support Vector Machines (SVM)\n",
    "Usant aquest model vull predir els valors de la variable malic_acid."
   ]
  },
  {
   "cell_type": "code",
   "execution_count": 228,
   "id": "533358b8",
   "metadata": {},
   "outputs": [
    {
     "data": {
      "text/html": [
       "<div>\n",
       "<style scoped>\n",
       "    .dataframe tbody tr th:only-of-type {\n",
       "        vertical-align: middle;\n",
       "    }\n",
       "\n",
       "    .dataframe tbody tr th {\n",
       "        vertical-align: top;\n",
       "    }\n",
       "\n",
       "    .dataframe thead th {\n",
       "        text-align: right;\n",
       "    }\n",
       "</style>\n",
       "<table border=\"1\" class=\"dataframe\">\n",
       "  <thead>\n",
       "    <tr style=\"text-align: right;\">\n",
       "      <th></th>\n",
       "      <th>class_id</th>\n",
       "      <th>alcohol</th>\n",
       "      <th>malic_acid</th>\n",
       "      <th>ash</th>\n",
       "      <th>alcalinity_ash</th>\n",
       "      <th>magnesium</th>\n",
       "      <th>total_phenols</th>\n",
       "      <th>flavanoids</th>\n",
       "      <th>nonflav_phenols</th>\n",
       "      <th>cyanins</th>\n",
       "      <th>color_intens</th>\n",
       "      <th>hue</th>\n",
       "      <th>diluted_wines</th>\n",
       "      <th>proline</th>\n",
       "      <th>class_id_cat</th>\n",
       "    </tr>\n",
       "  </thead>\n",
       "  <tbody>\n",
       "    <tr>\n",
       "      <th>0</th>\n",
       "      <td>1</td>\n",
       "      <td>13.20</td>\n",
       "      <td>1.78</td>\n",
       "      <td>2.14</td>\n",
       "      <td>11.2</td>\n",
       "      <td>100</td>\n",
       "      <td>2.65</td>\n",
       "      <td>2.76</td>\n",
       "      <td>0.26</td>\n",
       "      <td>1.28</td>\n",
       "      <td>4.38</td>\n",
       "      <td>1.05</td>\n",
       "      <td>3.40</td>\n",
       "      <td>1050</td>\n",
       "      <td>0</td>\n",
       "    </tr>\n",
       "    <tr>\n",
       "      <th>1</th>\n",
       "      <td>1</td>\n",
       "      <td>13.16</td>\n",
       "      <td>2.36</td>\n",
       "      <td>2.67</td>\n",
       "      <td>18.6</td>\n",
       "      <td>101</td>\n",
       "      <td>2.80</td>\n",
       "      <td>3.24</td>\n",
       "      <td>0.30</td>\n",
       "      <td>2.81</td>\n",
       "      <td>5.68</td>\n",
       "      <td>1.03</td>\n",
       "      <td>3.17</td>\n",
       "      <td>1185</td>\n",
       "      <td>0</td>\n",
       "    </tr>\n",
       "    <tr>\n",
       "      <th>2</th>\n",
       "      <td>1</td>\n",
       "      <td>14.37</td>\n",
       "      <td>1.95</td>\n",
       "      <td>2.50</td>\n",
       "      <td>16.8</td>\n",
       "      <td>113</td>\n",
       "      <td>3.85</td>\n",
       "      <td>3.49</td>\n",
       "      <td>0.24</td>\n",
       "      <td>2.18</td>\n",
       "      <td>7.80</td>\n",
       "      <td>0.86</td>\n",
       "      <td>3.45</td>\n",
       "      <td>1480</td>\n",
       "      <td>0</td>\n",
       "    </tr>\n",
       "    <tr>\n",
       "      <th>3</th>\n",
       "      <td>1</td>\n",
       "      <td>13.24</td>\n",
       "      <td>2.59</td>\n",
       "      <td>2.87</td>\n",
       "      <td>21.0</td>\n",
       "      <td>118</td>\n",
       "      <td>2.80</td>\n",
       "      <td>2.69</td>\n",
       "      <td>0.39</td>\n",
       "      <td>1.82</td>\n",
       "      <td>4.32</td>\n",
       "      <td>1.04</td>\n",
       "      <td>2.93</td>\n",
       "      <td>735</td>\n",
       "      <td>0</td>\n",
       "    </tr>\n",
       "  </tbody>\n",
       "</table>\n",
       "</div>"
      ],
      "text/plain": [
       "   class_id  alcohol  malic_acid   ash  alcalinity_ash  magnesium  \\\n",
       "0         1    13.20        1.78  2.14            11.2        100   \n",
       "1         1    13.16        2.36  2.67            18.6        101   \n",
       "2         1    14.37        1.95  2.50            16.8        113   \n",
       "3         1    13.24        2.59  2.87            21.0        118   \n",
       "\n",
       "   total_phenols  flavanoids  nonflav_phenols  cyanins  color_intens   hue  \\\n",
       "0           2.65        2.76             0.26     1.28          4.38  1.05   \n",
       "1           2.80        3.24             0.30     2.81          5.68  1.03   \n",
       "2           3.85        3.49             0.24     2.18          7.80  0.86   \n",
       "3           2.80        2.69             0.39     1.82          4.32  1.04   \n",
       "\n",
       "   diluted_wines  proline class_id_cat  \n",
       "0           3.40     1050            0  \n",
       "1           3.17     1185            0  \n",
       "2           3.45     1480            0  \n",
       "3           2.93      735            0  "
      ]
     },
     "execution_count": 228,
     "metadata": {},
     "output_type": "execute_result"
    }
   ],
   "source": [
    "dfWine.head(4)"
   ]
  },
  {
   "cell_type": "code",
   "execution_count": 229,
   "id": "e85fe823",
   "metadata": {},
   "outputs": [
    {
     "name": "stdout",
     "output_type": "stream",
     "text": [
      "<class 'pandas.core.frame.DataFrame'>\n",
      "RangeIndex: 177 entries, 0 to 176\n",
      "Data columns (total 15 columns):\n",
      " #   Column           Non-Null Count  Dtype   \n",
      "---  ------           --------------  -----   \n",
      " 0   class_id         177 non-null    int64   \n",
      " 1   alcohol          177 non-null    float64 \n",
      " 2   malic_acid       177 non-null    float64 \n",
      " 3   ash              177 non-null    float64 \n",
      " 4   alcalinity_ash   177 non-null    float64 \n",
      " 5   magnesium        177 non-null    int64   \n",
      " 6   total_phenols    177 non-null    float64 \n",
      " 7   flavanoids       177 non-null    float64 \n",
      " 8   nonflav_phenols  177 non-null    float64 \n",
      " 9   cyanins          177 non-null    float64 \n",
      " 10  color_intens     177 non-null    float64 \n",
      " 11  hue              177 non-null    float64 \n",
      " 12  diluted_wines    177 non-null    float64 \n",
      " 13  proline          177 non-null    int64   \n",
      " 14  class_id_cat     177 non-null    category\n",
      "dtypes: category(1), float64(11), int64(3)\n",
      "memory usage: 19.8 KB\n"
     ]
    }
   ],
   "source": [
    "dfWine.info()"
   ]
  },
  {
   "cell_type": "code",
   "execution_count": 230,
   "id": "e38afb0c",
   "metadata": {},
   "outputs": [],
   "source": [
    "# Divisió de dades en conjunts train i test\n",
    "X_train, X_test, y_train, y_test = train_test_split(\n",
    "                                        dfWine.drop('class_id', axis = 'columns'),\n",
    "                                        dfWine['class_id'],\n",
    "                                        train_size=.7,               # 70% train i 30% test\n",
    "                                        random_state=42,\n",
    "                                    #    stratify=y\n",
    "                                        shuffle=True\n",
    "                                    )                                                 "
   ]
  },
  {
   "cell_type": "code",
   "execution_count": 231,
   "id": "dbf357d8",
   "metadata": {},
   "outputs": [
    {
     "data": {
      "text/plain": [
       "128    2\n",
       "104    2\n",
       "78     2\n",
       "36     1\n",
       "93     2\n",
       "      ..\n",
       "71     2\n",
       "106    2\n",
       "14     1\n",
       "92     2\n",
       "102    2\n",
       "Name: class_id, Length: 123, dtype: int64"
      ]
     },
     "execution_count": 231,
     "metadata": {},
     "output_type": "execute_result"
    }
   ],
   "source": [
    "y_train"
   ]
  },
  {
   "cell_type": "code",
   "execution_count": 232,
   "id": "b19c5230",
   "metadata": {},
   "outputs": [],
   "source": [
    "# Escalat estàndard de les característiques per a la classificació\n",
    "sc = StandardScaler()\n",
    "sc.fit(X_train)\n",
    "\n",
    "X_train_sc_svm = sc.transform(X_train)\n",
    "X_test_sc_svm = sc.transform(X_test)"
   ]
  },
  {
   "cell_type": "code",
   "execution_count": 234,
   "id": "05ccf51e",
   "metadata": {},
   "outputs": [
    {
     "data": {
      "text/plain": [
       "array([1, 1, 1, 0, 1, 0, 2, 1, 1, 2, 0, 0, 0, 2, 0, 0, 1, 2, 1, 0, 2, 1,\n",
       "       0, 2, 1, 1, 0, 1, 0, 0, 1, 0, 0, 2, 1, 1, 1, 0, 1, 1, 1, 2, 2, 0,\n",
       "       1, 2, 2, 1, 1, 0, 1, 2, 2, 1, 2, 1, 1, 1, 0, 0, 2, 0, 2, 0, 0, 1,\n",
       "       1, 0, 0, 0, 0, 1, 2, 1, 1, 1, 2, 2, 1, 0, 0, 1, 2, 2, 0, 1, 2, 2,\n",
       "       2, 2, 1, 0, 1, 0, 2, 1, 0, 1, 0, 0, 2, 2, 0, 2, 2, 0, 0, 2, 2, 2,\n",
       "       1, 1, 1, 1, 1, 1, 2, 0, 1, 1, 0, 1, 1], dtype=int64)"
      ]
     },
     "execution_count": 234,
     "metadata": {},
     "output_type": "execute_result"
    }
   ],
   "source": [
    "# Converteixo els valors continus de la variable resposta en valors categòrics, usant la funció LabelEncoder() \n",
    "# i així evitar l'error \"ValueError: Unknown label type: 'continuous'\"\n",
    "lab = preprocessing.LabelEncoder()\n",
    "y_train_cat_svm = lab.fit_transform(y_train)\n",
    "y_train_cat_svm"
   ]
  },
  {
   "cell_type": "code",
   "execution_count": 235,
   "id": "af160193",
   "metadata": {},
   "outputs": [],
   "source": [
    "clf = SVC(kernel='linear')\n",
    "\n",
    "# Ajusto el model usant els conjunts train\n",
    "clf.fit(X_train_sc_svm, y_train_cat_svm)\n",
    "\n",
    "# Predicció dels valors (categòrics) de la variable resposta \"malic_acid\" en el conjunt prova \n",
    "y_pred_svm = clf.predict(X_test_sc_svm)"
   ]
  },
  {
   "cell_type": "code",
   "execution_count": 236,
   "id": "954f2fa8",
   "metadata": {},
   "outputs": [
    {
     "name": "stdout",
     "output_type": "stream",
     "text": [
      "Les prediccions de 'class_id' són:\n",
      " [0 0 2 0 0 0 1 2 1 2 0 2 0 1 0 1 1 1 0 1 0 1 1 2 2 2 1 1 1 0 0 1 2 0 0 0 2\n",
      " 2 1 2 0 1 1 1 2 0 1 1 2 0 1 0 0 2]\n"
     ]
    }
   ],
   "source": [
    "print(\"Les prediccions de 'class_id' són:\\n\", y_pred_svm)"
   ]
  },
  {
   "cell_type": "markdown",
   "id": "c4384ae8",
   "metadata": {},
   "source": [
    "# Exercici 2\n",
    "Compara els models de classificació utilitzant la precisió (accuracy), una matriu de confusió i d’altres mètriques més\n",
    "avançades."
   ]
  },
  {
   "cell_type": "code",
   "execution_count": 237,
   "id": "25dca238",
   "metadata": {},
   "outputs": [],
   "source": [
    "# Importació de biblioteques\n",
    "from sklearn.metrics import confusion_matrix\n",
    "from sklearn.metrics import ConfusionMatrixDisplay\n",
    "import matplotlib.pyplot as plt\n",
    "import seaborn as sns\n",
    "\n",
    "from sklearn.metrics import roc_curve\n",
    "from sklearn.metrics import RocCurveDisplay\n",
    "from sklearn.preprocessing import LabelBinarizer"
   ]
  },
  {
   "cell_type": "markdown",
   "id": "0c8144ef",
   "metadata": {},
   "source": [
    "### - Avaluació del model regressió logística"
   ]
  },
  {
   "cell_type": "code",
   "execution_count": 240,
   "id": "dc265f79",
   "metadata": {},
   "outputs": [
    {
     "name": "stdout",
     "output_type": "stream",
     "text": [
      "L'accuracy (regressió logística) és: 0.9814814814814815\n"
     ]
    }
   ],
   "source": [
    "# Càlcul de Accuracy (exactitud)\n",
    "# Importo el módul scikit-learn metrics per calcular Accuracy\n",
    "\n",
    "print(\"L'accuracy (regressió logística) és:\", metrics.accuracy_score(y_test_cat_lr, y_pred_lr))"
   ]
  },
  {
   "cell_type": "markdown",
   "id": "edd72024",
   "metadata": {},
   "source": [
    "L'accuracy per regressió logística és 98,1%"
   ]
  },
  {
   "cell_type": "code",
   "execution_count": 241,
   "id": "48ef6f3c",
   "metadata": {},
   "outputs": [
    {
     "name": "stdout",
     "output_type": "stream",
     "text": [
      "[[18  0  0]\n",
      " [ 0 19  0]\n",
      " [ 0  1 16]]\n"
     ]
    }
   ],
   "source": [
    "# Determinació de matriu de confusió\n",
    "\n",
    "y_test_cat_lr\n",
    "y_pred_lr\n",
    "c_matrix_lr = confusion_matrix(y_test_cat_lr, y_pred_lr)\n",
    "print(c_matrix_lr)"
   ]
  },
  {
   "cell_type": "code",
   "execution_count": 242,
   "id": "ebf5108d",
   "metadata": {},
   "outputs": [
    {
     "data": {
      "image/png": "[encoded data removed]",
      "text/plain": [
       "<Figure size 432x288 with 2 Axes>"
      ]
     },
     "metadata": {
      "needs_background": "light"
     },
     "output_type": "display_data"
    }
   ],
   "source": [
    "# Traçat de la matriu de confusió a partir dels valors de la variable resposta reals i predits\n",
    "c_matrix_lr = ConfusionMatrixDisplay.from_predictions(y_test_cat_lr, y_pred_lr)\n",
    "plt.title(\"Confusion matrix LR\\n\")\n",
    "plt.show()"
   ]
  },
  {
   "cell_type": "code",
   "execution_count": 243,
   "id": "4afc9e9e",
   "metadata": {
    "scrolled": false
   },
   "outputs": [
    {
     "data": {
      "text/plain": [
       "array([[-0.04649076,  0.93478313, -0.01875879, -0.31809848,  0.41126512,\n",
       "        -1.57621786, -1.39530903,  0.31648275, -1.18772202,  0.10575044,\n",
       "        -1.1583438 , -1.21498252, -0.18767785],\n",
       "       [ 0.65885805,  0.69912007,  1.27474499,  1.11090492, -0.203135  ,\n",
       "        -1.30811097, -1.57977276,  1.08579853, -1.88270891, -0.2838403 ,\n",
       "        -0.29335333, -0.78145002, -0.6854628 ],\n",
       "       [ 0.79740871, -0.44552909,  1.20482587, -0.68963937,  0.82086519,\n",
       "         0.87025754,  0.86949573, -0.45283303, -0.26107283,  0.9519583 ,\n",
       "         1.31305754,  0.36531339,  1.85163469],\n",
       "       [ 1.74207229,  1.05261466, -0.26347572, -1.03260018,  0.1381984 ,\n",
       "         1.54052477,  1.13594335, -0.68362776,  1.03980007, -0.05343717,\n",
       "         0.324497  ,  1.14846888,  1.06481331],\n",
       "       [-1.15489603, -1.01785367,  0.5405942 ,  1.25380526, -1.50020191,\n",
       "        -0.55406033, -0.49348632,  0.31648275, -0.36799389, -1.18450709,\n",
       "         1.43662761,  0.14155467, -0.33219606],\n",
       "       [-0.688862  ,  0.58128853,  0.9950685 ,  2.1112073 , -0.203135  ,\n",
       "        -0.72162714, -1.51828485,  2.08590903, -0.83131849,  1.03574126,\n",
       "        -1.19953382, -1.24295236,  0.47068289],\n",
       "       [ 0.38175673, -0.52127793, -0.75290958, -0.7467995 , -0.40793504,\n",
       "         0.1162069 ,  0.13164079, -0.68362776, -0.45709478, -0.45140622,\n",
       "         0.24211696,  0.21147927,  1.77134679],\n",
       "       [-1.68390764, -0.38661333, -1.52201994, -1.03260018, -0.203135  ,\n",
       "        -1.20757088, -0.5037343 , -0.14510672, -0.81349831, -0.51424343,\n",
       "         1.10710743, -0.66957066, -0.98092226],\n",
       "       [ 0.20541953,  0.01738049,  1.09994718, -0.28951841,  0.06993172,\n",
       "         0.78647413,  1.20767925, -0.45283303,  2.14465102,  0.27331635,\n",
       "         0.28330698,  0.77087605,  1.45019521],\n",
       "       [-1.45718838,  0.463457  , -0.43827353, -0.46099882,  0.82086519,\n",
       "        -1.02324739, -0.75993394,  0.54727748, -1.16990184, -0.99599543,\n",
       "        -0.00502317, -0.13814372, -0.74969312],\n",
       "       [-1.25566015, -0.69802523,  0.22595814,  0.6822039 , -0.95406847,\n",
       "        -1.47567778, -0.83166983,  1.08579853,  0.04187017, -0.59802639,\n",
       "         0.36568703,  0.04366024, -0.91026891],\n",
       "       [ 0.81000422,  0.6402043 ,  0.71539201, -1.26124073,  1.09393191,\n",
       "         0.61890732,  0.99247155, -1.45294353,  0.0953307 ,  0.03034578,\n",
       "        -0.00502317,  1.03658953,  0.35827984],\n",
       "       [-1.00374986,  0.58128853, -0.12363747, -0.17519814, -0.27140168,\n",
       "        -1.81081139, -1.61051672,  0.31648275, -1.56194573,  0.19791169,\n",
       "        -1.24072384, -1.10310317, -0.71757796],\n",
       "       [ 0.57068945,  1.14519658,  0.85523025,  0.96800458,  0.75259851,\n",
       "        -1.05676076, -1.16985335,  0.54727748, -0.26107283,  2.36789026,\n",
       "        -0.45811342, -1.480696  , -0.12344753],\n",
       "       [ 0.64626253, -0.45394563,  1.03002806, -0.17519814,  0.68433184,\n",
       "         0.0324235 ,  0.48007229, -0.5297646 , -0.11851142, -0.34667752,\n",
       "         0.57163714,  0.35132847,  1.16115879],\n",
       "       [-0.94077229, -0.5128614 , -0.82282871, -0.17519814, -1.36366855,\n",
       "        -1.14054416, -0.03232698,  0.08568802,  0.04187017, -0.68180935,\n",
       "         0.15973692,  0.77087605, -0.71757796],\n",
       "       [ 1.18786966, -0.5128614 , -0.29843528, -0.63247923,  0.54779848,\n",
       "         0.92052758,  1.51511881, -0.29896987,  0.84377812,  1.62222195,\n",
       "         0.65401718,  0.67298162,  1.6910589 ],\n",
       "       [-1.48237941, -0.52127793, -1.66185819, -0.0322978 , -0.95406847,\n",
       "         0.28377371, -0.43199841,  0.08568802, -0.33235354, -1.24315515,\n",
       "        -0.08740322, -0.25002307, -1.02267196],\n",
       "       [-1.7342897 , -0.29403141, -0.26347572, -0.46099882, -0.13486832,\n",
       "         1.15512111,  0.20337668, -1.45294353, -0.45709478, -0.74464656,\n",
       "         0.81877727,  0.47719274, -1.24747807],\n",
       "       [ 0.10465541,  1.31352733,  0.01620077,  0.53930356,  0.88913187,\n",
       "        -1.5427045 , -0.68819804, -0.14510672, -0.83131849,  1.83167934,\n",
       "        -1.61143404, -1.80234915, -0.58911733],\n",
       "       [-0.38656965, -0.68119216, -0.33339484,  0.31066302, -1.36366855,\n",
       "        -1.59297454, -0.61646214,  1.70125115,  0.02404999, -0.82842952,\n",
       "        -0.00502317, -0.78145002, -0.7657507 ],\n",
       "       [ 0.92336385,  1.70068808, -0.33339484,  0.82510424, -0.81753511,\n",
       "        -1.76054135, -1.63101269,  1.23966168, -0.81349831,  0.66709625,\n",
       "        -0.74644357, -1.21498252, -0.6854628 ],\n",
       "       [-1.41940184,  1.65860539,  0.12107946,  0.39640322, -1.22713519,\n",
       "         0.88701422,  0.99247155, -1.14521722,  2.32285279, -0.93315822,\n",
       "        -0.87001364,  1.42816727, -1.13507501],\n",
       "       [ 0.73443114,  0.20254433,  1.16986631,  1.3967056 ,  0.34299844,\n",
       "        -1.30811097, -1.25183723,  0.23955117, -0.11851142,  1.5216824 ,\n",
       "        -0.91120366, -1.14505793,  0.05318583],\n",
       "       [ 1.33901583, -0.1593668 ,  0.89018981, -0.57531909,  1.43526531,\n",
       "         0.45134052,  0.45957632, -0.37590145, -0.63529654,  0.00940004,\n",
       "         0.40687705,  1.34425776,  1.80346195],\n",
       "       [-0.61328891, -0.92527175, -0.36835441, -0.60389916, -1.02233515,\n",
       "        -0.55406033, -1.51828485,  1.8551143 , -0.63529654,  0.17696596,\n",
       "        -0.87001364, -1.55062059, -0.26796575],\n",
       "       [-0.89039023, -0.61385985, -0.50819265,  0.22492281,  0.20646508,\n",
       "        -2.0621616 , -1.0673735 ,  0.08568802, -0.26107283, -0.82842952,\n",
       "        -0.22744929, -1.11708809,  0.43856773],\n",
       "       [-0.89039023,  0.41295778, -0.47323309, -0.46099882, -0.81753511,\n",
       "         0.1999903 ,  0.1931287 , -0.83749091,  0.68339653, -1.20545282,\n",
       "         0.77758725,  0.95268001, -1.42411144],\n",
       "       [ 0.78481319,  2.19726382, -0.01875879,  0.11060254, -0.54446839,\n",
       "        -0.55406033, -1.29282917,  0.85500379, -1.04516061, -0.26289457,\n",
       "        -0.21097328, -0.79543494, -0.58911733],\n",
       "       [-0.94077229,  1.29669426, -0.54315221, -0.31809848,  0.82086519,\n",
       "        -1.59297454, -1.31332514, -0.5297646 , -0.83131849,  1.33317075,\n",
       "        -1.28191386, -0.86535954,  0.39039499],\n",
       "       [ 1.38939789, -0.2687818 ,  0.15603902, -0.23235828,  0.20646508,\n",
       "         0.70269073,  0.87974372, -0.29896987,  1.37838342,  0.49115204,\n",
       "         0.44806707,  0.18350943,  1.04875574],\n",
       "       [-0.84000817, -1.1356852 , -1.41714126, -1.375561  ,  2.4592655 ,\n",
       "        -0.72162714, -0.21679071, -0.06817514,  2.05555014, -0.68180935,\n",
       "         0.40687705, -0.43182703,  0.05318583],\n",
       "       [ 2.20810633, -0.5128614 ,  0.12107946, -2.34728331, -0.61273507,\n",
       "         1.28917456,  1.66883859,  0.54727748,  2.14465102,  0.15602022,\n",
       "         1.18948747,  0.15553959,  1.33779216],\n",
       "       [-1.15489603, -0.79902369,  0.50563464,  0.82510424, -1.09060183,\n",
       "         0.38431379,  0.23412064,  0.54727748, -1.00952025, -0.89126674,\n",
       "        -0.12859324,  0.79884589, -1.11901743],\n",
       "       [-0.22282796,  0.86745082, -0.1935566 , -0.0322978 , -0.81753511,\n",
       "        -1.42540773, -1.43630097,  0.31648275, -1.13426149,  2.19194605,\n",
       "        -0.99358371, -1.21498252, -0.15556269],\n",
       "       [-0.0842773 ,  0.3961247 ,  1.20482587,  0.39640322, -0.27140168,\n",
       "        -1.32486765, -1.60026873,  1.31659326, -1.52630538, -0.17911161,\n",
       "        -0.7876336 , -0.43182703, -0.42854154],\n",
       "       [ 1.049319  , -0.647526  ,  0.92514938,  0.11060254,  1.02566523,\n",
       "         1.03782434,  1.37164701,  0.31648275,  0.20225176,  0.65871795,\n",
       "         0.6952072 , -0.06821912,  1.27356184],\n",
       "       [ 1.33901583, -0.59702678, -0.26347572, -1.03260018,  1.77659871,\n",
       "         1.12160775,  1.13594335, -0.91442249,  0.87941848,  0.26074891,\n",
       "         0.53044712,  1.52606171,  0.14953131],\n",
       "       [ 1.72947678, -0.32769756,  0.50563464, -0.80395964,  0.88913187,\n",
       "         2.54592562,  1.46387888, -0.91442249,  1.02197989,  1.16141569,\n",
       "        -0.4169234 ,  1.1624538 ,  2.39759237],\n",
       "       [-0.14725488,  0.54762238,  0.15603902,  0.11060254,  0.27473176,\n",
       "        -1.72702799, -0.86241379, -0.91442249, -1.38374396,  0.15602022,\n",
       "        -0.91120366, -1.67648487, -0.65334764],\n",
       "       [-0.49992928,  0.10154587, -0.54315221, -0.31809848, -0.40793504,\n",
       "        -1.1908142 , -1.43630097,  2.08590903, -1.18772202,  0.86817534,\n",
       "        -0.95239369, -1.45272616, -0.12344753],\n",
       "       [ 0.92336385, -0.70644177,  1.20482587,  0.82510424,  0.06993172,\n",
       "         1.12160775,  1.21792723, -0.5297646 ,  1.37838342,  0.28169465,\n",
       "         0.94234734,  0.12756975,  1.77134679],\n",
       "       [ 0.06686887, -0.24353218,  3.02272308,  1.53960594,  1.64006535,\n",
       "         0.50161056,  0.63379207,  0.85500379,  0.5586553 , -0.60640469,\n",
       "         0.6952072 ,  0.81283081,  0.3101071 ],\n",
       "       [ 0.84779077, -0.91685522, -1.52201994, -0.46099882, -0.40793504,\n",
       "        -0.38649352, -0.27827863, -0.29896987, -1.56194573, -0.51424343,\n",
       "         1.10710743, -0.22205324, -0.33219606],\n",
       "       [-1.74688521, -0.83268984,  1.20482587,  0.11060254, -0.40793504,\n",
       "         0.68593405,  0.87974372, -0.5297646 ,  1.57440537, -0.99599543,\n",
       "        -0.00502317,  0.89674033, -0.17162027],\n",
       "       [ 1.75466781, -0.39502987,  0.33083683, -1.43272113, -0.27140168,\n",
       "         0.28377371,  0.4698243 , -0.45283303,  0.66557636,  0.093183  ,\n",
       "         0.24211696,  1.34425776,  1.78740437],\n",
       "       [-0.82741266,  0.09312933,  0.36579639,  0.39640322, -0.13486832,\n",
       "         0.38431379,  0.0496569 , -0.14510672, -0.52837548, -0.93315822,\n",
       "        -0.66406353,  1.06455937, -0.9488071 ],\n",
       "       [ 0.45732982,  0.18571125, -0.01875879,  0.11060254, -0.74926843,\n",
       "        -1.55946118, -1.60026873,  0.08568802, -1.72232732,  0.23980317,\n",
       "        -1.07596375, -0.20806832,  0.14953131],\n",
       "       [ 0.49511636, -0.47919524,  0.92514938, -1.00402011, -0.47620172,\n",
       "         0.87025754,  0.90023969, -0.14510672, -0.27889301, -0.09532865,\n",
       "        -0.16978326,  0.84080065,  1.48231037],\n",
       "       [ 0.40694776,  0.75803583,  0.0861199 ,  0.53930356, -0.54446839,\n",
       "        -0.6713571 , -1.33382112,  0.70114064, -0.63529654,  1.42114286,\n",
       "        -1.69381409, -1.39678648, -0.26796575],\n",
       "       [-1.16749155, -0.15095027, -0.6480309 ,  0.39640322, -1.02233515,\n",
       "         0.45134052,  0.60304811,  0.08568802, -0.45709478, -0.94991481,\n",
       "        -0.4169234 ,  0.92471017, -1.14149805],\n",
       "       [-1.15489603, -0.42869602, -0.12363747, -0.31809848, -1.29540187,\n",
       "        -1.22432756, -0.5754702 ,  1.23966168,  0.05969035, -1.10072413,\n",
       "         0.48925709, -0.48776671, -0.81392343],\n",
       "       [-0.78962611, -1.0683529 , -0.89274783, -0.31809848, -0.81753511,\n",
       "         1.99295515,  1.7303265 , -0.91442249,  0.61211583, -0.22100309,\n",
       "         0.324497  ,  0.21147927, -0.23585059],\n",
       "       [ 0.94855488, -0.5128614 ,  0.19099858, -1.03260018, -0.74926843,\n",
       "         0.45134052,  0.71577595, -0.5297646 ,  0.36263335,  0.23980317,\n",
       "         0.77758725,  0.39328323,  1.88374985]])"
      ]
     },
     "execution_count": 243,
     "metadata": {},
     "output_type": "execute_result"
    }
   ],
   "source": [
    "X_test_stand"
   ]
  },
  {
   "cell_type": "code",
   "execution_count": 244,
   "id": "82d1f6e7",
   "metadata": {},
   "outputs": [
    {
     "data": {
      "text/plain": [
       "(54, 3)"
      ]
     },
     "execution_count": 244,
     "metadata": {},
     "output_type": "execute_result"
    }
   ],
   "source": [
    "# Corba ROC, esquema One vs Rest\n",
    "\n",
    "label_binarizer = LabelBinarizer().fit(y_train_cat_lr)\n",
    "y_onehot_test = label_binarizer.transform(y_test_cat_lr)\n",
    "y_onehot_test.shape   # (n_mostres, n_classes)"
   ]
  },
  {
   "cell_type": "code",
   "execution_count": 245,
   "id": "f5c15f40",
   "metadata": {},
   "outputs": [
    {
     "data": {
      "text/plain": [
       "array([[0, 1, 0]])"
      ]
     },
     "execution_count": 245,
     "metadata": {},
     "output_type": "execute_result"
    }
   ],
   "source": [
    "label_binarizer.transform([1])"
   ]
  },
  {
   "cell_type": "code",
   "execution_count": 246,
   "id": "3aff1047",
   "metadata": {},
   "outputs": [
    {
     "data": {
      "text/plain": [
       "1"
      ]
     },
     "execution_count": 246,
     "metadata": {},
     "output_type": "execute_result"
    }
   ],
   "source": [
    "class_of_interest = 1\n",
    "class_id = np.flatnonzero(label_binarizer.classes_ == class_of_interest)[0]\n",
    "class_id"
   ]
  },
  {
   "cell_type": "code",
   "execution_count": 247,
   "id": "c32c9de1",
   "metadata": {},
   "outputs": [
    {
     "ename": "IndexError",
     "evalue": "too many indices for array: array is 1-dimensional, but 2 were indexed",
     "output_type": "error",
     "traceback": [
      "\u001b[1;31m---------------------------------------------------------------------------\u001b[0m",
      "\u001b[1;31mIndexError\u001b[0m                                Traceback (most recent call last)",
      "Input \u001b[1;32mIn [247]\u001b[0m, in \u001b[0;36m<cell line: 2>\u001b[1;34m()\u001b[0m\n\u001b[0;32m      1\u001b[0m \u001b[38;5;66;03m# Dibuix de la corba ROC\u001b[39;00m\n\u001b[0;32m      2\u001b[0m RocCurveDisplay\u001b[38;5;241m.\u001b[39mfrom_predictions(\n\u001b[0;32m      3\u001b[0m     y_onehot_test[:, class_id],\n\u001b[1;32m----> 4\u001b[0m     \u001b[43my_pred_lr\u001b[49m\u001b[43m[\u001b[49m\u001b[43m:\u001b[49m\u001b[43m,\u001b[49m\u001b[43m \u001b[49m\u001b[43mclass_id\u001b[49m\u001b[43m]\u001b[49m,\n\u001b[0;32m      5\u001b[0m     name\u001b[38;5;241m=\u001b[39m\u001b[38;5;124mf\u001b[39m\u001b[38;5;124m\"\u001b[39m\u001b[38;5;132;01m{\u001b[39;00mclass_of_interest\u001b[38;5;132;01m}\u001b[39;00m\u001b[38;5;124m vs the rest\u001b[39m\u001b[38;5;124m\"\u001b[39m,\n\u001b[0;32m      6\u001b[0m     color\u001b[38;5;241m=\u001b[39m\u001b[38;5;124m\"\u001b[39m\u001b[38;5;124mdarkorange\u001b[39m\u001b[38;5;124m\"\u001b[39m,\n\u001b[0;32m      7\u001b[0m )\n\u001b[0;32m      8\u001b[0m plt\u001b[38;5;241m.\u001b[39mplot([\u001b[38;5;241m0\u001b[39m, \u001b[38;5;241m1\u001b[39m], [\u001b[38;5;241m0\u001b[39m, \u001b[38;5;241m1\u001b[39m], \u001b[38;5;124m\"\u001b[39m\u001b[38;5;124mk--\u001b[39m\u001b[38;5;124m\"\u001b[39m, label\u001b[38;5;241m=\u001b[39m\u001b[38;5;124m\"\u001b[39m\u001b[38;5;124mchance level (AUC = 0.5)\u001b[39m\u001b[38;5;124m\"\u001b[39m)\n\u001b[0;32m      9\u001b[0m plt\u001b[38;5;241m.\u001b[39maxis(\u001b[38;5;124m\"\u001b[39m\u001b[38;5;124msquare\u001b[39m\u001b[38;5;124m\"\u001b[39m)\n",
      "\u001b[1;31mIndexError\u001b[0m: too many indices for array: array is 1-dimensional, but 2 were indexed"
     ]
    }
   ],
   "source": [
    "# Dibuix de la corba ROC\n",
    "RocCurveDisplay.from_predictions(\n",
    "    y_onehot_test[:, class_id],\n",
    "    y_pred_lr[:, class_id],\n",
    "    name=f\"{class_of_interest} vs the rest\",\n",
    "    color=\"darkorange\",\n",
    ")\n",
    "plt.plot([0, 1], [0, 1], \"k--\", label=\"chance level (AUC = 0.5)\")\n",
    "plt.axis(\"square\")\n",
    "plt.xlabel(\"False Positive Rate\")\n",
    "plt.ylabel(\"True Positive Rate\")\n",
    "plt.title(\"One-vs-Rest ROC curves:\\nVirginica vs (reducedFlights.csvest)\")\n",
    "plt.legend()\n",
    "plt.show()   # Hauria de dibuixar la corba ROC"
   ]
  },
  {
   "cell_type": "markdown",
   "id": "9140ee46",
   "metadata": {},
   "source": [
    "### - Avaluació del model KNN"
   ]
  },
  {
   "cell_type": "code",
   "execution_count": 248,
   "id": "58398ba7",
   "metadata": {},
   "outputs": [],
   "source": [
    "# Càlcul de Accuracy (exactitud)\n",
    "# Preprocessat de dades per a la classificació\n",
    "\n",
    "# Creo 4 classes i les assigno a \"malic_acid_cat\"\n",
    "dfWine[\"class_id_cat\"] = pd.qcut(dfWine[\"class_id\"], 2, retbins=False, labels=[0, 1])\n",
    "y = dfWine[\"class_id_cat\"]\n",
    "X = dfWine.drop([\"class_id\", \"class_id_cat\"], axis = 1)"
   ]
  },
  {
   "cell_type": "code",
   "execution_count": 108,
   "id": "3234eb04",
   "metadata": {},
   "outputs": [],
   "source": [
    "# Divisió de dades en conjunts train i test\n",
    "X_train, X_test, y_train, y_test = train_test_split(X, y, test_size=.3, random_state=42)"
   ]
  },
  {
   "cell_type": "code",
   "execution_count": 109,
   "id": "001964c3",
   "metadata": {},
   "outputs": [],
   "source": [
    "# Escalat estàndard de les característiques per a la classificació\n",
    "sc = StandardScaler()\n",
    "sc.fit(X_train)\n",
    "X_train_sc_knn = sc.transform(X_train)\n",
    "X_test_sc_knn = sc.transform(X_test)"
   ]
  },
  {
   "cell_type": "code",
   "execution_count": 110,
   "id": "a1209a3c",
   "metadata": {},
   "outputs": [
    {
     "data": {
      "text/plain": [
       "KNeighborsClassifier()"
      ]
     },
     "execution_count": 110,
     "metadata": {},
     "output_type": "execute_result"
    }
   ],
   "source": [
    "# Entrenament i predicció per a la classificació\n",
    "classifier = KNeighborsClassifier()   #Com no hi ha cap argument, usarà 5 veïns per defecte \n",
    "classifier.fit(X_train_sc_knn, y_train)"
   ]
  },
  {
   "cell_type": "code",
   "execution_count": 111,
   "id": "8fa07288",
   "metadata": {},
   "outputs": [
    {
     "data": {
      "text/plain": [
       "array([0, 0, 1, 0, 1, 0, 0, 1, 0, 1, 0, 1, 0, 0, 0, 0, 0, 1, 0, 0, 0, 0,\n",
       "       0, 1, 1, 1, 1, 0, 0, 0, 0, 0, 1, 0, 0, 0, 1, 1, 0, 1, 0, 0, 0, 0,\n",
       "       1, 0, 0, 0, 1, 0, 0, 0, 0, 1], dtype=int64)"
      ]
     },
     "execution_count": 111,
     "metadata": {},
     "output_type": "execute_result"
    }
   ],
   "source": [
    "# Prediccions de les classes del malic_acid del conjunt de dades test \n",
    "y_pred_knn = classifier.predict(X_test_sc_knn)\n",
    "y_pred_knn"
   ]
  },
  {
   "cell_type": "code",
   "execution_count": 112,
   "id": "1ff3d0f5",
   "metadata": {},
   "outputs": [
    {
     "data": {
      "text/plain": [
       "array([0, 0, 1, 0, 0, 0, 0, 1, 0, 1, 0, 1, 0, 0, 0, 0, 0, 0, 0, 0, 0, 0,\n",
       "       0, 1, 1, 1, 0, 0, 0, 0, 0, 0, 1, 0, 0, 0, 1, 1, 0, 1, 0, 0, 0, 0,\n",
       "       1, 0, 0, 0, 1, 0, 0, 0, 0, 1], dtype=int64)"
      ]
     },
     "execution_count": 112,
     "metadata": {},
     "output_type": "execute_result"
    }
   ],
   "source": [
    "# Converteixo els valors continus de la variable resposta (y_test) en valors categòrics, usant la funció LabelEncoder()\n",
    "# i així evitar l'error \"ValueError: Classification metrics can't handle a mix of continuous and multiclass targets\"\n",
    "lab = preprocessing.LabelEncoder()\n",
    "y_test_cat_knn = lab.fit_transform(y_test)\n",
    "y_test_cat_knn"
   ]
  },
  {
   "cell_type": "code",
   "execution_count": 113,
   "id": "9bec17a0",
   "metadata": {},
   "outputs": [
    {
     "name": "stdout",
     "output_type": "stream",
     "text": [
      "L'accuracy (KNN) és: 0.9444444444444444\n"
     ]
    }
   ],
   "source": [
    "print(\"L'accuracy (KNN) és:\", metrics.accuracy_score(y_test_cat_knn, y_pred_knn))"
   ]
  },
  {
   "cell_type": "markdown",
   "id": "beae6efe",
   "metadata": {},
   "source": [
    "L'Accuracy per a KNN és 94,4%"
   ]
  },
  {
   "cell_type": "code",
   "execution_count": 114,
   "id": "a57d3807",
   "metadata": {},
   "outputs": [
    {
     "name": "stdout",
     "output_type": "stream",
     "text": [
      "[[37  3]\n",
      " [ 0 14]]\n"
     ]
    }
   ],
   "source": [
    "# Determinació de matriu de confusió\n",
    "\n",
    "c_matrik_knn = confusion_matrix(y_test_cat_knn, y_pred_knn)\n",
    "print(c_matrik_knn)"
   ]
  },
  {
   "cell_type": "code",
   "execution_count": 115,
   "id": "726f9107",
   "metadata": {},
   "outputs": [
    {
     "data": {
      "image/png": "[encoded data removed]",
      "text/plain": [
       "<Figure size 432x288 with 2 Axes>"
      ]
     },
     "metadata": {
      "needs_background": "light"
     },
     "output_type": "display_data"
    }
   ],
   "source": [
    "# Traçat de la matriu de confusió a partir dels valors de la variable resposta reals i predits\n",
    "c_matrix_knn = ConfusionMatrixDisplay.from_predictions(y_test_cat_knn, y_pred_knn)\n",
    "plt.title(\"Confusion matrix KNN\\n\")\n",
    "plt.show()"
   ]
  },
  {
   "cell_type": "code",
   "execution_count": 120,
   "id": "f65d5bfc",
   "metadata": {},
   "outputs": [
    {
     "data": {
      "text/plain": [
       "(54, 1)"
      ]
     },
     "execution_count": 120,
     "metadata": {},
     "output_type": "execute_result"
    }
   ],
   "source": [
    "# Corba ROC, esquema One vs Rest\n",
    "\n",
    "label_binarizer = LabelBinarizer().fit(y_train)\n",
    "y_onehot_test = label_binarizer.transform(y_test)\n",
    "y_onehot_test.shape   # (n_mostres, n_classes)"
   ]
  },
  {
   "cell_type": "code",
   "execution_count": 121,
   "id": "44d18735",
   "metadata": {},
   "outputs": [
    {
     "data": {
      "text/plain": [
       "array([[1]])"
      ]
     },
     "execution_count": 121,
     "metadata": {},
     "output_type": "execute_result"
    }
   ],
   "source": [
    "label_binarizer.transform([1])"
   ]
  },
  {
   "cell_type": "code",
   "execution_count": 122,
   "id": "2a90db3f",
   "metadata": {},
   "outputs": [
    {
     "data": {
      "text/plain": [
       "1"
      ]
     },
     "execution_count": 122,
     "metadata": {},
     "output_type": "execute_result"
    }
   ],
   "source": [
    "class_of_interest = 1\n",
    "class_id = np.flatnonzero(label_binarizer.classes_ == class_of_interest)[0]\n",
    "class_id"
   ]
  },
  {
   "cell_type": "code",
   "execution_count": 129,
   "id": "49528b21",
   "metadata": {},
   "outputs": [
    {
     "ename": "IndexError",
     "evalue": "index 1 is out of bounds for axis 1 with size 1",
     "output_type": "error",
     "traceback": [
      "\u001b[1;31m---------------------------------------------------------------------------\u001b[0m",
      "\u001b[1;31mIndexError\u001b[0m                                Traceback (most recent call last)",
      "Input \u001b[1;32mIn [129]\u001b[0m, in \u001b[0;36m<cell line: 2>\u001b[1;34m()\u001b[0m\n\u001b[0;32m      1\u001b[0m \u001b[38;5;66;03m# Dibuix de la corba ROC\u001b[39;00m\n\u001b[0;32m      2\u001b[0m RocCurveDisplay\u001b[38;5;241m.\u001b[39mfrom_predictions(\n\u001b[1;32m----> 3\u001b[0m     \u001b[43my_onehot_test\u001b[49m\u001b[43m[\u001b[49m\u001b[43m:\u001b[49m\u001b[43m,\u001b[49m\u001b[43m \u001b[49m\u001b[43mclass_id\u001b[49m\u001b[43m]\u001b[49m,\n\u001b[0;32m      4\u001b[0m     y_pred_knn[:, class_id],\n\u001b[0;32m      5\u001b[0m     name\u001b[38;5;241m=\u001b[39m\u001b[38;5;124mf\u001b[39m\u001b[38;5;124m\"\u001b[39m\u001b[38;5;132;01m{\u001b[39;00mclass_of_interest\u001b[38;5;132;01m}\u001b[39;00m\u001b[38;5;124m vs the rest\u001b[39m\u001b[38;5;124m\"\u001b[39m,\n\u001b[0;32m      6\u001b[0m     color\u001b[38;5;241m=\u001b[39m\u001b[38;5;124m\"\u001b[39m\u001b[38;5;124mdarkorange\u001b[39m\u001b[38;5;124m\"\u001b[39m,\n\u001b[0;32m      7\u001b[0m )\n\u001b[0;32m      8\u001b[0m plt\u001b[38;5;241m.\u001b[39mplot([\u001b[38;5;241m0\u001b[39m, \u001b[38;5;241m1\u001b[39m], [\u001b[38;5;241m0\u001b[39m, \u001b[38;5;241m1\u001b[39m], \u001b[38;5;124m\"\u001b[39m\u001b[38;5;124mk--\u001b[39m\u001b[38;5;124m\"\u001b[39m, label\u001b[38;5;241m=\u001b[39m\u001b[38;5;124m\"\u001b[39m\u001b[38;5;124mchance level (AUC = 0.5)\u001b[39m\u001b[38;5;124m\"\u001b[39m)\n\u001b[0;32m      9\u001b[0m plt\u001b[38;5;241m.\u001b[39maxis(\u001b[38;5;124m\"\u001b[39m\u001b[38;5;124msquare\u001b[39m\u001b[38;5;124m\"\u001b[39m)\n",
      "\u001b[1;31mIndexError\u001b[0m: index 1 is out of bounds for axis 1 with size 1"
     ]
    }
   ],
   "source": [
    "# Dibuix de la corba ROC\n",
    "RocCurveDisplay.from_predictions(\n",
    "    y_onehot_test[:, class_id],\n",
    "    y_pred_knn[:, class_id],\n",
    "    name=f\"{class_of_interest} vs the rest\",\n",
    "    color=\"darkorange\",\n",
    ")\n",
    "plt.plot([0, 1], [0, 1], \"k--\", label=\"chance level (AUC = 0.5)\")\n",
    "plt.axis(\"square\")\n",
    "plt.xlabel(\"False Positive Rate\")\n",
    "plt.ylabel(\"True Positive Rate\")\n",
    "plt.title(\"One-vs-Rest ROC curves:\\n2 vs (reducedFlights.csvest)\")\n",
    "plt.legend()\n",
    "plt.show() \n",
    "\n",
    "# Hauria de dibuixar la corba ROC"
   ]
  },
  {
   "cell_type": "markdown",
   "id": "cce39c2f",
   "metadata": {},
   "source": [
    "### - Avaluació del model SVM"
   ]
  },
  {
   "cell_type": "code",
   "execution_count": 132,
   "id": "10647629",
   "metadata": {},
   "outputs": [
    {
     "data": {
      "text/html": [
       "<div>\n",
       "<style scoped>\n",
       "    .dataframe tbody tr th:only-of-type {\n",
       "        vertical-align: middle;\n",
       "    }\n",
       "\n",
       "    .dataframe tbody tr th {\n",
       "        vertical-align: top;\n",
       "    }\n",
       "\n",
       "    .dataframe thead th {\n",
       "        text-align: right;\n",
       "    }\n",
       "</style>\n",
       "<table border=\"1\" class=\"dataframe\">\n",
       "  <thead>\n",
       "    <tr style=\"text-align: right;\">\n",
       "      <th></th>\n",
       "      <th>class_id</th>\n",
       "      <th>alcohol</th>\n",
       "      <th>malic_acid</th>\n",
       "      <th>ash</th>\n",
       "      <th>alcalinity_ash</th>\n",
       "      <th>magnesium</th>\n",
       "      <th>total_phenols</th>\n",
       "      <th>flavanoids</th>\n",
       "      <th>nonflav_phenols</th>\n",
       "      <th>cyanins</th>\n",
       "      <th>color_intens</th>\n",
       "      <th>hue</th>\n",
       "      <th>diluted_wines</th>\n",
       "      <th>proline</th>\n",
       "      <th>class_id_cat</th>\n",
       "    </tr>\n",
       "  </thead>\n",
       "  <tbody>\n",
       "    <tr>\n",
       "      <th>0</th>\n",
       "      <td>1</td>\n",
       "      <td>13.20</td>\n",
       "      <td>1.78</td>\n",
       "      <td>2.14</td>\n",
       "      <td>11.2</td>\n",
       "      <td>100</td>\n",
       "      <td>2.65</td>\n",
       "      <td>2.76</td>\n",
       "      <td>0.26</td>\n",
       "      <td>1.28</td>\n",
       "      <td>4.38</td>\n",
       "      <td>1.05</td>\n",
       "      <td>3.40</td>\n",
       "      <td>1050</td>\n",
       "      <td>0</td>\n",
       "    </tr>\n",
       "    <tr>\n",
       "      <th>1</th>\n",
       "      <td>1</td>\n",
       "      <td>13.16</td>\n",
       "      <td>2.36</td>\n",
       "      <td>2.67</td>\n",
       "      <td>18.6</td>\n",
       "      <td>101</td>\n",
       "      <td>2.80</td>\n",
       "      <td>3.24</td>\n",
       "      <td>0.30</td>\n",
       "      <td>2.81</td>\n",
       "      <td>5.68</td>\n",
       "      <td>1.03</td>\n",
       "      <td>3.17</td>\n",
       "      <td>1185</td>\n",
       "      <td>0</td>\n",
       "    </tr>\n",
       "    <tr>\n",
       "      <th>2</th>\n",
       "      <td>1</td>\n",
       "      <td>14.37</td>\n",
       "      <td>1.95</td>\n",
       "      <td>2.50</td>\n",
       "      <td>16.8</td>\n",
       "      <td>113</td>\n",
       "      <td>3.85</td>\n",
       "      <td>3.49</td>\n",
       "      <td>0.24</td>\n",
       "      <td>2.18</td>\n",
       "      <td>7.80</td>\n",
       "      <td>0.86</td>\n",
       "      <td>3.45</td>\n",
       "      <td>1480</td>\n",
       "      <td>0</td>\n",
       "    </tr>\n",
       "    <tr>\n",
       "      <th>3</th>\n",
       "      <td>1</td>\n",
       "      <td>13.24</td>\n",
       "      <td>2.59</td>\n",
       "      <td>2.87</td>\n",
       "      <td>21.0</td>\n",
       "      <td>118</td>\n",
       "      <td>2.80</td>\n",
       "      <td>2.69</td>\n",
       "      <td>0.39</td>\n",
       "      <td>1.82</td>\n",
       "      <td>4.32</td>\n",
       "      <td>1.04</td>\n",
       "      <td>2.93</td>\n",
       "      <td>735</td>\n",
       "      <td>0</td>\n",
       "    </tr>\n",
       "  </tbody>\n",
       "</table>\n",
       "</div>"
      ],
      "text/plain": [
       "   class_id  alcohol  malic_acid   ash  alcalinity_ash  magnesium  \\\n",
       "0         1    13.20        1.78  2.14            11.2        100   \n",
       "1         1    13.16        2.36  2.67            18.6        101   \n",
       "2         1    14.37        1.95  2.50            16.8        113   \n",
       "3         1    13.24        2.59  2.87            21.0        118   \n",
       "\n",
       "   total_phenols  flavanoids  nonflav_phenols  cyanins  color_intens   hue  \\\n",
       "0           2.65        2.76             0.26     1.28          4.38  1.05   \n",
       "1           2.80        3.24             0.30     2.81          5.68  1.03   \n",
       "2           3.85        3.49             0.24     2.18          7.80  0.86   \n",
       "3           2.80        2.69             0.39     1.82          4.32  1.04   \n",
       "\n",
       "   diluted_wines  proline class_id_cat  \n",
       "0           3.40     1050            0  \n",
       "1           3.17     1185            0  \n",
       "2           3.45     1480            0  \n",
       "3           2.93      735            0  "
      ]
     },
     "execution_count": 132,
     "metadata": {},
     "output_type": "execute_result"
    }
   ],
   "source": [
    "dfWine.head(4)"
   ]
  },
  {
   "cell_type": "code",
   "execution_count": 133,
   "id": "74c0a44e",
   "metadata": {},
   "outputs": [],
   "source": [
    "# Divisió de dades en conjunts train i test\n",
    "X_train, X_test, y_train, y_test = train_test_split(\n",
    "                                        dfWine.drop('class_id', axis = 'columns'),\n",
    "                                        dfWine['class_id'],\n",
    "                                        train_size=.7,               # 70% train i 30% test\n",
    "                                        random_state=42,\n",
    "                                    #    stratify=y\n",
    "                                        shuffle=True\n",
    "                                    )                                                 "
   ]
  },
  {
   "cell_type": "code",
   "execution_count": 134,
   "id": "7a893062",
   "metadata": {},
   "outputs": [
    {
     "data": {
      "text/plain": [
       "19     1\n",
       "45     1\n",
       "139    3\n",
       "30     1\n",
       "67     2\n",
       "16     1\n",
       "119    2\n",
       "173    3\n",
       "109    2\n",
       "140    3\n",
       "24     1\n",
       "161    3\n",
       "41     1\n",
       "118    2\n",
       "15     1\n",
       "111    2\n",
       "113    2\n",
       "82     2\n",
       "9      1\n",
       "114    2\n",
       "18     1\n",
       "66     2\n",
       "60     2\n",
       "168    3\n",
       "170    3\n",
       "150    3\n",
       "117    2\n",
       "65     2\n",
       "90     2\n",
       "55     1\n",
       "29     1\n",
       "127    2\n",
       "144    3\n",
       "31     1\n",
       "12     1\n",
       "42     1\n",
       "156    3\n",
       "136    3\n",
       "98     2\n",
       "158    3\n",
       "38     1\n",
       "108    2\n",
       "85     2\n",
       "68     2\n",
       "142    3\n",
       "2      1\n",
       "100    2\n",
       "122    2\n",
       "153    3\n",
       "51     1\n",
       "76     2\n",
       "56     1\n",
       "26     1\n",
       "152    3\n",
       "Name: class_id, dtype: int64"
      ]
     },
     "execution_count": 134,
     "metadata": {},
     "output_type": "execute_result"
    }
   ],
   "source": [
    "y_test "
   ]
  },
  {
   "cell_type": "code",
   "execution_count": 135,
   "id": "81ec1e87",
   "metadata": {},
   "outputs": [
    {
     "data": {
      "text/plain": [
       "array([0, 0, 2, 0, 1, 0, 1, 2, 1, 2, 0, 2, 0, 1, 0, 1, 1, 1, 0, 1, 0, 1,\n",
       "       1, 2, 2, 2, 1, 1, 1, 0, 0, 1, 2, 0, 0, 0, 2, 2, 1, 2, 0, 1, 1, 1,\n",
       "       2, 0, 1, 1, 2, 0, 1, 0, 0, 2], dtype=int64)"
      ]
     },
     "execution_count": 135,
     "metadata": {},
     "output_type": "execute_result"
    }
   ],
   "source": [
    "# Converteixo els valors continus de la variable resposta en valors categòrics, usant la funció LabelEncoder()\n",
    "# i així evitar un error.\n",
    "lab = preprocessing.LabelEncoder()\n",
    "y_test_cat_svm = lab.fit_transform(y_test)\n",
    "y_test_cat_svm"
   ]
  },
  {
   "cell_type": "code",
   "execution_count": 136,
   "id": "ad2fd184",
   "metadata": {},
   "outputs": [
    {
     "data": {
      "text/plain": [
       "array([0, 0, 2, 0, 0, 0, 1, 2, 1, 2, 0, 2, 0, 1, 0, 1, 1, 1, 0, 1, 0, 1,\n",
       "       1, 2, 2, 2, 1, 1, 1, 0, 0, 1, 2, 0, 0, 0, 2, 2, 1, 2, 0, 1, 1, 1,\n",
       "       2, 0, 1, 1, 2, 0, 1, 0, 0, 2], dtype=int64)"
      ]
     },
     "execution_count": 136,
     "metadata": {},
     "output_type": "execute_result"
    }
   ],
   "source": [
    "y_pred_svm"
   ]
  },
  {
   "cell_type": "code",
   "execution_count": 137,
   "id": "ca7078ee",
   "metadata": {},
   "outputs": [
    {
     "name": "stdout",
     "output_type": "stream",
     "text": [
      "Accuracy (SVM): 0.9814814814814815\n"
     ]
    }
   ],
   "source": [
    "# Càlcul de Accuracy (exactitud)\n",
    "print(\"Accuracy (SVM):\",metrics.accuracy_score(y_test_cat_svm, y_pred_svm))"
   ]
  },
  {
   "cell_type": "markdown",
   "id": "1abcf61f",
   "metadata": {},
   "source": [
    "L'accuracy de la classificació usant SVM és de 98,2%"
   ]
  },
  {
   "cell_type": "code",
   "execution_count": 138,
   "id": "d360e83b",
   "metadata": {},
   "outputs": [
    {
     "name": "stdout",
     "output_type": "stream",
     "text": [
      "[[19  0  0]\n",
      " [ 1 20  0]\n",
      " [ 0  0 14]]\n"
     ]
    }
   ],
   "source": [
    "# Determinació de matriu de confusió\n",
    "\n",
    "y_test_cat_svm\n",
    "y_pred_svm\n",
    "c_matrix_svm = confusion_matrix(y_test_cat_svm, y_pred_svm)\n",
    "print(c_matrix_svm)"
   ]
  },
  {
   "cell_type": "code",
   "execution_count": 139,
   "id": "35fabda1",
   "metadata": {},
   "outputs": [
    {
     "data": {
      "image/png": "[encoded data removed]",
      "text/plain": [
       "<Figure size 432x288 with 2 Axes>"
      ]
     },
     "metadata": {
      "needs_background": "light"
     },
     "output_type": "display_data"
    }
   ],
   "source": [
    "# Traçat de la matriu de confusió a partir dels valors de la variable resposta reals i predits\n",
    "c_matrix_svm = ConfusionMatrixDisplay.from_predictions(y_test_cat_svm, y_pred_svm)\n",
    "plt.title(\"Confusion matrix SVM\\n\")\n",
    "plt.show()"
   ]
  },
  {
   "cell_type": "code",
   "execution_count": 140,
   "id": "dbbd27ca",
   "metadata": {},
   "outputs": [
    {
     "data": {
      "text/plain": [
       "(54, 3)"
      ]
     },
     "execution_count": 140,
     "metadata": {},
     "output_type": "execute_result"
    }
   ],
   "source": [
    "# Corba ROC, esquema One vs Rest\n",
    "\n",
    "label_binarizer = LabelBinarizer().fit(y_train_cat_svm)\n",
    "y_onehot_test = label_binarizer.transform(y_test_cat_svm)\n",
    "y_onehot_test.shape   # (n_mostres, n_classes)"
   ]
  },
  {
   "cell_type": "code",
   "execution_count": 145,
   "id": "6a5042b1",
   "metadata": {},
   "outputs": [
    {
     "data": {
      "text/plain": [
       "array([[0, 0, 1]])"
      ]
     },
     "execution_count": 145,
     "metadata": {},
     "output_type": "execute_result"
    }
   ],
   "source": [
    "label_binarizer.transform([2])  # Valor numèric de la variable y_test_cat_svm"
   ]
  },
  {
   "cell_type": "code",
   "execution_count": 150,
   "id": "98ecf72d",
   "metadata": {},
   "outputs": [
    {
     "data": {
      "text/plain": [
       "2"
      ]
     },
     "execution_count": 150,
     "metadata": {},
     "output_type": "execute_result"
    }
   ],
   "source": [
    "class_of_interest = 2\n",
    "class_id = np.flatnonzero(label_binarizer.classes_ == class_of_interest)[0]\n",
    "class_id"
   ]
  },
  {
   "cell_type": "code",
   "execution_count": 151,
   "id": "fd3c70d1",
   "metadata": {},
   "outputs": [
    {
     "ename": "IndexError",
     "evalue": "too many indices for array: array is 1-dimensional, but 2 were indexed",
     "output_type": "error",
     "traceback": [
      "\u001b[1;31m---------------------------------------------------------------------------\u001b[0m",
      "\u001b[1;31mIndexError\u001b[0m                                Traceback (most recent call last)",
      "Input \u001b[1;32mIn [151]\u001b[0m, in \u001b[0;36m<cell line: 2>\u001b[1;34m()\u001b[0m\n\u001b[0;32m      1\u001b[0m \u001b[38;5;66;03m# Dibuix de la corba ROC\u001b[39;00m\n\u001b[0;32m      2\u001b[0m RocCurveDisplay\u001b[38;5;241m.\u001b[39mfrom_predictions(\n\u001b[0;32m      3\u001b[0m     y_onehot_test[:, class_id],\n\u001b[1;32m----> 4\u001b[0m     \u001b[43my_pred_svm\u001b[49m\u001b[43m[\u001b[49m\u001b[43m:\u001b[49m\u001b[43m,\u001b[49m\u001b[43m \u001b[49m\u001b[43mclass_id\u001b[49m\u001b[43m]\u001b[49m,\n\u001b[0;32m      5\u001b[0m     name\u001b[38;5;241m=\u001b[39m\u001b[38;5;124mf\u001b[39m\u001b[38;5;124m\"\u001b[39m\u001b[38;5;132;01m{\u001b[39;00mclass_of_interest\u001b[38;5;132;01m}\u001b[39;00m\u001b[38;5;124m vs the rest\u001b[39m\u001b[38;5;124m\"\u001b[39m,\n\u001b[0;32m      6\u001b[0m     color\u001b[38;5;241m=\u001b[39m\u001b[38;5;124m\"\u001b[39m\u001b[38;5;124mdarkorange\u001b[39m\u001b[38;5;124m\"\u001b[39m,\n\u001b[0;32m      7\u001b[0m )\n\u001b[0;32m      8\u001b[0m plt\u001b[38;5;241m.\u001b[39mplot([\u001b[38;5;241m0\u001b[39m, \u001b[38;5;241m1\u001b[39m], [\u001b[38;5;241m0\u001b[39m, \u001b[38;5;241m1\u001b[39m], \u001b[38;5;124m\"\u001b[39m\u001b[38;5;124mk--\u001b[39m\u001b[38;5;124m\"\u001b[39m, label\u001b[38;5;241m=\u001b[39m\u001b[38;5;124m\"\u001b[39m\u001b[38;5;124mchance level (AUC = 0.5)\u001b[39m\u001b[38;5;124m\"\u001b[39m)\n\u001b[0;32m      9\u001b[0m plt\u001b[38;5;241m.\u001b[39maxis(\u001b[38;5;124m\"\u001b[39m\u001b[38;5;124msquare\u001b[39m\u001b[38;5;124m\"\u001b[39m)\n",
      "\u001b[1;31mIndexError\u001b[0m: too many indices for array: array is 1-dimensional, but 2 were indexed"
     ]
    }
   ],
   "source": [
    "# Dibuix de la corba ROC\n",
    "RocCurveDisplay.from_predictions(\n",
    "    y_onehot_test[:, class_id],\n",
    "    y_pred_svm[:, class_id],\n",
    "    name=f\"{class_of_interest} vs the rest\",\n",
    "    color=\"darkorange\",\n",
    ")\n",
    "plt.plot([0, 1], [0, 1], \"k--\", label=\"chance level (AUC = 0.5)\")\n",
    "plt.axis(\"square\")\n",
    "plt.xlabel(\"False Positive Rate\")\n",
    "plt.ylabel(\"True Positive Rate\")\n",
    "plt.title(\"One-vs-Rest ROC curves:\\n2 vs (reducedFlights.csvest)\")\n",
    "plt.legend()\n",
    "plt.show() \n",
    "# Hauria de dibuixar la corba ROC"
   ]
  },
  {
   "cell_type": "markdown",
   "id": "d5e88765",
   "metadata": {},
   "source": [
    "# Exercici 3\n",
    "Entrena’ls usant els diferents paràmetres que admeten per tal de millorar-ne la predicció."
   ]
  },
  {
   "cell_type": "markdown",
   "id": "bc1ff01e",
   "metadata": {},
   "source": [
    "### - Regressió logística"
   ]
  },
  {
   "cell_type": "code",
   "execution_count": 170,
   "id": "01483939",
   "metadata": {},
   "outputs": [
    {
     "data": {
      "text/plain": [
       "array([0, 1, 1, 1, 2, 2, 0, 2, 1, 1, 1, 0, 2, 1, 1, 0, 1, 1, 1, 0, 1, 2,\n",
       "       0, 0, 1, 1, 2, 2, 2, 1, 0, 0, 2, 0, 0, 1, 0, 1, 0, 1, 2, 1, 1, 1,\n",
       "       1, 1, 1, 0, 2, 2, 2, 1, 1, 0, 0, 1, 0, 0, 0, 1, 2, 2, 1, 0, 2, 1,\n",
       "       2, 0, 2, 1, 0, 1, 0, 0, 1, 1, 0, 1, 1, 2, 2, 0, 1, 0, 2, 1, 2, 1,\n",
       "       1, 1, 1, 0, 2, 0, 2, 1, 0, 2, 0, 1, 0, 2, 0, 0, 2, 0, 1, 0, 0, 2,\n",
       "       0, 0, 1, 1, 1, 1, 2, 0, 1, 1, 2, 2, 1], dtype=int64)"
      ]
     },
     "execution_count": 170,
     "metadata": {},
     "output_type": "execute_result"
    }
   ],
   "source": [
    "# Valors categòrics de la variable resposta del conjunt train\n",
    "y_train_cat_lr"
   ]
  },
  {
   "cell_type": "code",
   "execution_count": 249,
   "id": "09901d6f",
   "metadata": {},
   "outputs": [],
   "source": [
    "# Us de GridSearchCV per ajustar els hiperparámetres\n",
    "\n",
    "# Creo la quadrícula de paràmetres\n",
    "parameters = {\n",
    "    'penalty' : ['l1','l2'], \n",
    "    'C'       : np.logspace(-3,3,7),\n",
    "    'solver'  : ['newton-cg', 'lbfgs', 'liblinear'],\n",
    "}"
   ]
  },
  {
   "cell_type": "code",
   "execution_count": 250,
   "id": "6856b7fa",
   "metadata": {},
   "outputs": [],
   "source": [
    "lr = LogisticRegression()\n",
    "clf = GridSearchCV(lr,                        # model\n",
    "                   param_grid = parameters,   # hyperparameters\n",
    "                   scoring='accuracy',        # metric for scoring\n",
    "                   cv=10)                     # number of folds"
   ]
  },
  {
   "cell_type": "code",
   "execution_count": 251,
   "id": "24ac8b33",
   "metadata": {},
   "outputs": [
    {
     "data": {
      "text/plain": [
       "GridSearchCV(cv=10, estimator=LogisticRegression(),\n",
       "             param_grid={'C': array([1.e-03, 1.e-02, 1.e-01, 1.e+00, 1.e+01, 1.e+02, 1.e+03]),\n",
       "                         'penalty': ['l1', 'l2'],\n",
       "                         'solver': ['newton-cg', 'lbfgs', 'liblinear']},\n",
       "             scoring='accuracy')"
      ]
     },
     "execution_count": 251,
     "metadata": {},
     "output_type": "execute_result"
    }
   ],
   "source": [
    "# Entrenament de l'instància clf \n",
    "clf.fit(X_train_stand, y_train_cat_lr)"
   ]
  },
  {
   "cell_type": "code",
   "execution_count": 252,
   "id": "9b1d3ed0",
   "metadata": {},
   "outputs": [
    {
     "name": "stdout",
     "output_type": "stream",
     "text": [
      "Hiperparàmetres sintonitzats: {'C': 0.1, 'penalty': 'l2', 'solver': 'newton-cg'}\n",
      "Precisió entrenament: 0.9923076923076923\n"
     ]
    }
   ],
   "source": [
    "print(\"Hiperparàmetres sintonitzats:\", clf.best_params_) \n",
    "print(\"Precisió entrenament:\",clf.best_score_)"
   ]
  },
  {
   "cell_type": "code",
   "execution_count": 256,
   "id": "b2f77401",
   "metadata": {},
   "outputs": [
    {
     "data": {
      "text/plain": [
       "array([2, 2, 0, 0, 1, 2, 0, 1, 0, 1, 1, 0, 2, 2, 0, 1, 0, 1, 1, 2, 1, 2,\n",
       "       1, 2, 0, 2, 1, 1, 2, 2, 0, 1, 0, 1, 2, 2, 0, 0, 0, 2, 2, 0, 0, 1,\n",
       "       1, 0, 1, 2, 0, 2, 1, 1, 1, 0], dtype=int64)"
      ]
     },
     "execution_count": 256,
     "metadata": {},
     "output_type": "execute_result"
    }
   ],
   "source": [
    "# Construeixo el nou model amb el hiperparàmetres ajustats que retorna la funció GridSearchCV()\n",
    "\n",
    "lr_grid = LogisticRegression(C = 0.1, \n",
    "                            penalty = 'l2', \n",
    "                            solver = 'newton-cg')\n",
    "lr_grid.fit(X_train_stand, y_train_cat_lr)\n",
    "y_pred_lr_grid = lr_grid.predict(X_test_stand)\n",
    "y_pred_lr_grid"
   ]
  },
  {
   "cell_type": "code",
   "execution_count": 257,
   "id": "24cefded",
   "metadata": {},
   "outputs": [
    {
     "name": "stdout",
     "output_type": "stream",
     "text": [
      "Accuracy (regressió logística-GSCV): 1.0\n"
     ]
    }
   ],
   "source": [
    "print(\"Accuracy (regressió logística-GSCV):\",lr_grid.score(X_test_stand, y_test_cat_lr))  # Aquest codi dóna igual que \"metrics.accuracy_score(y_test_cat_lr, y_pred_lr_grid)\""
   ]
  },
  {
   "cell_type": "markdown",
   "id": "705cdc34",
   "metadata": {},
   "source": [
    "El nou model de regressió logística dona millors resultats ja que presenta una precisió de 100%, vers el 98,1% de l'anterior."
   ]
  },
  {
   "cell_type": "markdown",
   "id": "4b153590",
   "metadata": {},
   "source": [
    "### - Model KNN"
   ]
  },
  {
   "cell_type": "code",
   "execution_count": 258,
   "id": "b8fde42a",
   "metadata": {},
   "outputs": [],
   "source": [
    "# Us de GridSearchCV per ajustar els hiperparámetres\n",
    "\n",
    "# Creació de la instància knn\n",
    "knn = KNeighborsClassifier()\n",
    "k_range = list(range(1, 31))\n",
    "param_grid = dict(n_neighbors=k_range)"
   ]
  },
  {
   "cell_type": "code",
   "execution_count": 259,
   "id": "b60c70c3",
   "metadata": {},
   "outputs": [
    {
     "name": "stdout",
     "output_type": "stream",
     "text": [
      "Fitting 10 folds for each of 30 candidates, totalling 300 fits\n"
     ]
    }
   ],
   "source": [
    "# Definció del rang dels paràmetres\n",
    "grid = GridSearchCV(knn, param_grid, cv=10, scoring='accuracy', return_train_score=False,verbose=1)\n",
    "  \n",
    "# Entrenament del model per la cerca en quadrícula\n",
    "grid_search=grid.fit(X_train_sc_knn, y_train)"
   ]
  },
  {
   "cell_type": "code",
   "execution_count": 264,
   "id": "78220408",
   "metadata": {},
   "outputs": [
    {
     "name": "stdout",
     "output_type": "stream",
     "text": [
      "Paràmetre òptim de K: {'n_neighbors': 21}\n",
      "Accuracy pel conjunt d'entrenament: 97.564%\n"
     ]
    }
   ],
   "source": [
    "# Cerca del paràmetre òptim de K y la millor accuracy a través de GridSearchCV\n",
    "print(\"Paràmetre òptim de K:\", grid_search.best_params_)\n",
    "accuracy = grid_search.best_score_ *100\n",
    "print(\"Accuracy pel conjunt d'entrenament: {:.3f}%\".format(accuracy))"
   ]
  },
  {
   "cell_type": "code",
   "execution_count": 265,
   "id": "4bffeae3",
   "metadata": {},
   "outputs": [
    {
     "data": {
      "text/plain": [
       "array([1, 1, 3, 1, 2, 1, 2, 3, 2, 3, 1, 3, 1, 2, 1, 2, 2, 3, 1, 2, 1, 2,\n",
       "       3, 3, 3, 3, 3, 2, 2, 1, 1, 2, 3, 1, 1, 1, 3, 3, 2, 3, 1, 2, 2, 2,\n",
       "       3, 1, 2, 2, 3, 1, 2, 1, 1, 3], dtype=int64)"
      ]
     },
     "execution_count": 265,
     "metadata": {},
     "output_type": "execute_result"
    }
   ],
   "source": [
    "# Ajusto el model KNN amb el millor hiperparàmetre K\n",
    "knn = KNeighborsClassifier(n_neighbors=21)\n",
    "\n",
    "knn.fit(X_train_sc, y_train)\n",
    "y_pred_knn_grid = knn.predict(X_test_sc_knn) \n",
    "y_pred_knn_grid"
   ]
  },
  {
   "cell_type": "code",
   "execution_count": 270,
   "id": "fa7d12f7",
   "metadata": {},
   "outputs": [
    {
     "data": {
      "text/plain": [
       "array([0, 0, 1, 0, 0, 0, 0, 1, 0, 1, 0, 1, 0, 0, 0, 0, 0, 0, 0, 0, 0, 0,\n",
       "       0, 1, 1, 1, 0, 0, 0, 0, 0, 0, 1, 0, 0, 0, 1, 1, 0, 1, 0, 0, 0, 0,\n",
       "       1, 0, 0, 0, 1, 0, 0, 0, 0, 1], dtype=int64)"
      ]
     },
     "execution_count": 270,
     "metadata": {},
     "output_type": "execute_result"
    }
   ],
   "source": [
    "y_test_cat_knn"
   ]
  },
  {
   "cell_type": "code",
   "execution_count": 279,
   "id": "c1deca92",
   "metadata": {},
   "outputs": [
    {
     "name": "stdout",
     "output_type": "stream",
     "text": [
      "Accuracy (KNN-GSCV) és: 0.9444444444444444\n"
     ]
    }
   ],
   "source": [
    "print(\"Accuracy (KNN-GSCV) és:\", metrics.accuracy_score(y_test, y_pred_knn_grid))"
   ]
  },
  {
   "cell_type": "code",
   "execution_count": 278,
   "id": "7ac12ff0",
   "metadata": {},
   "outputs": [
    {
     "name": "stdout",
     "output_type": "stream",
     "text": [
      "Accuracy del conjunt dades de prova (KNN-GSCV): 94.444%\n"
     ]
    }
   ],
   "source": [
    "accuracy = accuracy_score(y_test, y_pred_knn_grid)*100\n",
    "print(\"Accuracy del conjunt dades de prova (KNN-GSCV): {:.3f}%\".format(accuracy))"
   ]
  },
  {
   "cell_type": "markdown",
   "id": "a33810a3",
   "metadata": {},
   "source": [
    "El nou model de KNN presenta una precisió de 94,4%, igual que la del KNN inicial.\n"
   ]
  },
  {
   "cell_type": "markdown",
   "id": "4791d546",
   "metadata": {},
   "source": [
    "# Exercici 4\n",
    "Compara el seu rendiment fent servir l’aproximació traint/test o cross-validation."
   ]
  },
  {
   "cell_type": "markdown",
   "id": "84f92bc5",
   "metadata": {},
   "source": [
    "Fet en el exerici 3, al utilitzar la funció GridSearchCV per ajustar els paràmetres es realitza la validació creuada. "
   ]
  },
  {
   "cell_type": "markdown",
   "id": "457754f3",
   "metadata": {},
   "source": [
    "# Exercici 5\n",
    "Aplica algun procés d'enginyeria per millorar els resultats (normalització, estandardització, mostreig...)"
   ]
  },
  {
   "cell_type": "markdown",
   "id": "0d727883",
   "metadata": {},
   "source": [
    "En l'exercici 1 realitzo el preprocessat de les dades, concretament, l'escalat estàndard."
   ]
  },
  {
   "cell_type": "code",
   "execution_count": null,
   "id": "c782e634",
   "metadata": {},
   "outputs": [],
   "source": []
  }
 ],
 "metadata": {
  "kernelspec": {
   "display_name": "Python 3 (ipykernel)",
   "language": "python",
   "name": "python3"
  },
  "language_info": {
   "codemirror_mode": {
    "name": "ipython",
    "version": 3
   },
   "file_extension": ".py",
   "mimetype": "text/x-python",
   "name": "python",
   "nbconvert_exporter": "python",
   "pygments_lexer": "ipython3",
   "version": "3.9.12"
  }
 },
 "nbformat": 4,
 "nbformat_minor": 5
}
