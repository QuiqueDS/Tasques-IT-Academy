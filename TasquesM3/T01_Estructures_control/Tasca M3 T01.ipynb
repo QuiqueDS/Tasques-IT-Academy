{
 "cells": [
  {
   "cell_type": "markdown",
   "id": "6863ea6a",
   "metadata": {},
   "source": [
    "# Exercici 1\n",
    "Crea una funció que donat un Array d’una dimensió, et faci un resum estadístic bàsic de les dades. Si detecta que l’array té més d’una dimensió, ha de mostrar un missatge d’error."
   ]
  },
  {
   "cell_type": "code",
   "execution_count": 1,
   "id": "f9816aa9",
   "metadata": {},
   "outputs": [],
   "source": [
    "import numpy as np\n",
    "from numpy import random\n",
    "from scipy import stats\n",
    "\n",
    "def statisticalSummary(array):\n",
    "    if array.ndim == 1:\n",
    "        print(\"Mitjana aritmètica =\",np.mean(array))\n",
    "        print(\"Mediana =\", np.median(array))\n",
    "        print(\"Moda =\", stats.mode(array))      # Retorna el nombre moda i les vegades que es repeteix.\n",
    "        print(\"Desviació estàndard =\", np.std(array))\n",
    "    else:\n",
    "        print(\"* Error: L'array té més d'una dimensió.\")"
   ]
  },
  {
   "cell_type": "code",
   "execution_count": 2,
   "id": "aa84204c",
   "metadata": {},
   "outputs": [
    {
     "name": "stdout",
     "output_type": "stream",
     "text": [
      "[70 56  4 57 31 30 68 44]\n",
      "Mitjana aritmètica = 45.0\n",
      "Mediana = 50.0\n",
      "Moda = ModeResult(mode=array([4]), count=array([1]))\n",
      "Desviació estàndard = 20.982135258357285\n"
     ]
    }
   ],
   "source": [
    "# Generació de matriu 1D\n",
    "array = random.randint(100, size=(8))\n",
    "print(array)\n",
    "statisticalSummary(array)"
   ]
  },
  {
   "cell_type": "code",
   "execution_count": 3,
   "id": "0b7d5413",
   "metadata": {
    "scrolled": true
   },
   "outputs": [
    {
     "name": "stdout",
     "output_type": "stream",
     "text": [
      "[[16 61 67 93 91 73]\n",
      " [70 19 30 28 75 66]\n",
      " [42 81 28  6 62 88]]\n",
      "* Error: L'array té més d'una dimensió.\n"
     ]
    }
   ],
   "source": [
    "# Generació de matriu 2D\n",
    "array = random.randint(100, size=(3, 6))\n",
    "print(array)\n",
    "statisticalSummary(array)"
   ]
  },
  {
   "cell_type": "markdown",
   "id": "33e4d455",
   "metadata": {},
   "source": [
    "# Exercici 2\n",
    "Crea una funció que et generi un quadrat NxN de nombres aleatoris entre el 0 i el 100."
   ]
  },
  {
   "cell_type": "code",
   "execution_count": 4,
   "id": "408ff01c",
   "metadata": {},
   "outputs": [],
   "source": [
    "import numpy as np\n",
    "\n",
    "def createSquare(n):\n",
    "    arraySquare = random.randint(100, size=(n, n))\n",
    "    print(arraySquare)"
   ]
  },
  {
   "cell_type": "code",
   "execution_count": 5,
   "id": "97fc44d3",
   "metadata": {},
   "outputs": [
    {
     "name": "stdout",
     "output_type": "stream",
     "text": [
      "4\n",
      "[[47 44 99 25]\n",
      " [ 1 98 91 74]\n",
      " [37 59 29 25]\n",
      " [12 85 13 99]]\n"
     ]
    }
   ],
   "source": [
    "n = random.randint(1, 6)\n",
    "print(n)\n",
    "createSquare(n)"
   ]
  },
  {
   "cell_type": "markdown",
   "id": "a33b97d0",
   "metadata": {},
   "source": [
    "# Exercici 3\n",
    "Crea una funció que donada una taula de dues dimensions (NxM), et calculi els totals per fila i els totals per columna."
   ]
  },
  {
   "cell_type": "code",
   "execution_count": 6,
   "id": "e121c5e7",
   "metadata": {},
   "outputs": [],
   "source": [
    "def sumForRowForColumn(array):\n",
    "    arraySumRows = np.sum(array, axis=1)\n",
    "    arraySumColumns = np.sum(array, axis=0)\n",
    "    print(\"Les sumes per fila són \",arraySumRows)\n",
    "    print(\"Les sumes per columna són \", arraySumColumns)"
   ]
  },
  {
   "cell_type": "code",
   "execution_count": 7,
   "id": "213e0e2e",
   "metadata": {},
   "outputs": [
    {
     "data": {
      "text/plain": [
       "array([[7, 0, 7, 5, 4],\n",
       "       [2, 1, 1, 5, 2],\n",
       "       [8, 3, 3, 1, 3]])"
      ]
     },
     "execution_count": 7,
     "metadata": {},
     "output_type": "execute_result"
    }
   ],
   "source": [
    "array = random.randint(10, size=(3, 5))\n",
    "array"
   ]
  },
  {
   "cell_type": "code",
   "execution_count": 8,
   "id": "4ba2eed2",
   "metadata": {},
   "outputs": [
    {
     "name": "stdout",
     "output_type": "stream",
     "text": [
      "Les sumes per fila són  [23 11 18]\n",
      "Les sumes per columna són  [17  4 11 11  9]\n"
     ]
    }
   ],
   "source": [
    "sumForRowForColumn(array)"
   ]
  }
 ],
 "metadata": {
  "kernelspec": {
   "display_name": "Python 3 (ipykernel)",
   "language": "python",
   "name": "python3"
  },
  "language_info": {
   "codemirror_mode": {
    "name": "ipython",
    "version": 3
   },
   "file_extension": ".py",
   "mimetype": "text/x-python",
   "name": "python",
   "nbconvert_exporter": "python",
   "pygments_lexer": "ipython3",
   "version": "3.9.12"
  }
 },
 "nbformat": 4,
 "nbformat_minor": 5
}
