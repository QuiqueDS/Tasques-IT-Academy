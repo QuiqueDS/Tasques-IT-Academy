{
 "cells": [
  {
   "cell_type": "markdown",
   "id": "ba18632c",
   "metadata": {},
   "source": [
    "# Tasca M2 T01"
   ]
  },
  {
   "cell_type": "markdown",
   "id": "411fa77a",
   "metadata": {},
   "source": [
    "## Exercici 1\n",
    "\n",
    "Crea una llista que agrupi els mesos de l’any en trimestres.\n"
   ]
  },
  {
   "cell_type": "code",
   "execution_count": 3,
   "id": "7b4c7701",
   "metadata": {},
   "outputs": [
    {
     "name": "stdout",
     "output_type": "stream",
     "text": [
      "[['gener', 'febrer', 'març'], ['abril', 'maig', 'juny'], ['juliol', 'agost', 'setembre'], ['octubre', 'novembre', 'desembre']]\n"
     ]
    }
   ],
   "source": [
    "listMonths = [[\"gener\", \"febrer\", \"març\"],  [\"abril\", \"maig\", \"juny\"], [\"juliol\", \"agost\", \"setembre\"],\n",
    "              [\"octubre\", \"novembre\", \"desembre\"]]\n",
    "print(listMonths)"
   ]
  },
  {
   "cell_type": "markdown",
   "id": "1156e74e",
   "metadata": {},
   "source": [
    "## Exercici 2\n",
    "Crea un codi que et permeti accedir a:"
   ]
  },
  {
   "cell_type": "code",
   "execution_count": 2,
   "id": "6e9b5119",
   "metadata": {},
   "outputs": [
    {
     "name": "stdout",
     "output_type": "stream",
     "text": [
      "El segon mes del primer trimestre és: febrer\n"
     ]
    }
   ],
   "source": [
    "#El segon mes del primer trimestre\n",
    "print('El segon mes del primer trimestre és:',listMonths[0][1])"
   ]
  },
  {
   "cell_type": "code",
   "execution_count": 4,
   "id": "588d86e1",
   "metadata": {},
   "outputs": [
    {
     "name": "stdout",
     "output_type": "stream",
     "text": [
      "Els mesos del primer trimestre són: ['gener', 'febrer', 'març']\n"
     ]
    }
   ],
   "source": [
    "#Els mesos del primer trimestre\n",
    "print(\"Els mesos del primer trimestre són:\",listMonths[0])"
   ]
  },
  {
   "cell_type": "code",
   "execution_count": 6,
   "id": "057a69db",
   "metadata": {},
   "outputs": [
    {
     "name": "stdout",
     "output_type": "stream",
     "text": [
      "setembre i octubre\n"
     ]
    }
   ],
   "source": [
    "#Setembre i octubre\n",
    "print(listMonths[2][2],\"i\",listMonths[3][0])"
   ]
  },
  {
   "cell_type": "markdown",
   "id": "b6ab937c",
   "metadata": {},
   "source": [
    "## Exercici 3\n",
    "Crea una llista amb nombres desordenats i respon a les següents preguntes:\n"
   ]
  },
  {
   "cell_type": "code",
   "execution_count": 8,
   "id": "f14dd73a",
   "metadata": {},
   "outputs": [
    {
     "name": "stdout",
     "output_type": "stream",
     "text": [
      "Hi ha 12\n"
     ]
    }
   ],
   "source": [
    "listNumbers = [10, 2, 3, 0, 5, 2, 1, 8, 7, 2, 6, 6]\n",
    "\n",
    "#Quants números hi ha?\n",
    "print(\"Hi ha\",len(listNumbers))"
   ]
  },
  {
   "cell_type": "code",
   "execution_count": 11,
   "id": "095db4c2",
   "metadata": {},
   "outputs": [
    {
     "name": "stdout",
     "output_type": "stream",
     "text": [
      "El número 3 apareix 1 cop.\n"
     ]
    }
   ],
   "source": [
    "#Quantes vegades apareix el número 3.\n",
    "x = listNumbers.count(3)\n",
    "print(\"El número 3 apareix\",x,\"cop.\")"
   ]
  },
  {
   "cell_type": "code",
   "execution_count": 12,
   "id": "042f311f",
   "metadata": {},
   "outputs": [
    {
     "name": "stdout",
     "output_type": "stream",
     "text": [
      "El número 3 apareix 1 cops.\n",
      "El número 4 apareix 0 cops.\n"
     ]
    }
   ],
   "source": [
    "#Quantes vegades apareixen els nombres 3 i 4?\n",
    "x = listNumbers.count(3)\n",
    "y = listNumbers.count(4)\n",
    "print(\"El número 3 apareix\",x,\"cops.\")\n",
    "print(\"El número 4 apareix\",y,\"cops.\")"
   ]
  },
  {
   "cell_type": "code",
   "execution_count": 20,
   "id": "359076ea",
   "metadata": {},
   "outputs": [
    {
     "name": "stdout",
     "output_type": "stream",
     "text": [
      "El número més gran és 10\n",
      "El número més gran és 10\n"
     ]
    }
   ],
   "source": [
    "#Quin és el número més gran?\n",
    "maxNumber = max(listNumbers)\n",
    "print(\"El número més gran és\",maxNumber)\n",
    "\n",
    "#Altra resolució:\n",
    "maxValue = None\n",
    "for x in listNumbers:\n",
    "    if (maxValue is None or x > maxValue):\n",
    "        maxValue = x\n",
    "print (\"El número més gran és\",maxValue)      \n"
   ]
  },
  {
   "cell_type": "code",
   "execution_count": 16,
   "id": "0e7fdd6d",
   "metadata": {},
   "outputs": [
    {
     "name": "stdout",
     "output_type": "stream",
     "text": [
      "Els tres números més petits són [0, 1, 2]\n"
     ]
    }
   ],
   "source": [
    "#Quins són els 3 números més petits?\n",
    "setNumbers = set(listNumbers)\n",
    "listSingleNumbers = list(setNumbers)\n",
    "listSingleNumbers.sort()\n",
    "print(\"Els tres números més petits són\",listSingleNumbers[0:3])"
   ]
  },
  {
   "cell_type": "code",
   "execution_count": 18,
   "id": "591edc06",
   "metadata": {},
   "outputs": [
    {
     "name": "stdout",
     "output_type": "stream",
     "text": [
      "El rang de la llista és ( 0 , 10 ).\n"
     ]
    }
   ],
   "source": [
    "#Quin és el rang d’aquesta llista?\n",
    "maxValue = max(listNumbers)\n",
    "minValue = min(listNumbers)\n",
    "print(\"El rang de la llista és (\",minValue,\",\",maxValue,\").\")"
   ]
  },
  {
   "cell_type": "markdown",
   "id": "7a83bf17",
   "metadata": {},
   "source": [
    "## Exercici 4\n",
    "Crea un diccionari de la següent forma i respon a les preguntes:\n",
    "\n",
    "    compra = { \"Pomes\" : {\"Qty\": 5, \"€\": 0.42}, \"Peres\" : {\"Qty\": 3, \"€\": 0.66} }"
   ]
  },
  {
   "cell_type": "code",
   "execution_count": 1,
   "id": "91ccb48a",
   "metadata": {},
   "outputs": [
    {
     "name": "stdout",
     "output_type": "stream",
     "text": [
      "{'Pomes': {'Qty': 5, '€': 0.42}, 'Peres': {'Qty': 3, '€': 0.66}}\n"
     ]
    }
   ],
   "source": [
    "compra = {\n",
    "    \"Pomes\":{\"Qty\": 5, \"€\": 0.42},\n",
    "    \"Peres\":{\"Qty\": 3, \"€\": 0.66}\n",
    "}\n",
    "print(compra)"
   ]
  },
  {
   "cell_type": "code",
   "execution_count": 2,
   "id": "4ce1bcbc",
   "metadata": {},
   "outputs": [
    {
     "name": "stdout",
     "output_type": "stream",
     "text": [
      "{'Pomes': {'Qty': 5, '€': 0.42}, 'Peres': {'Qty': 3, '€': 0.66}, 'Plàtans': {'Qty': 6, '€': 0.5}, 'Melons': {'Qty': 2, '€': 6.0}}\n"
     ]
    }
   ],
   "source": [
    "#Afegeix alguna fruita més\n",
    "compra[\"Plàtans\"] = {\"Qty\": 6, \"€\": 0.50}\n",
    "compra[\"Melons\"] = {\"Qty\": 2, \"€\": 6.0 }\n",
    "print(compra)"
   ]
  },
  {
   "cell_type": "code",
   "execution_count": 3,
   "id": "d9e03985",
   "metadata": {},
   "outputs": [
    {
     "name": "stdout",
     "output_type": "stream",
     "text": [
      "El preu total de les peres és de 1.98 euros.\n"
     ]
    }
   ],
   "source": [
    "#Quant han costat les peres en total?\n",
    "pricePears = compra['Peres'][\"Qty\"] * compra['Peres'][\"€\"]\n",
    "print(\"El preu total de les peres és de\",pricePears,\"euros.\")"
   ]
  },
  {
   "cell_type": "code",
   "execution_count": 4,
   "id": "d9d6d8d6",
   "metadata": {},
   "outputs": [
    {
     "name": "stdout",
     "output_type": "stream",
     "text": [
      "Les fruites comprades en total són 16\n"
     ]
    }
   ],
   "source": [
    "#Quantes fruites hem comprat en total?\n",
    "totalFruits = 0\n",
    "for x in compra:\n",
    "   totalFruits += compra[x][\"Qty\"]\n",
    "print(\"Les fruites comprades en total són\",totalFruits)"
   ]
  },
  {
   "cell_type": "code",
   "execution_count": 7,
   "id": "640b2dc0",
   "metadata": {},
   "outputs": [
    {
     "name": "stdout",
     "output_type": "stream",
     "text": [
      "[('Pomes', {'Qty': 5, '€': 0.42}), ('Plàtans', {'Qty': 6, '€': 0.5}), ('Peres', {'Qty': 3, '€': 0.66}), ('Melons', {'Qty': 2, '€': 6.0})]\n",
      "La fruita més cara són Melons\n"
     ]
    }
   ],
   "source": [
    "#Quina és la fruita més cara?\n",
    "listSortedCompra = sorted(compra.items(), key = lambda x: x[1][\"€\"])\n",
    "print(listSortedCompra)  # codi de control\n",
    "x = listSortedCompra[len(listSortedCompra)-1][0]\n",
    "print(\"La fruita més cara són \" + x)\n"
   ]
  },
  {
   "cell_type": "code",
   "execution_count": null,
   "id": "ad3d1ab5",
   "metadata": {},
   "outputs": [],
   "source": []
  }
 ],
 "metadata": {
  "kernelspec": {
   "display_name": "Python 3 (ipykernel)",
   "language": "python",
   "name": "python3"
  },
  "language_info": {
   "codemirror_mode": {
    "name": "ipython",
    "version": 3
   },
   "file_extension": ".py",
   "mimetype": "text/x-python",
   "name": "python",
   "nbconvert_exporter": "python",
   "pygments_lexer": "ipython3",
   "version": "3.9.12"
  }
 },
 "nbformat": 4,
 "nbformat_minor": 5
}
