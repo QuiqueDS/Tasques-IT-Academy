{
 "cells": [
  {
   "cell_type": "markdown",
   "id": "5fb2ba5d",
   "metadata": {},
   "source": [
    "## Exercici 1\n",
    "L'exercici consisteix a crear un programa que et classifiqui una variable numèrica en funció de l’escala Suspès/Aprovat/Notable/Excel·lent.\n"
   ]
  },
  {
   "cell_type": "code",
   "execution_count": 1,
   "id": "0782b44e",
   "metadata": {},
   "outputs": [
    {
     "name": "stdout",
     "output_type": "stream",
     "text": [
      "Escriu una nota numèrica: 9\n",
      "La nota és 9.0 .\n",
      "La nota és excel·lent.\n"
     ]
    }
   ],
   "source": [
    "mark = float(input(\"Escriu una nota numèrica: \"))\n",
    "print(\"La nota és\",mark,\".\")\n",
    "\n",
    "if mark >= 9:\n",
    "    print(\"La nota és excel·lent.\")\n",
    "elif mark >= 7:\n",
    "    print(\"La nota és notable.\")\n",
    "elif mark>= 5:\n",
    "    print(\"La nota és aprovat.\")\n",
    "else:\n",
    "    print(\"La nota és suspès.\")\n"
   ]
  },
  {
   "cell_type": "markdown",
   "id": "62178252",
   "metadata": {},
   "source": [
    "## Exercici 2\n",
    "Utilitzant el següent tutorial crea un programa que et pregunti dos números. T’ha de mostrar un missatge dient si el primerés més gran, el segon és més gran o són iguals."
   ]
  },
  {
   "cell_type": "code",
   "execution_count": 2,
   "id": "3eaf4361",
   "metadata": {},
   "outputs": [
    {
     "name": "stdout",
     "output_type": "stream",
     "text": [
      "Escriu un número: 30\n",
      "Escriu un segon número: 35\n",
      "El segon número -35- és més gran.\n"
     ]
    }
   ],
   "source": [
    "number1 = int(input(\"Escriu un número: \"))\n",
    "number2 = int(input(\"Escriu un segon número: \"))\n",
    "\n",
    "if number1 > number2:\n",
    "    print(\"El primer número -{}- és més gran.\".format(number1))\n",
    "elif number1 < number2:\n",
    "    print(\"El segon número -{}- és més gran.\".format(number2))\n",
    "else:\n",
    "    print(\"Els dos números -{}- són iguals.\".format(number1))\n",
    "\n",
    "    "
   ]
  },
  {
   "cell_type": "markdown",
   "id": "906ed57b",
   "metadata": {},
   "source": [
    "## Exercici 3\n",
    "Crea un programa que et pregunti el teu nom, i et demani un número. Si el número és 0, hauria de mostrar un missatge d’error. En cas contrari, hauria de mostrar el nom repetit tants cops com indiqui el número."
   ]
  },
  {
   "cell_type": "code",
   "execution_count": 6,
   "id": "d31dd2f2",
   "metadata": {},
   "outputs": [
    {
     "name": "stdout",
     "output_type": "stream",
     "text": [
      "Escriu el teu nom: Mary\n",
      "Escriu un número: -5\n",
      "\n",
      ">> Error: -5 no és vàlid.\n",
      "Introdueix un altre número: 6\n",
      "['Mary', 'Mary', 'Mary', 'Mary', 'Mary', 'Mary']\n"
     ]
    }
   ],
   "source": [
    "name = input(\"Escriu el teu nom: \")\n",
    "number = int(input(\"Escriu un número: \"))\n",
    "\n",
    "if number > 0:\n",
    "    listName = []\n",
    "    i = 0\n",
    "    for i in range(number):\n",
    "        listName.append(name) \n",
    "    print(listName)\n",
    "else:\n",
    "    print (\"\\n>> Error:\",number,\"no és vàlid.\")\n",
    "    number = int(input(\"Introdueix un altre número: \"))  #extra exercici\n",
    "    if number > 0:\n",
    "        listName = []\n",
    "        i = 0\n",
    "        for i in range(number):\n",
    "            listName.append(name) \n",
    "        print(listName)\n",
    "    "
   ]
  },
  {
   "cell_type": "markdown",
   "id": "a8b3dfe0",
   "metadata": {},
   "source": [
    "## Exercici 4\n",
    "Crea un programa que donada una llista qualsevol, et digui si és simètrica o no. Si ho és, que et digui quants elements té."
   ]
  },
  {
   "cell_type": "code",
   "execution_count": 9,
   "id": "ea7281a0",
   "metadata": {},
   "outputs": [
    {
     "name": "stdout",
     "output_type": "stream",
     "text": [
      "La llista [2, 3, 0, 0, 3, 2] és simètrica.\n",
      "La llista té 6 elements.\n"
     ]
    }
   ],
   "source": [
    "# Resolució (a) usant la funció reversed()\n",
    "listNumbers = [2, 3, 0, 0, 3, 2]\n",
    "listNumbers2 = list(reversed(listNumbers))\n",
    "\n",
    "if listNumbers == listNumbers2:\n",
    "    print(\"La llista\",listNumbers,\"és simètrica.\")\n",
    "    print(\"La llista té\",len(listNumbers),\"elements.\")\n",
    "else:\n",
    "    print(\"La llista\",listNumbers,\"no és simètrica.\")"
   ]
  },
  {
   "cell_type": "code",
   "execution_count": 7,
   "id": "4d541ec3",
   "metadata": {},
   "outputs": [
    {
     "name": "stdout",
     "output_type": "stream",
     "text": [
      "La llista [2, 3, 4, 4, 3, 2] és simètrica i conté 6 elements.\n"
     ]
    }
   ],
   "source": [
    "# Resolució (b) amb bucle for per invertir la llista\n",
    "\n",
    "listNumbers = [2, 3, 4, 4, 3, 2]\n",
    "listNumbers2 = []\n",
    "\n",
    "for x in range(len(listNumbers)-1,-1,-1):\n",
    "    listNumbers2.append(listNumbers[x])\n",
    "# print(listNumbers2)    control code\n",
    "\n",
    "if listNumbers == listNumbers2:\n",
    "    print(\"La llista\",listNumbers,\"és simètrica i conté\",len(listNumbers),\"elements.\")\n",
    "else:\n",
    "    print(\"La llista\",listNumbers,\"no és simètrica.\")"
   ]
  },
  {
   "cell_type": "markdown",
   "id": "28d5f274",
   "metadata": {},
   "source": [
    "## Exercici 5\n",
    "Crea un programa que donada una llista, et digui quants números coincideixen amb la seva posició."
   ]
  },
  {
   "cell_type": "code",
   "execution_count": 7,
   "id": "835f69aa",
   "metadata": {},
   "outputs": [
    {
     "name": "stdout",
     "output_type": "stream",
     "text": [
      "Els números [0, 1, 5] coincideixen amb la seva posició a la llista.\n"
     ]
    }
   ],
   "source": [
    "listNumbers = [0,1,0,1,7,5,4]\n",
    "listMatchingNumbers = []\n",
    "\n",
    "for x in range(len(listNumbers)):\n",
    "      if listNumbers[x] == x:\n",
    "            listMatchingNumbers.append(x)\n",
    "print(\"Els números\",listMatchingNumbers,\"coincideixen amb la seva posició a la llista.\")\n"
   ]
  },
  {
   "cell_type": "code",
   "execution_count": null,
   "id": "aaa961f0",
   "metadata": {},
   "outputs": [],
   "source": []
  }
 ],
 "metadata": {
  "kernelspec": {
   "display_name": "Python 3 (ipykernel)",
   "language": "python",
   "name": "python3"
  },
  "language_info": {
   "codemirror_mode": {
    "name": "ipython",
    "version": 3
   },
   "file_extension": ".py",
   "mimetype": "text/x-python",
   "name": "python",
   "nbconvert_exporter": "python",
   "pygments_lexer": "ipython3",
   "version": "3.9.12"
  }
 },
 "nbformat": 4,
 "nbformat_minor": 5
}
