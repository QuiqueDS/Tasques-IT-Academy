{
 "cells": [
  {
   "cell_type": "markdown",
   "id": "f77e99b9",
   "metadata": {},
   "source": [
    "# Tasca M6 T01\n",
    "Exercicis per practicar amb regressions."
   ]
  },
  {
   "cell_type": "markdown",
   "id": "0ababec2",
   "metadata": {},
   "source": [
    "## Exercici 1\n",
    "Crea almenys dos models de regressió diferents per intentar predir el millor possible el preu de les vivendes (MEDV) de l'arxiu adjunt."
   ]
  },
  {
   "cell_type": "code",
   "execution_count": 1,
   "id": "ac0fd521",
   "metadata": {},
   "outputs": [],
   "source": [
    "import os\n",
    "import pandas as pd\n",
    "import numpy as np\n",
    "\n",
    "from sklearn.preprocessing import StandardScaler\n",
    "from sklearn.compose import ColumnTransformer\n",
    "\n",
    "from sklearn.model_selection import train_test_split\n",
    "from sklearn import preprocessing\n",
    "\n",
    "import statsmodels.api as sm\n",
    "from sklearn import linear_model\n",
    "\n",
    "from sklearn.metrics import mean_squared_error\n",
    "import math"
   ]
  },
  {
   "cell_type": "code",
   "execution_count": 2,
   "id": "5eaae69e",
   "metadata": {},
   "outputs": [
    {
     "data": {
      "text/html": [
       "<div>\n",
       "<style scoped>\n",
       "    .dataframe tbody tr th:only-of-type {\n",
       "        vertical-align: middle;\n",
       "    }\n",
       "\n",
       "    .dataframe tbody tr th {\n",
       "        vertical-align: top;\n",
       "    }\n",
       "\n",
       "    .dataframe thead th {\n",
       "        text-align: right;\n",
       "    }\n",
       "</style>\n",
       "<table border=\"1\" class=\"dataframe\">\n",
       "  <thead>\n",
       "    <tr style=\"text-align: right;\">\n",
       "      <th></th>\n",
       "      <th>0.00632</th>\n",
       "      <th>18.00</th>\n",
       "      <th>2.310</th>\n",
       "      <th>0</th>\n",
       "      <th>0.5380</th>\n",
       "      <th>6.5750</th>\n",
       "      <th>65.20</th>\n",
       "      <th>4.0900</th>\n",
       "      <th>1</th>\n",
       "      <th>296.0</th>\n",
       "      <th>15.30</th>\n",
       "      <th>396.90</th>\n",
       "      <th>4.98</th>\n",
       "      <th>24.00</th>\n",
       "    </tr>\n",
       "  </thead>\n",
       "  <tbody>\n",
       "    <tr>\n",
       "      <th>0</th>\n",
       "      <td>0.02731</td>\n",
       "      <td>0.0</td>\n",
       "      <td>7.07</td>\n",
       "      <td>0</td>\n",
       "      <td>0.469</td>\n",
       "      <td>6.421</td>\n",
       "      <td>78.9</td>\n",
       "      <td>4.9671</td>\n",
       "      <td>2</td>\n",
       "      <td>242.0</td>\n",
       "      <td>17.8</td>\n",
       "      <td>396.90</td>\n",
       "      <td>9.14</td>\n",
       "      <td>21.6</td>\n",
       "    </tr>\n",
       "    <tr>\n",
       "      <th>1</th>\n",
       "      <td>0.02729</td>\n",
       "      <td>0.0</td>\n",
       "      <td>7.07</td>\n",
       "      <td>0</td>\n",
       "      <td>0.469</td>\n",
       "      <td>7.185</td>\n",
       "      <td>61.1</td>\n",
       "      <td>4.9671</td>\n",
       "      <td>2</td>\n",
       "      <td>242.0</td>\n",
       "      <td>17.8</td>\n",
       "      <td>392.83</td>\n",
       "      <td>4.03</td>\n",
       "      <td>34.7</td>\n",
       "    </tr>\n",
       "    <tr>\n",
       "      <th>2</th>\n",
       "      <td>0.03237</td>\n",
       "      <td>0.0</td>\n",
       "      <td>2.18</td>\n",
       "      <td>0</td>\n",
       "      <td>0.458</td>\n",
       "      <td>6.998</td>\n",
       "      <td>45.8</td>\n",
       "      <td>6.0622</td>\n",
       "      <td>3</td>\n",
       "      <td>222.0</td>\n",
       "      <td>18.7</td>\n",
       "      <td>394.63</td>\n",
       "      <td>2.94</td>\n",
       "      <td>33.4</td>\n",
       "    </tr>\n",
       "    <tr>\n",
       "      <th>3</th>\n",
       "      <td>0.06905</td>\n",
       "      <td>0.0</td>\n",
       "      <td>2.18</td>\n",
       "      <td>0</td>\n",
       "      <td>0.458</td>\n",
       "      <td>7.147</td>\n",
       "      <td>54.2</td>\n",
       "      <td>6.0622</td>\n",
       "      <td>3</td>\n",
       "      <td>222.0</td>\n",
       "      <td>18.7</td>\n",
       "      <td>396.90</td>\n",
       "      <td>5.33</td>\n",
       "      <td>36.2</td>\n",
       "    </tr>\n",
       "  </tbody>\n",
       "</table>\n",
       "</div>"
      ],
      "text/plain": [
       "   0.00632  18.00  2.310  0  0.5380  6.5750  65.20  4.0900  1  296.0  15.30  \\\n",
       "0  0.02731    0.0   7.07  0   0.469   6.421   78.9  4.9671  2  242.0   17.8   \n",
       "1  0.02729    0.0   7.07  0   0.469   7.185   61.1  4.9671  2  242.0   17.8   \n",
       "2  0.03237    0.0   2.18  0   0.458   6.998   45.8  6.0622  3  222.0   18.7   \n",
       "3  0.06905    0.0   2.18  0   0.458   7.147   54.2  6.0622  3  222.0   18.7   \n",
       "\n",
       "   396.90  4.98  24.00  \n",
       "0  396.90  9.14   21.6  \n",
       "1  392.83  4.03   34.7  \n",
       "2  394.63  2.94   33.4  \n",
       "3  396.90  5.33   36.2  "
      ]
     },
     "execution_count": 2,
     "metadata": {},
     "output_type": "execute_result"
    }
   ],
   "source": [
    "filePath = r\"C:\\Formación\\2022 BarcelonaActiva\\CursDSOnline\\Sprint06_aprenentatge_supervisat\" + os.sep\n",
    "file = filePath + \"housing data.csv\"\n",
    "dfBoston = pd.read_csv(file)\n",
    "dfBoston.head(4)"
   ]
  },
  {
   "cell_type": "code",
   "execution_count": 3,
   "id": "a15f435e",
   "metadata": {},
   "outputs": [
    {
     "data": {
      "text/plain": [
       "Index(['CRIM', 'ZN', 'INDUS', 'CHAS', 'NOX', 'RM', 'AGE', 'DIS', 'RAD', 'TAX',\n",
       "       'PTRATIO', 'B', 'LSTAT', 'MEDV'],\n",
       "      dtype='object')"
      ]
     },
     "execution_count": 3,
     "metadata": {},
     "output_type": "execute_result"
    }
   ],
   "source": [
    "# Reanomeno les columnes del dataframe perquè siguin més descriptives\n",
    "dfBoston.columns= ['CRIM', 'ZN', 'INDUS','CHAS', 'NOX', 'RM', 'AGE', 'DIS', 'RAD', 'TAX', 'PTRATIO', 'B', 'LSTAT', 'MEDV']\n",
    "dfBoston.columns"
   ]
  },
  {
   "cell_type": "code",
   "execution_count": 4,
   "id": "7761248b",
   "metadata": {},
   "outputs": [],
   "source": [
    "dfBoston.columns = [col.lower() for col in dfBoston.columns]"
   ]
  },
  {
   "cell_type": "markdown",
   "id": "94d6bd7a",
   "metadata": {},
   "source": [
    "### Anàlisi descriptiu de les dades"
   ]
  },
  {
   "cell_type": "code",
   "execution_count": 5,
   "id": "ff54990c",
   "metadata": {},
   "outputs": [
    {
     "data": {
      "text/html": [
       "<div>\n",
       "<style scoped>\n",
       "    .dataframe tbody tr th:only-of-type {\n",
       "        vertical-align: middle;\n",
       "    }\n",
       "\n",
       "    .dataframe tbody tr th {\n",
       "        vertical-align: top;\n",
       "    }\n",
       "\n",
       "    .dataframe thead th {\n",
       "        text-align: right;\n",
       "    }\n",
       "</style>\n",
       "<table border=\"1\" class=\"dataframe\">\n",
       "  <thead>\n",
       "    <tr style=\"text-align: right;\">\n",
       "      <th></th>\n",
       "      <th>crim</th>\n",
       "      <th>zn</th>\n",
       "      <th>indus</th>\n",
       "      <th>chas</th>\n",
       "      <th>nox</th>\n",
       "      <th>rm</th>\n",
       "      <th>age</th>\n",
       "      <th>dis</th>\n",
       "      <th>rad</th>\n",
       "      <th>tax</th>\n",
       "      <th>ptratio</th>\n",
       "      <th>b</th>\n",
       "      <th>lstat</th>\n",
       "      <th>medv</th>\n",
       "    </tr>\n",
       "  </thead>\n",
       "  <tbody>\n",
       "    <tr>\n",
       "      <th>0</th>\n",
       "      <td>0.02731</td>\n",
       "      <td>0.0</td>\n",
       "      <td>7.07</td>\n",
       "      <td>0</td>\n",
       "      <td>0.469</td>\n",
       "      <td>6.421</td>\n",
       "      <td>78.9</td>\n",
       "      <td>4.9671</td>\n",
       "      <td>2</td>\n",
       "      <td>242.0</td>\n",
       "      <td>17.8</td>\n",
       "      <td>396.90</td>\n",
       "      <td>9.14</td>\n",
       "      <td>21.6</td>\n",
       "    </tr>\n",
       "    <tr>\n",
       "      <th>1</th>\n",
       "      <td>0.02729</td>\n",
       "      <td>0.0</td>\n",
       "      <td>7.07</td>\n",
       "      <td>0</td>\n",
       "      <td>0.469</td>\n",
       "      <td>7.185</td>\n",
       "      <td>61.1</td>\n",
       "      <td>4.9671</td>\n",
       "      <td>2</td>\n",
       "      <td>242.0</td>\n",
       "      <td>17.8</td>\n",
       "      <td>392.83</td>\n",
       "      <td>4.03</td>\n",
       "      <td>34.7</td>\n",
       "    </tr>\n",
       "    <tr>\n",
       "      <th>2</th>\n",
       "      <td>0.03237</td>\n",
       "      <td>0.0</td>\n",
       "      <td>2.18</td>\n",
       "      <td>0</td>\n",
       "      <td>0.458</td>\n",
       "      <td>6.998</td>\n",
       "      <td>45.8</td>\n",
       "      <td>6.0622</td>\n",
       "      <td>3</td>\n",
       "      <td>222.0</td>\n",
       "      <td>18.7</td>\n",
       "      <td>394.63</td>\n",
       "      <td>2.94</td>\n",
       "      <td>33.4</td>\n",
       "    </tr>\n",
       "    <tr>\n",
       "      <th>3</th>\n",
       "      <td>0.06905</td>\n",
       "      <td>0.0</td>\n",
       "      <td>2.18</td>\n",
       "      <td>0</td>\n",
       "      <td>0.458</td>\n",
       "      <td>7.147</td>\n",
       "      <td>54.2</td>\n",
       "      <td>6.0622</td>\n",
       "      <td>3</td>\n",
       "      <td>222.0</td>\n",
       "      <td>18.7</td>\n",
       "      <td>396.90</td>\n",
       "      <td>5.33</td>\n",
       "      <td>36.2</td>\n",
       "    </tr>\n",
       "  </tbody>\n",
       "</table>\n",
       "</div>"
      ],
      "text/plain": [
       "      crim   zn  indus  chas    nox     rm   age     dis  rad    tax  ptratio  \\\n",
       "0  0.02731  0.0   7.07     0  0.469  6.421  78.9  4.9671    2  242.0     17.8   \n",
       "1  0.02729  0.0   7.07     0  0.469  7.185  61.1  4.9671    2  242.0     17.8   \n",
       "2  0.03237  0.0   2.18     0  0.458  6.998  45.8  6.0622    3  222.0     18.7   \n",
       "3  0.06905  0.0   2.18     0  0.458  7.147  54.2  6.0622    3  222.0     18.7   \n",
       "\n",
       "        b  lstat  medv  \n",
       "0  396.90   9.14  21.6  \n",
       "1  392.83   4.03  34.7  \n",
       "2  394.63   2.94  33.4  \n",
       "3  396.90   5.33  36.2  "
      ]
     },
     "execution_count": 5,
     "metadata": {},
     "output_type": "execute_result"
    }
   ],
   "source": [
    "dfBoston.head(4)"
   ]
  },
  {
   "cell_type": "code",
   "execution_count": 6,
   "id": "92ff9b12",
   "metadata": {},
   "outputs": [
    {
     "name": "stdout",
     "output_type": "stream",
     "text": [
      "<class 'pandas.core.frame.DataFrame'>\n",
      "RangeIndex: 505 entries, 0 to 504\n",
      "Data columns (total 14 columns):\n",
      " #   Column   Non-Null Count  Dtype  \n",
      "---  ------   --------------  -----  \n",
      " 0   crim     505 non-null    float64\n",
      " 1   zn       505 non-null    float64\n",
      " 2   indus    505 non-null    float64\n",
      " 3   chas     505 non-null    int64  \n",
      " 4   nox      505 non-null    float64\n",
      " 5   rm       505 non-null    float64\n",
      " 6   age      505 non-null    float64\n",
      " 7   dis      505 non-null    float64\n",
      " 8   rad      505 non-null    int64  \n",
      " 9   tax      505 non-null    float64\n",
      " 10  ptratio  505 non-null    float64\n",
      " 11  b        505 non-null    float64\n",
      " 12  lstat    505 non-null    float64\n",
      " 13  medv     505 non-null    float64\n",
      "dtypes: float64(12), int64(2)\n",
      "memory usage: 55.4 KB\n"
     ]
    }
   ],
   "source": [
    "# Tipus de dades de cada columna\n",
    "dfBoston.info()"
   ]
  },
  {
   "cell_type": "code",
   "execution_count": 7,
   "id": "50c003bf",
   "metadata": {},
   "outputs": [
    {
     "data": {
      "text/plain": [
       "(505, 14)"
      ]
     },
     "execution_count": 7,
     "metadata": {},
     "output_type": "execute_result"
    }
   ],
   "source": [
    "# Dimensions del dataframe\n",
    "dfBoston.shape"
   ]
  },
  {
   "cell_type": "code",
   "execution_count": 8,
   "id": "c0f6131d",
   "metadata": {},
   "outputs": [
    {
     "data": {
      "text/plain": [
       "crim       0\n",
       "zn         0\n",
       "indus      0\n",
       "chas       0\n",
       "nox        0\n",
       "rm         0\n",
       "age        0\n",
       "dis        0\n",
       "rad        0\n",
       "tax        0\n",
       "ptratio    0\n",
       "b          0\n",
       "lstat      0\n",
       "medv       0\n",
       "dtype: int64"
      ]
     },
     "execution_count": 8,
     "metadata": {},
     "output_type": "execute_result"
    }
   ],
   "source": [
    "# Nombre de valors absents per variable\n",
    "dfBoston.isna().sum().sort_values()"
   ]
  },
  {
   "cell_type": "code",
   "execution_count": 9,
   "id": "fbd6732a",
   "metadata": {},
   "outputs": [
    {
     "data": {
      "text/html": [
       "<div>\n",
       "<style scoped>\n",
       "    .dataframe tbody tr th:only-of-type {\n",
       "        vertical-align: middle;\n",
       "    }\n",
       "\n",
       "    .dataframe tbody tr th {\n",
       "        vertical-align: top;\n",
       "    }\n",
       "\n",
       "    .dataframe thead th {\n",
       "        text-align: right;\n",
       "    }\n",
       "</style>\n",
       "<table border=\"1\" class=\"dataframe\">\n",
       "  <thead>\n",
       "    <tr style=\"text-align: right;\">\n",
       "      <th></th>\n",
       "      <th>crim</th>\n",
       "      <th>zn</th>\n",
       "      <th>indus</th>\n",
       "      <th>chas</th>\n",
       "      <th>nox</th>\n",
       "      <th>rm</th>\n",
       "      <th>age</th>\n",
       "      <th>dis</th>\n",
       "      <th>rad</th>\n",
       "      <th>tax</th>\n",
       "      <th>ptratio</th>\n",
       "      <th>b</th>\n",
       "      <th>lstat</th>\n",
       "      <th>medv</th>\n",
       "    </tr>\n",
       "  </thead>\n",
       "  <tbody>\n",
       "    <tr>\n",
       "      <th>count</th>\n",
       "      <td>505.000000</td>\n",
       "      <td>505.000000</td>\n",
       "      <td>505.000000</td>\n",
       "      <td>505.000000</td>\n",
       "      <td>505.000000</td>\n",
       "      <td>505.000000</td>\n",
       "      <td>505.000000</td>\n",
       "      <td>505.000000</td>\n",
       "      <td>505.000000</td>\n",
       "      <td>505.000000</td>\n",
       "      <td>505.000000</td>\n",
       "      <td>505.000000</td>\n",
       "      <td>505.000000</td>\n",
       "      <td>505.000000</td>\n",
       "    </tr>\n",
       "    <tr>\n",
       "      <th>mean</th>\n",
       "      <td>3.620667</td>\n",
       "      <td>11.350495</td>\n",
       "      <td>11.154257</td>\n",
       "      <td>0.069307</td>\n",
       "      <td>0.554728</td>\n",
       "      <td>6.284059</td>\n",
       "      <td>68.581584</td>\n",
       "      <td>3.794459</td>\n",
       "      <td>9.566337</td>\n",
       "      <td>408.459406</td>\n",
       "      <td>18.461782</td>\n",
       "      <td>356.594376</td>\n",
       "      <td>12.668257</td>\n",
       "      <td>22.529901</td>\n",
       "    </tr>\n",
       "    <tr>\n",
       "      <th>std</th>\n",
       "      <td>8.608572</td>\n",
       "      <td>23.343704</td>\n",
       "      <td>6.855868</td>\n",
       "      <td>0.254227</td>\n",
       "      <td>0.115990</td>\n",
       "      <td>0.703195</td>\n",
       "      <td>28.176371</td>\n",
       "      <td>2.107757</td>\n",
       "      <td>8.707553</td>\n",
       "      <td>168.629992</td>\n",
       "      <td>2.162520</td>\n",
       "      <td>91.367787</td>\n",
       "      <td>7.139950</td>\n",
       "      <td>9.205991</td>\n",
       "    </tr>\n",
       "    <tr>\n",
       "      <th>min</th>\n",
       "      <td>0.009060</td>\n",
       "      <td>0.000000</td>\n",
       "      <td>0.460000</td>\n",
       "      <td>0.000000</td>\n",
       "      <td>0.385000</td>\n",
       "      <td>3.561000</td>\n",
       "      <td>2.900000</td>\n",
       "      <td>1.129600</td>\n",
       "      <td>1.000000</td>\n",
       "      <td>187.000000</td>\n",
       "      <td>12.600000</td>\n",
       "      <td>0.320000</td>\n",
       "      <td>1.730000</td>\n",
       "      <td>5.000000</td>\n",
       "    </tr>\n",
       "    <tr>\n",
       "      <th>25%</th>\n",
       "      <td>0.082210</td>\n",
       "      <td>0.000000</td>\n",
       "      <td>5.190000</td>\n",
       "      <td>0.000000</td>\n",
       "      <td>0.449000</td>\n",
       "      <td>5.885000</td>\n",
       "      <td>45.000000</td>\n",
       "      <td>2.100000</td>\n",
       "      <td>4.000000</td>\n",
       "      <td>279.000000</td>\n",
       "      <td>17.400000</td>\n",
       "      <td>375.330000</td>\n",
       "      <td>7.010000</td>\n",
       "      <td>17.000000</td>\n",
       "    </tr>\n",
       "    <tr>\n",
       "      <th>50%</th>\n",
       "      <td>0.259150</td>\n",
       "      <td>0.000000</td>\n",
       "      <td>9.690000</td>\n",
       "      <td>0.000000</td>\n",
       "      <td>0.538000</td>\n",
       "      <td>6.208000</td>\n",
       "      <td>77.700000</td>\n",
       "      <td>3.199200</td>\n",
       "      <td>5.000000</td>\n",
       "      <td>330.000000</td>\n",
       "      <td>19.100000</td>\n",
       "      <td>391.430000</td>\n",
       "      <td>11.380000</td>\n",
       "      <td>21.200000</td>\n",
       "    </tr>\n",
       "    <tr>\n",
       "      <th>75%</th>\n",
       "      <td>3.678220</td>\n",
       "      <td>12.500000</td>\n",
       "      <td>18.100000</td>\n",
       "      <td>0.000000</td>\n",
       "      <td>0.624000</td>\n",
       "      <td>6.625000</td>\n",
       "      <td>94.100000</td>\n",
       "      <td>5.211900</td>\n",
       "      <td>24.000000</td>\n",
       "      <td>666.000000</td>\n",
       "      <td>20.200000</td>\n",
       "      <td>396.210000</td>\n",
       "      <td>16.960000</td>\n",
       "      <td>25.000000</td>\n",
       "    </tr>\n",
       "    <tr>\n",
       "      <th>max</th>\n",
       "      <td>88.976200</td>\n",
       "      <td>100.000000</td>\n",
       "      <td>27.740000</td>\n",
       "      <td>1.000000</td>\n",
       "      <td>0.871000</td>\n",
       "      <td>8.780000</td>\n",
       "      <td>100.000000</td>\n",
       "      <td>12.126500</td>\n",
       "      <td>24.000000</td>\n",
       "      <td>711.000000</td>\n",
       "      <td>22.000000</td>\n",
       "      <td>396.900000</td>\n",
       "      <td>37.970000</td>\n",
       "      <td>50.000000</td>\n",
       "    </tr>\n",
       "  </tbody>\n",
       "</table>\n",
       "</div>"
      ],
      "text/plain": [
       "             crim          zn       indus        chas         nox          rm  \\\n",
       "count  505.000000  505.000000  505.000000  505.000000  505.000000  505.000000   \n",
       "mean     3.620667   11.350495   11.154257    0.069307    0.554728    6.284059   \n",
       "std      8.608572   23.343704    6.855868    0.254227    0.115990    0.703195   \n",
       "min      0.009060    0.000000    0.460000    0.000000    0.385000    3.561000   \n",
       "25%      0.082210    0.000000    5.190000    0.000000    0.449000    5.885000   \n",
       "50%      0.259150    0.000000    9.690000    0.000000    0.538000    6.208000   \n",
       "75%      3.678220   12.500000   18.100000    0.000000    0.624000    6.625000   \n",
       "max     88.976200  100.000000   27.740000    1.000000    0.871000    8.780000   \n",
       "\n",
       "              age         dis         rad         tax     ptratio           b  \\\n",
       "count  505.000000  505.000000  505.000000  505.000000  505.000000  505.000000   \n",
       "mean    68.581584    3.794459    9.566337  408.459406   18.461782  356.594376   \n",
       "std     28.176371    2.107757    8.707553  168.629992    2.162520   91.367787   \n",
       "min      2.900000    1.129600    1.000000  187.000000   12.600000    0.320000   \n",
       "25%     45.000000    2.100000    4.000000  279.000000   17.400000  375.330000   \n",
       "50%     77.700000    3.199200    5.000000  330.000000   19.100000  391.430000   \n",
       "75%     94.100000    5.211900   24.000000  666.000000   20.200000  396.210000   \n",
       "max    100.000000   12.126500   24.000000  711.000000   22.000000  396.900000   \n",
       "\n",
       "            lstat        medv  \n",
       "count  505.000000  505.000000  \n",
       "mean    12.668257   22.529901  \n",
       "std      7.139950    9.205991  \n",
       "min      1.730000    5.000000  \n",
       "25%      7.010000   17.000000  \n",
       "50%     11.380000   21.200000  \n",
       "75%     16.960000   25.000000  \n",
       "max     37.970000   50.000000  "
      ]
     },
     "execution_count": 9,
     "metadata": {},
     "output_type": "execute_result"
    }
   ],
   "source": [
    "# Anàlisi estadístic de les variables numèriques\n",
    "dfBoston.describe()"
   ]
  },
  {
   "cell_type": "markdown",
   "id": "01cde838",
   "metadata": {},
   "source": [
    "### Divisió en train i test"
   ]
  },
  {
   "cell_type": "code",
   "execution_count": 10,
   "id": "9dc08a23",
   "metadata": {},
   "outputs": [],
   "source": [
    "# Divisió de les dades en conjunt train i en conjunt test (80%-20%)\n",
    "X_train, X_test, y_train, y_test = train_test_split(\n",
    "                                        dfBoston.drop('medv', axis = 'columns'),\n",
    "                                        dfBoston['medv'],\n",
    "                                        train_size   = .8,\n",
    "                                        random_state = 1234,\n",
    "                                        shuffle      = True\n",
    "                                    )"
   ]
  },
  {
   "cell_type": "code",
   "execution_count": 11,
   "id": "5a98c598",
   "metadata": {},
   "outputs": [
    {
     "data": {
      "text/html": [
       "<div>\n",
       "<style scoped>\n",
       "    .dataframe tbody tr th:only-of-type {\n",
       "        vertical-align: middle;\n",
       "    }\n",
       "\n",
       "    .dataframe tbody tr th {\n",
       "        vertical-align: top;\n",
       "    }\n",
       "\n",
       "    .dataframe thead th {\n",
       "        text-align: right;\n",
       "    }\n",
       "</style>\n",
       "<table border=\"1\" class=\"dataframe\">\n",
       "  <thead>\n",
       "    <tr style=\"text-align: right;\">\n",
       "      <th></th>\n",
       "      <th>crim</th>\n",
       "      <th>zn</th>\n",
       "      <th>indus</th>\n",
       "      <th>chas</th>\n",
       "      <th>nox</th>\n",
       "      <th>rm</th>\n",
       "      <th>age</th>\n",
       "      <th>dis</th>\n",
       "      <th>rad</th>\n",
       "      <th>tax</th>\n",
       "      <th>ptratio</th>\n",
       "      <th>b</th>\n",
       "      <th>lstat</th>\n",
       "    </tr>\n",
       "  </thead>\n",
       "  <tbody>\n",
       "    <tr>\n",
       "      <th>215</th>\n",
       "      <td>0.04560</td>\n",
       "      <td>0.0</td>\n",
       "      <td>13.89</td>\n",
       "      <td>1</td>\n",
       "      <td>0.550</td>\n",
       "      <td>5.888</td>\n",
       "      <td>56.0</td>\n",
       "      <td>3.1121</td>\n",
       "      <td>5</td>\n",
       "      <td>276.0</td>\n",
       "      <td>16.4</td>\n",
       "      <td>392.80</td>\n",
       "      <td>13.51</td>\n",
       "    </tr>\n",
       "    <tr>\n",
       "      <th>414</th>\n",
       "      <td>18.08460</td>\n",
       "      <td>0.0</td>\n",
       "      <td>18.10</td>\n",
       "      <td>0</td>\n",
       "      <td>0.679</td>\n",
       "      <td>6.434</td>\n",
       "      <td>100.0</td>\n",
       "      <td>1.8347</td>\n",
       "      <td>24</td>\n",
       "      <td>666.0</td>\n",
       "      <td>20.2</td>\n",
       "      <td>27.25</td>\n",
       "      <td>29.05</td>\n",
       "    </tr>\n",
       "    <tr>\n",
       "      <th>411</th>\n",
       "      <td>18.81100</td>\n",
       "      <td>0.0</td>\n",
       "      <td>18.10</td>\n",
       "      <td>0</td>\n",
       "      <td>0.597</td>\n",
       "      <td>4.628</td>\n",
       "      <td>100.0</td>\n",
       "      <td>1.5539</td>\n",
       "      <td>24</td>\n",
       "      <td>666.0</td>\n",
       "      <td>20.2</td>\n",
       "      <td>28.79</td>\n",
       "      <td>34.37</td>\n",
       "    </tr>\n",
       "    <tr>\n",
       "      <th>467</th>\n",
       "      <td>15.57570</td>\n",
       "      <td>0.0</td>\n",
       "      <td>18.10</td>\n",
       "      <td>0</td>\n",
       "      <td>0.580</td>\n",
       "      <td>5.926</td>\n",
       "      <td>71.0</td>\n",
       "      <td>2.9084</td>\n",
       "      <td>24</td>\n",
       "      <td>666.0</td>\n",
       "      <td>20.2</td>\n",
       "      <td>368.74</td>\n",
       "      <td>18.13</td>\n",
       "    </tr>\n",
       "    <tr>\n",
       "      <th>337</th>\n",
       "      <td>0.03306</td>\n",
       "      <td>0.0</td>\n",
       "      <td>5.19</td>\n",
       "      <td>0</td>\n",
       "      <td>0.515</td>\n",
       "      <td>6.059</td>\n",
       "      <td>37.3</td>\n",
       "      <td>4.8122</td>\n",
       "      <td>5</td>\n",
       "      <td>224.0</td>\n",
       "      <td>20.2</td>\n",
       "      <td>396.14</td>\n",
       "      <td>8.51</td>\n",
       "    </tr>\n",
       "    <tr>\n",
       "      <th>...</th>\n",
       "      <td>...</td>\n",
       "      <td>...</td>\n",
       "      <td>...</td>\n",
       "      <td>...</td>\n",
       "      <td>...</td>\n",
       "      <td>...</td>\n",
       "      <td>...</td>\n",
       "      <td>...</td>\n",
       "      <td>...</td>\n",
       "      <td>...</td>\n",
       "      <td>...</td>\n",
       "      <td>...</td>\n",
       "      <td>...</td>\n",
       "    </tr>\n",
       "    <tr>\n",
       "      <th>204</th>\n",
       "      <td>0.13642</td>\n",
       "      <td>0.0</td>\n",
       "      <td>10.59</td>\n",
       "      <td>0</td>\n",
       "      <td>0.489</td>\n",
       "      <td>5.891</td>\n",
       "      <td>22.3</td>\n",
       "      <td>3.9454</td>\n",
       "      <td>4</td>\n",
       "      <td>277.0</td>\n",
       "      <td>18.6</td>\n",
       "      <td>396.90</td>\n",
       "      <td>10.87</td>\n",
       "    </tr>\n",
       "    <tr>\n",
       "      <th>53</th>\n",
       "      <td>0.01360</td>\n",
       "      <td>75.0</td>\n",
       "      <td>4.00</td>\n",
       "      <td>0</td>\n",
       "      <td>0.410</td>\n",
       "      <td>5.888</td>\n",
       "      <td>47.6</td>\n",
       "      <td>7.3197</td>\n",
       "      <td>3</td>\n",
       "      <td>469.0</td>\n",
       "      <td>21.1</td>\n",
       "      <td>396.90</td>\n",
       "      <td>14.80</td>\n",
       "    </tr>\n",
       "    <tr>\n",
       "      <th>294</th>\n",
       "      <td>0.12932</td>\n",
       "      <td>0.0</td>\n",
       "      <td>13.92</td>\n",
       "      <td>0</td>\n",
       "      <td>0.437</td>\n",
       "      <td>6.678</td>\n",
       "      <td>31.1</td>\n",
       "      <td>5.9604</td>\n",
       "      <td>4</td>\n",
       "      <td>289.0</td>\n",
       "      <td>16.0</td>\n",
       "      <td>396.90</td>\n",
       "      <td>6.27</td>\n",
       "    </tr>\n",
       "    <tr>\n",
       "      <th>211</th>\n",
       "      <td>0.21719</td>\n",
       "      <td>0.0</td>\n",
       "      <td>10.59</td>\n",
       "      <td>1</td>\n",
       "      <td>0.489</td>\n",
       "      <td>5.807</td>\n",
       "      <td>53.8</td>\n",
       "      <td>3.6526</td>\n",
       "      <td>4</td>\n",
       "      <td>277.0</td>\n",
       "      <td>18.6</td>\n",
       "      <td>390.94</td>\n",
       "      <td>16.03</td>\n",
       "    </tr>\n",
       "    <tr>\n",
       "      <th>303</th>\n",
       "      <td>0.05515</td>\n",
       "      <td>33.0</td>\n",
       "      <td>2.18</td>\n",
       "      <td>0</td>\n",
       "      <td>0.472</td>\n",
       "      <td>7.236</td>\n",
       "      <td>41.1</td>\n",
       "      <td>4.0220</td>\n",
       "      <td>7</td>\n",
       "      <td>222.0</td>\n",
       "      <td>18.4</td>\n",
       "      <td>393.68</td>\n",
       "      <td>6.93</td>\n",
       "    </tr>\n",
       "  </tbody>\n",
       "</table>\n",
       "<p>404 rows × 13 columns</p>\n",
       "</div>"
      ],
      "text/plain": [
       "         crim    zn  indus  chas    nox     rm    age     dis  rad    tax  \\\n",
       "215   0.04560   0.0  13.89     1  0.550  5.888   56.0  3.1121    5  276.0   \n",
       "414  18.08460   0.0  18.10     0  0.679  6.434  100.0  1.8347   24  666.0   \n",
       "411  18.81100   0.0  18.10     0  0.597  4.628  100.0  1.5539   24  666.0   \n",
       "467  15.57570   0.0  18.10     0  0.580  5.926   71.0  2.9084   24  666.0   \n",
       "337   0.03306   0.0   5.19     0  0.515  6.059   37.3  4.8122    5  224.0   \n",
       "..        ...   ...    ...   ...    ...    ...    ...     ...  ...    ...   \n",
       "204   0.13642   0.0  10.59     0  0.489  5.891   22.3  3.9454    4  277.0   \n",
       "53    0.01360  75.0   4.00     0  0.410  5.888   47.6  7.3197    3  469.0   \n",
       "294   0.12932   0.0  13.92     0  0.437  6.678   31.1  5.9604    4  289.0   \n",
       "211   0.21719   0.0  10.59     1  0.489  5.807   53.8  3.6526    4  277.0   \n",
       "303   0.05515  33.0   2.18     0  0.472  7.236   41.1  4.0220    7  222.0   \n",
       "\n",
       "     ptratio       b  lstat  \n",
       "215     16.4  392.80  13.51  \n",
       "414     20.2   27.25  29.05  \n",
       "411     20.2   28.79  34.37  \n",
       "467     20.2  368.74  18.13  \n",
       "337     20.2  396.14   8.51  \n",
       "..       ...     ...    ...  \n",
       "204     18.6  396.90  10.87  \n",
       "53      21.1  396.90  14.80  \n",
       "294     16.0  396.90   6.27  \n",
       "211     18.6  390.94  16.03  \n",
       "303     18.4  393.68   6.93  \n",
       "\n",
       "[404 rows x 13 columns]"
      ]
     },
     "execution_count": 11,
     "metadata": {},
     "output_type": "execute_result"
    }
   ],
   "source": [
    "X_train"
   ]
  },
  {
   "cell_type": "code",
   "execution_count": 12,
   "id": "6ec11e86",
   "metadata": {},
   "outputs": [
    {
     "data": {
      "text/html": [
       "<div>\n",
       "<style scoped>\n",
       "    .dataframe tbody tr th:only-of-type {\n",
       "        vertical-align: middle;\n",
       "    }\n",
       "\n",
       "    .dataframe tbody tr th {\n",
       "        vertical-align: top;\n",
       "    }\n",
       "\n",
       "    .dataframe thead th {\n",
       "        text-align: right;\n",
       "    }\n",
       "</style>\n",
       "<table border=\"1\" class=\"dataframe\">\n",
       "  <thead>\n",
       "    <tr style=\"text-align: right;\">\n",
       "      <th></th>\n",
       "      <th>crim</th>\n",
       "      <th>zn</th>\n",
       "      <th>indus</th>\n",
       "      <th>chas</th>\n",
       "      <th>nox</th>\n",
       "      <th>rm</th>\n",
       "      <th>age</th>\n",
       "      <th>dis</th>\n",
       "      <th>rad</th>\n",
       "      <th>tax</th>\n",
       "      <th>ptratio</th>\n",
       "      <th>b</th>\n",
       "      <th>lstat</th>\n",
       "    </tr>\n",
       "  </thead>\n",
       "  <tbody>\n",
       "    <tr>\n",
       "      <th>64</th>\n",
       "      <td>0.03584</td>\n",
       "      <td>80.0</td>\n",
       "      <td>3.37</td>\n",
       "      <td>0</td>\n",
       "      <td>0.398</td>\n",
       "      <td>6.290</td>\n",
       "      <td>17.8</td>\n",
       "      <td>6.6115</td>\n",
       "      <td>4</td>\n",
       "      <td>337.0</td>\n",
       "      <td>16.1</td>\n",
       "      <td>396.90</td>\n",
       "      <td>4.67</td>\n",
       "    </tr>\n",
       "    <tr>\n",
       "      <th>401</th>\n",
       "      <td>9.59571</td>\n",
       "      <td>0.0</td>\n",
       "      <td>18.10</td>\n",
       "      <td>0</td>\n",
       "      <td>0.693</td>\n",
       "      <td>6.404</td>\n",
       "      <td>100.0</td>\n",
       "      <td>1.6390</td>\n",
       "      <td>24</td>\n",
       "      <td>666.0</td>\n",
       "      <td>20.2</td>\n",
       "      <td>376.11</td>\n",
       "      <td>20.31</td>\n",
       "    </tr>\n",
       "    <tr>\n",
       "      <th>479</th>\n",
       "      <td>5.82401</td>\n",
       "      <td>0.0</td>\n",
       "      <td>18.10</td>\n",
       "      <td>0</td>\n",
       "      <td>0.532</td>\n",
       "      <td>6.242</td>\n",
       "      <td>64.7</td>\n",
       "      <td>3.4242</td>\n",
       "      <td>24</td>\n",
       "      <td>666.0</td>\n",
       "      <td>20.2</td>\n",
       "      <td>396.90</td>\n",
       "      <td>10.74</td>\n",
       "    </tr>\n",
       "    <tr>\n",
       "      <th>124</th>\n",
       "      <td>0.16902</td>\n",
       "      <td>0.0</td>\n",
       "      <td>25.65</td>\n",
       "      <td>0</td>\n",
       "      <td>0.581</td>\n",
       "      <td>5.986</td>\n",
       "      <td>88.4</td>\n",
       "      <td>1.9929</td>\n",
       "      <td>2</td>\n",
       "      <td>188.0</td>\n",
       "      <td>19.1</td>\n",
       "      <td>385.02</td>\n",
       "      <td>14.81</td>\n",
       "    </tr>\n",
       "    <tr>\n",
       "      <th>131</th>\n",
       "      <td>0.59005</td>\n",
       "      <td>0.0</td>\n",
       "      <td>21.89</td>\n",
       "      <td>0</td>\n",
       "      <td>0.624</td>\n",
       "      <td>6.372</td>\n",
       "      <td>97.9</td>\n",
       "      <td>2.3274</td>\n",
       "      <td>4</td>\n",
       "      <td>437.0</td>\n",
       "      <td>21.2</td>\n",
       "      <td>385.76</td>\n",
       "      <td>11.12</td>\n",
       "    </tr>\n",
       "    <tr>\n",
       "      <th>...</th>\n",
       "      <td>...</td>\n",
       "      <td>...</td>\n",
       "      <td>...</td>\n",
       "      <td>...</td>\n",
       "      <td>...</td>\n",
       "      <td>...</td>\n",
       "      <td>...</td>\n",
       "      <td>...</td>\n",
       "      <td>...</td>\n",
       "      <td>...</td>\n",
       "      <td>...</td>\n",
       "      <td>...</td>\n",
       "      <td>...</td>\n",
       "    </tr>\n",
       "    <tr>\n",
       "      <th>163</th>\n",
       "      <td>2.24236</td>\n",
       "      <td>0.0</td>\n",
       "      <td>19.58</td>\n",
       "      <td>0</td>\n",
       "      <td>0.605</td>\n",
       "      <td>5.854</td>\n",
       "      <td>91.8</td>\n",
       "      <td>2.4220</td>\n",
       "      <td>5</td>\n",
       "      <td>403.0</td>\n",
       "      <td>14.7</td>\n",
       "      <td>395.11</td>\n",
       "      <td>11.64</td>\n",
       "    </tr>\n",
       "    <tr>\n",
       "      <th>357</th>\n",
       "      <td>5.20177</td>\n",
       "      <td>0.0</td>\n",
       "      <td>18.10</td>\n",
       "      <td>1</td>\n",
       "      <td>0.770</td>\n",
       "      <td>6.127</td>\n",
       "      <td>83.4</td>\n",
       "      <td>2.7227</td>\n",
       "      <td>24</td>\n",
       "      <td>666.0</td>\n",
       "      <td>20.2</td>\n",
       "      <td>395.43</td>\n",
       "      <td>11.48</td>\n",
       "    </tr>\n",
       "    <tr>\n",
       "      <th>192</th>\n",
       "      <td>0.02187</td>\n",
       "      <td>60.0</td>\n",
       "      <td>2.93</td>\n",
       "      <td>0</td>\n",
       "      <td>0.401</td>\n",
       "      <td>6.800</td>\n",
       "      <td>9.9</td>\n",
       "      <td>6.2196</td>\n",
       "      <td>1</td>\n",
       "      <td>265.0</td>\n",
       "      <td>15.6</td>\n",
       "      <td>393.37</td>\n",
       "      <td>5.03</td>\n",
       "    </tr>\n",
       "    <tr>\n",
       "      <th>308</th>\n",
       "      <td>0.34940</td>\n",
       "      <td>0.0</td>\n",
       "      <td>9.90</td>\n",
       "      <td>0</td>\n",
       "      <td>0.544</td>\n",
       "      <td>5.972</td>\n",
       "      <td>76.7</td>\n",
       "      <td>3.1025</td>\n",
       "      <td>4</td>\n",
       "      <td>304.0</td>\n",
       "      <td>18.4</td>\n",
       "      <td>396.24</td>\n",
       "      <td>9.97</td>\n",
       "    </tr>\n",
       "    <tr>\n",
       "      <th>218</th>\n",
       "      <td>0.11425</td>\n",
       "      <td>0.0</td>\n",
       "      <td>13.89</td>\n",
       "      <td>1</td>\n",
       "      <td>0.550</td>\n",
       "      <td>6.373</td>\n",
       "      <td>92.4</td>\n",
       "      <td>3.3633</td>\n",
       "      <td>5</td>\n",
       "      <td>276.0</td>\n",
       "      <td>16.4</td>\n",
       "      <td>393.74</td>\n",
       "      <td>10.50</td>\n",
       "    </tr>\n",
       "  </tbody>\n",
       "</table>\n",
       "<p>101 rows × 13 columns</p>\n",
       "</div>"
      ],
      "text/plain": [
       "        crim    zn  indus  chas    nox     rm    age     dis  rad    tax  \\\n",
       "64   0.03584  80.0   3.37     0  0.398  6.290   17.8  6.6115    4  337.0   \n",
       "401  9.59571   0.0  18.10     0  0.693  6.404  100.0  1.6390   24  666.0   \n",
       "479  5.82401   0.0  18.10     0  0.532  6.242   64.7  3.4242   24  666.0   \n",
       "124  0.16902   0.0  25.65     0  0.581  5.986   88.4  1.9929    2  188.0   \n",
       "131  0.59005   0.0  21.89     0  0.624  6.372   97.9  2.3274    4  437.0   \n",
       "..       ...   ...    ...   ...    ...    ...    ...     ...  ...    ...   \n",
       "163  2.24236   0.0  19.58     0  0.605  5.854   91.8  2.4220    5  403.0   \n",
       "357  5.20177   0.0  18.10     1  0.770  6.127   83.4  2.7227   24  666.0   \n",
       "192  0.02187  60.0   2.93     0  0.401  6.800    9.9  6.2196    1  265.0   \n",
       "308  0.34940   0.0   9.90     0  0.544  5.972   76.7  3.1025    4  304.0   \n",
       "218  0.11425   0.0  13.89     1  0.550  6.373   92.4  3.3633    5  276.0   \n",
       "\n",
       "     ptratio       b  lstat  \n",
       "64      16.1  396.90   4.67  \n",
       "401     20.2  376.11  20.31  \n",
       "479     20.2  396.90  10.74  \n",
       "124     19.1  385.02  14.81  \n",
       "131     21.2  385.76  11.12  \n",
       "..       ...     ...    ...  \n",
       "163     14.7  395.11  11.64  \n",
       "357     20.2  395.43  11.48  \n",
       "192     15.6  393.37   5.03  \n",
       "308     18.4  396.24   9.97  \n",
       "218     16.4  393.74  10.50  \n",
       "\n",
       "[101 rows x 13 columns]"
      ]
     },
     "execution_count": 12,
     "metadata": {},
     "output_type": "execute_result"
    }
   ],
   "source": [
    "X_test"
   ]
  },
  {
   "cell_type": "code",
   "execution_count": 13,
   "id": "badd1f25",
   "metadata": {},
   "outputs": [
    {
     "data": {
      "text/plain": [
       "215    23.3\n",
       "414     7.2\n",
       "411    17.9\n",
       "467    19.1\n",
       "337    20.6\n",
       "       ... \n",
       "204    22.6\n",
       "53     18.9\n",
       "294    28.6\n",
       "211    22.4\n",
       "303    36.1\n",
       "Name: medv, Length: 404, dtype: float64"
      ]
     },
     "execution_count": 13,
     "metadata": {},
     "output_type": "execute_result"
    }
   ],
   "source": [
    "y_train"
   ]
  },
  {
   "cell_type": "code",
   "execution_count": 14,
   "id": "dd969de7",
   "metadata": {
    "scrolled": true
   },
   "outputs": [
    {
     "data": {
      "text/plain": [
       "count    404.000000\n",
       "mean      22.640842\n",
       "std        9.328767\n",
       "min        5.000000\n",
       "25%       17.100000\n",
       "50%       21.150000\n",
       "75%       25.025000\n",
       "max       50.000000\n",
       "Name: medv, dtype: float64"
      ]
     },
     "execution_count": 14,
     "metadata": {},
     "output_type": "execute_result"
    }
   ],
   "source": [
    "y_train.describe()"
   ]
  },
  {
   "cell_type": "code",
   "execution_count": 15,
   "id": "61a62234",
   "metadata": {},
   "outputs": [
    {
     "data": {
      "text/plain": [
       "count    101.000000\n",
       "mean      22.086139\n",
       "std        8.728024\n",
       "min        5.000000\n",
       "25%       16.600000\n",
       "50%       21.400000\n",
       "75%       24.100000\n",
       "max       50.000000\n",
       "Name: medv, dtype: float64"
      ]
     },
     "execution_count": 15,
     "metadata": {},
     "output_type": "execute_result"
    }
   ],
   "source": [
    "y_test.describe()"
   ]
  },
  {
   "cell_type": "markdown",
   "id": "b5d41888",
   "metadata": {},
   "source": [
    "És important que la distribució (variança) de la variable resposta sigui semblant en el conjunt de train i en el de test, com es pot observar en aquest cas."
   ]
  },
  {
   "cell_type": "markdown",
   "id": "f059d46a",
   "metadata": {},
   "source": [
    "### Estandarització (preprocessat de dades)"
   ]
  },
  {
   "cell_type": "code",
   "execution_count": 16,
   "id": "cd70ad45",
   "metadata": {},
   "outputs": [],
   "source": [
    "numeric_cols = X_train.select_dtypes(include=['float64', 'int']).columns.to_list()\n",
    "\n",
    "preprocessor = ColumnTransformer(\n",
    "                   [('scale', StandardScaler(), numeric_cols)]\n",
    "               )  "
   ]
  },
  {
   "cell_type": "code",
   "execution_count": 17,
   "id": "0ecdf250",
   "metadata": {},
   "outputs": [],
   "source": [
    "X_train_prep = preprocessor.fit_transform(X_train)\n",
    "X_test_prep  = preprocessor.transform(X_test)"
   ]
  },
  {
   "cell_type": "code",
   "execution_count": 18,
   "id": "f75492dc",
   "metadata": {},
   "outputs": [
    {
     "data": {
      "text/plain": [
       "array([[-0.40258847, -0.49244228,  0.43579432, ..., -0.94377342,\n",
       "         0.40738847,  0.11828465],\n",
       "       [ 1.65670153, -0.49244228,  1.05238535, ...,  0.81992829,\n",
       "        -3.42612885,  2.28991275],\n",
       "       [ 1.73962566, -0.49244228,  1.05238535, ...,  0.81992829,\n",
       "        -3.4099789 ,  3.033353  ],\n",
       "       ...,\n",
       "       [-0.39303119, -0.49244228,  0.44018808, ..., -1.12942623,\n",
       "         0.45038511, -0.89346487],\n",
       "       [-0.38300016, -0.49244228, -0.04751932, ...,  0.07731704,\n",
       "         0.38788268,  0.47044056],\n",
       "       [-0.40149826,  0.91625645, -1.27923679, ..., -0.01550936,\n",
       "         0.41661702, -0.80123356]])"
      ]
     },
     "execution_count": 18,
     "metadata": {},
     "output_type": "execute_result"
    }
   ],
   "source": [
    "X_train_prep"
   ]
  },
  {
   "cell_type": "code",
   "execution_count": 19,
   "id": "ec7cdf55",
   "metadata": {},
   "outputs": [
    {
     "data": {
      "text/plain": [
       "array([-8.79384574e-18, -5.93584587e-17, -2.50074988e-16, -4.83661516e-17,\n",
       "        9.66223801e-16, -2.02258452e-16, -1.75876915e-16, -2.85799987e-17,\n",
       "        1.31907686e-17,  9.23353803e-17,  2.14569836e-15, -4.83661516e-16,\n",
       "        9.67323031e-17])"
      ]
     },
     "execution_count": 19,
     "metadata": {},
     "output_type": "execute_result"
    }
   ],
   "source": [
    "X_train_prep.mean(axis=0)"
   ]
  },
  {
   "cell_type": "code",
   "execution_count": 20,
   "id": "f2d1ad92",
   "metadata": {},
   "outputs": [
    {
     "data": {
      "text/plain": [
       "array([1., 1., 1., 1., 1., 1., 1., 1., 1., 1., 1., 1., 1.])"
      ]
     },
     "execution_count": 20,
     "metadata": {},
     "output_type": "execute_result"
    }
   ],
   "source": [
    "X_train_prep.std(axis=0)"
   ]
  },
  {
   "cell_type": "code",
   "execution_count": 21,
   "id": "637827db",
   "metadata": {},
   "outputs": [
    {
     "data": {
      "text/plain": [
       "array([[-0.40370265,  2.92258495, -1.10495096, ..., -1.08301303,\n",
       "         0.45038511, -1.11705592],\n",
       "       [ 0.68762973, -0.49244228,  1.05238535, ...,  0.81992829,\n",
       "         0.2323607 ,  1.06854662],\n",
       "       [ 0.25706129, -0.49244228,  1.05238535, ...,  0.81992829,\n",
       "         0.45038511, -0.26880736],\n",
       "       ...,\n",
       "       [-0.40529743,  2.06882814, -1.16939278, ..., -1.31507905,\n",
       "         0.41336605, -1.06674793],\n",
       "       [-0.36790737, -0.49244228, -0.1485758 , ..., -0.01550936,\n",
       "         0.4434637 , -0.37641056],\n",
       "       [-0.39475155, -0.49244228,  0.43579432, ..., -0.94377342,\n",
       "         0.41724624, -0.30234602]])"
      ]
     },
     "execution_count": 21,
     "metadata": {},
     "output_type": "execute_result"
    }
   ],
   "source": [
    "X_test_prep "
   ]
  },
  {
   "cell_type": "code",
   "execution_count": 22,
   "id": "a8cadbdd",
   "metadata": {},
   "outputs": [
    {
     "data": {
      "text/plain": [
       "array([ 0.02766378, -0.03957078,  0.1756054 ,  0.04955842,  0.04987991,\n",
       "       -0.0862656 ,  0.0025375 , -0.038384  ,  0.08846652,  0.09194629,\n",
       "        0.06582863,  0.13850322,  0.00327915])"
      ]
     },
     "execution_count": 22,
     "metadata": {},
     "output_type": "execute_result"
    }
   ],
   "source": [
    "X_test_prep.mean(axis=0)"
   ]
  },
  {
   "cell_type": "code",
   "execution_count": 23,
   "id": "5fff74f1",
   "metadata": {},
   "outputs": [
    {
     "data": {
      "text/plain": [
       "array([0.90479845, 0.97667809, 1.00321782, 1.08141877, 0.94097181,\n",
       "       0.84804701, 1.09477617, 1.07477937, 1.02739485, 1.01639776,\n",
       "       1.01171899, 0.75235439, 0.98378901])"
      ]
     },
     "execution_count": 23,
     "metadata": {},
     "output_type": "execute_result"
    }
   ],
   "source": [
    "X_test_prep.std(axis=0)"
   ]
  },
  {
   "cell_type": "markdown",
   "id": "f04d1af2",
   "metadata": {},
   "source": [
    "En els outputs dels conjunts train i test, es pot observar que les dades escalades tenen mitjana zero i variança la unitat."
   ]
  },
  {
   "cell_type": "code",
   "execution_count": 24,
   "id": "2d7faa28",
   "metadata": {},
   "outputs": [
    {
     "name": "stdout",
     "output_type": "stream",
     "text": [
      "<class 'pandas.core.frame.DataFrame'>\n",
      "RangeIndex: 404 entries, 0 to 403\n",
      "Data columns (total 13 columns):\n",
      " #   Column   Non-Null Count  Dtype  \n",
      "---  ------   --------------  -----  \n",
      " 0   crim     404 non-null    float64\n",
      " 1   zn       404 non-null    float64\n",
      " 2   indus    404 non-null    float64\n",
      " 3   chas     404 non-null    float64\n",
      " 4   nox      404 non-null    float64\n",
      " 5   rm       404 non-null    float64\n",
      " 6   age      404 non-null    float64\n",
      " 7   dis      404 non-null    float64\n",
      " 8   rad      404 non-null    float64\n",
      " 9   tax      404 non-null    float64\n",
      " 10  ptratio  404 non-null    float64\n",
      " 11  b        404 non-null    float64\n",
      " 12  lstat    404 non-null    float64\n",
      "dtypes: float64(13)\n",
      "memory usage: 41.2 KB\n"
     ]
    }
   ],
   "source": [
    "# Conversió del numpy array (output) en dataframe i afegir el nom de les columnes\n",
    "\n",
    "labels = np.concatenate([numeric_cols]) \n",
    "data_train_prep = preprocessor.transform(X_train)\n",
    "dfXTrainPrep = pd.DataFrame(data_train_prep, columns=labels)\n",
    "dfXTrainPrep.info()"
   ]
  },
  {
   "cell_type": "code",
   "execution_count": 25,
   "id": "c39e7a8c",
   "metadata": {},
   "outputs": [
    {
     "data": {
      "text/html": [
       "<div>\n",
       "<style scoped>\n",
       "    .dataframe tbody tr th:only-of-type {\n",
       "        vertical-align: middle;\n",
       "    }\n",
       "\n",
       "    .dataframe tbody tr th {\n",
       "        vertical-align: top;\n",
       "    }\n",
       "\n",
       "    .dataframe thead th {\n",
       "        text-align: right;\n",
       "    }\n",
       "</style>\n",
       "<table border=\"1\" class=\"dataframe\">\n",
       "  <thead>\n",
       "    <tr style=\"text-align: right;\">\n",
       "      <th></th>\n",
       "      <th>crim</th>\n",
       "      <th>zn</th>\n",
       "      <th>indus</th>\n",
       "      <th>chas</th>\n",
       "      <th>nox</th>\n",
       "      <th>rm</th>\n",
       "      <th>age</th>\n",
       "      <th>dis</th>\n",
       "      <th>rad</th>\n",
       "      <th>tax</th>\n",
       "      <th>ptratio</th>\n",
       "      <th>b</th>\n",
       "      <th>lstat</th>\n",
       "    </tr>\n",
       "  </thead>\n",
       "  <tbody>\n",
       "    <tr>\n",
       "      <th>0</th>\n",
       "      <td>-0.402588</td>\n",
       "      <td>-0.492442</td>\n",
       "      <td>0.435794</td>\n",
       "      <td>3.736705</td>\n",
       "      <td>-0.030366</td>\n",
       "      <td>-0.565325</td>\n",
       "      <td>-0.455253</td>\n",
       "      <td>-0.336762</td>\n",
       "      <td>-0.510472</td>\n",
       "      <td>-0.771018</td>\n",
       "      <td>-0.943773</td>\n",
       "      <td>0.407388</td>\n",
       "      <td>0.118285</td>\n",
       "    </tr>\n",
       "    <tr>\n",
       "      <th>1</th>\n",
       "      <td>1.656702</td>\n",
       "      <td>-0.492442</td>\n",
       "      <td>1.052385</td>\n",
       "      <td>-0.267615</td>\n",
       "      <td>1.070296</td>\n",
       "      <td>0.190236</td>\n",
       "      <td>1.138620</td>\n",
       "      <td>-0.952820</td>\n",
       "      <td>1.687162</td>\n",
       "      <td>1.553233</td>\n",
       "      <td>0.819928</td>\n",
       "      <td>-3.426129</td>\n",
       "      <td>2.289913</td>\n",
       "    </tr>\n",
       "    <tr>\n",
       "      <th>2</th>\n",
       "      <td>1.739626</td>\n",
       "      <td>-0.492442</td>\n",
       "      <td>1.052385</td>\n",
       "      <td>-0.267615</td>\n",
       "      <td>0.370651</td>\n",
       "      <td>-2.308928</td>\n",
       "      <td>1.138620</td>\n",
       "      <td>-1.088243</td>\n",
       "      <td>1.687162</td>\n",
       "      <td>1.553233</td>\n",
       "      <td>0.819928</td>\n",
       "      <td>-3.409979</td>\n",
       "      <td>3.033353</td>\n",
       "    </tr>\n",
       "    <tr>\n",
       "      <th>3</th>\n",
       "      <td>1.370291</td>\n",
       "      <td>-0.492442</td>\n",
       "      <td>1.052385</td>\n",
       "      <td>-0.267615</td>\n",
       "      <td>0.225602</td>\n",
       "      <td>-0.512740</td>\n",
       "      <td>0.088113</td>\n",
       "      <td>-0.435001</td>\n",
       "      <td>1.687162</td>\n",
       "      <td>1.553233</td>\n",
       "      <td>0.819928</td>\n",
       "      <td>0.155072</td>\n",
       "      <td>0.763904</td>\n",
       "    </tr>\n",
       "  </tbody>\n",
       "</table>\n",
       "</div>"
      ],
      "text/plain": [
       "       crim        zn     indus      chas       nox        rm       age  \\\n",
       "0 -0.402588 -0.492442  0.435794  3.736705 -0.030366 -0.565325 -0.455253   \n",
       "1  1.656702 -0.492442  1.052385 -0.267615  1.070296  0.190236  1.138620   \n",
       "2  1.739626 -0.492442  1.052385 -0.267615  0.370651 -2.308928  1.138620   \n",
       "3  1.370291 -0.492442  1.052385 -0.267615  0.225602 -0.512740  0.088113   \n",
       "\n",
       "        dis       rad       tax   ptratio         b     lstat  \n",
       "0 -0.336762 -0.510472 -0.771018 -0.943773  0.407388  0.118285  \n",
       "1 -0.952820  1.687162  1.553233  0.819928 -3.426129  2.289913  \n",
       "2 -1.088243  1.687162  1.553233  0.819928 -3.409979  3.033353  \n",
       "3 -0.435001  1.687162  1.553233  0.819928  0.155072  0.763904  "
      ]
     },
     "execution_count": 25,
     "metadata": {},
     "output_type": "execute_result"
    }
   ],
   "source": [
    "dfXTrainPrep.head(4)"
   ]
  },
  {
   "cell_type": "code",
   "execution_count": 26,
   "id": "0f212aa9",
   "metadata": {},
   "outputs": [
    {
     "name": "stdout",
     "output_type": "stream",
     "text": [
      "<class 'pandas.core.frame.DataFrame'>\n",
      "RangeIndex: 101 entries, 0 to 100\n",
      "Data columns (total 13 columns):\n",
      " #   Column   Non-Null Count  Dtype  \n",
      "---  ------   --------------  -----  \n",
      " 0   crim     101 non-null    float64\n",
      " 1   zn       101 non-null    float64\n",
      " 2   indus    101 non-null    float64\n",
      " 3   chas     101 non-null    float64\n",
      " 4   nox      101 non-null    float64\n",
      " 5   rm       101 non-null    float64\n",
      " 6   age      101 non-null    float64\n",
      " 7   dis      101 non-null    float64\n",
      " 8   rad      101 non-null    float64\n",
      " 9   tax      101 non-null    float64\n",
      " 10  ptratio  101 non-null    float64\n",
      " 11  b        101 non-null    float64\n",
      " 12  lstat    101 non-null    float64\n",
      "dtypes: float64(13)\n",
      "memory usage: 10.4 KB\n"
     ]
    }
   ],
   "source": [
    "data_test_prep = preprocessor.transform(X_test)\n",
    "dfXTestPrep = pd.DataFrame(data_test_prep, columns=labels)\n",
    "dfXTestPrep.info()"
   ]
  },
  {
   "cell_type": "code",
   "execution_count": 27,
   "id": "71fdb298",
   "metadata": {},
   "outputs": [
    {
     "data": {
      "text/html": [
       "<div>\n",
       "<style scoped>\n",
       "    .dataframe tbody tr th:only-of-type {\n",
       "        vertical-align: middle;\n",
       "    }\n",
       "\n",
       "    .dataframe tbody tr th {\n",
       "        vertical-align: top;\n",
       "    }\n",
       "\n",
       "    .dataframe thead th {\n",
       "        text-align: right;\n",
       "    }\n",
       "</style>\n",
       "<table border=\"1\" class=\"dataframe\">\n",
       "  <thead>\n",
       "    <tr style=\"text-align: right;\">\n",
       "      <th></th>\n",
       "      <th>crim</th>\n",
       "      <th>zn</th>\n",
       "      <th>indus</th>\n",
       "      <th>chas</th>\n",
       "      <th>nox</th>\n",
       "      <th>rm</th>\n",
       "      <th>age</th>\n",
       "      <th>dis</th>\n",
       "      <th>rad</th>\n",
       "      <th>tax</th>\n",
       "      <th>ptratio</th>\n",
       "      <th>b</th>\n",
       "      <th>lstat</th>\n",
       "    </tr>\n",
       "  </thead>\n",
       "  <tbody>\n",
       "    <tr>\n",
       "      <th>0</th>\n",
       "      <td>-0.403703</td>\n",
       "      <td>2.922585</td>\n",
       "      <td>-1.104951</td>\n",
       "      <td>-0.267615</td>\n",
       "      <td>-1.327269</td>\n",
       "      <td>-0.009032</td>\n",
       "      <td>-1.839024</td>\n",
       "      <td>1.350913</td>\n",
       "      <td>-0.626137</td>\n",
       "      <td>-0.407482</td>\n",
       "      <td>-1.083013</td>\n",
       "      <td>0.450385</td>\n",
       "      <td>-1.117056</td>\n",
       "    </tr>\n",
       "    <tr>\n",
       "      <th>1</th>\n",
       "      <td>0.687630</td>\n",
       "      <td>-0.492442</td>\n",
       "      <td>1.052385</td>\n",
       "      <td>-0.267615</td>\n",
       "      <td>1.189747</td>\n",
       "      <td>0.148722</td>\n",
       "      <td>1.138620</td>\n",
       "      <td>-1.047202</td>\n",
       "      <td>1.687162</td>\n",
       "      <td>1.553233</td>\n",
       "      <td>0.819928</td>\n",
       "      <td>0.232361</td>\n",
       "      <td>1.068547</td>\n",
       "    </tr>\n",
       "    <tr>\n",
       "      <th>2</th>\n",
       "      <td>0.257061</td>\n",
       "      <td>-0.492442</td>\n",
       "      <td>1.052385</td>\n",
       "      <td>-0.267615</td>\n",
       "      <td>-0.183946</td>\n",
       "      <td>-0.075455</td>\n",
       "      <td>-0.140101</td>\n",
       "      <td>-0.186243</td>\n",
       "      <td>1.687162</td>\n",
       "      <td>1.553233</td>\n",
       "      <td>0.819928</td>\n",
       "      <td>0.450385</td>\n",
       "      <td>-0.268807</td>\n",
       "    </tr>\n",
       "    <tr>\n",
       "      <th>3</th>\n",
       "      <td>-0.388499</td>\n",
       "      <td>-0.492442</td>\n",
       "      <td>2.158148</td>\n",
       "      <td>-0.267615</td>\n",
       "      <td>0.234134</td>\n",
       "      <td>-0.429711</td>\n",
       "      <td>0.718417</td>\n",
       "      <td>-0.876524</td>\n",
       "      <td>-0.857467</td>\n",
       "      <td>-1.295465</td>\n",
       "      <td>0.309383</td>\n",
       "      <td>0.325800</td>\n",
       "      <td>0.299952</td>\n",
       "    </tr>\n",
       "  </tbody>\n",
       "</table>\n",
       "</div>"
      ],
      "text/plain": [
       "       crim        zn     indus      chas       nox        rm       age  \\\n",
       "0 -0.403703  2.922585 -1.104951 -0.267615 -1.327269 -0.009032 -1.839024   \n",
       "1  0.687630 -0.492442  1.052385 -0.267615  1.189747  0.148722  1.138620   \n",
       "2  0.257061 -0.492442  1.052385 -0.267615 -0.183946 -0.075455 -0.140101   \n",
       "3 -0.388499 -0.492442  2.158148 -0.267615  0.234134 -0.429711  0.718417   \n",
       "\n",
       "        dis       rad       tax   ptratio         b     lstat  \n",
       "0  1.350913 -0.626137 -0.407482 -1.083013  0.450385 -1.117056  \n",
       "1 -1.047202  1.687162  1.553233  0.819928  0.232361  1.068547  \n",
       "2 -0.186243  1.687162  1.553233  0.819928  0.450385 -0.268807  \n",
       "3 -0.876524 -0.857467 -1.295465  0.309383  0.325800  0.299952  "
      ]
     },
     "execution_count": 27,
     "metadata": {},
     "output_type": "execute_result"
    }
   ],
   "source": [
    "dfXTestPrep.head(4)"
   ]
  },
  {
   "cell_type": "markdown",
   "id": "2f63a37a",
   "metadata": {},
   "source": [
    "### Model de regressió linial múltiple\n",
    "#### Regressió linial en Statsmodels"
   ]
  },
  {
   "cell_type": "code",
   "execution_count": 28,
   "id": "2ce60c5d",
   "metadata": {},
   "outputs": [
    {
     "data": {
      "text/html": [
       "<table class=\"simpletable\">\n",
       "<caption>OLS Regression Results</caption>\n",
       "<tr>\n",
       "  <th>Dep. Variable:</th>          <td>medv</td>       <th>  R-squared (uncentered):</th>      <td>   0.106</td>\n",
       "</tr>\n",
       "<tr>\n",
       "  <th>Model:</th>                   <td>OLS</td>       <th>  Adj. R-squared (uncentered):</th> <td>   0.076</td>\n",
       "</tr>\n",
       "<tr>\n",
       "  <th>Method:</th>             <td>Least Squares</td>  <th>  F-statistic:       </th>          <td>   3.559</td>\n",
       "</tr>\n",
       "<tr>\n",
       "  <th>Date:</th>             <td>Sun, 08 Jan 2023</td> <th>  Prob (F-statistic):</th>          <td>2.70e-05</td>\n",
       "</tr>\n",
       "<tr>\n",
       "  <th>Time:</th>                 <td>10:07:29</td>     <th>  Log-Likelihood:    </th>          <td> -1842.6</td>\n",
       "</tr>\n",
       "<tr>\n",
       "  <th>No. Observations:</th>      <td>   404</td>      <th>  AIC:               </th>          <td>   3711.</td>\n",
       "</tr>\n",
       "<tr>\n",
       "  <th>Df Residuals:</th>          <td>   391</td>      <th>  BIC:               </th>          <td>   3763.</td>\n",
       "</tr>\n",
       "<tr>\n",
       "  <th>Df Model:</th>              <td>    13</td>      <th>                     </th>              <td> </td>   \n",
       "</tr>\n",
       "<tr>\n",
       "  <th>Covariance Type:</th>      <td>nonrobust</td>    <th>                     </th>              <td> </td>   \n",
       "</tr>\n",
       "</table>\n",
       "<table class=\"simpletable\">\n",
       "<tr>\n",
       "   <td></td>      <th>coef</th>     <th>std err</th>      <th>t</th>      <th>P>|t|</th>  <th>[0.025</th>    <th>0.975]</th>  \n",
       "</tr>\n",
       "<tr>\n",
       "  <th>x1</th>  <td>   -1.0471</td> <td>    1.540</td> <td>   -0.680</td> <td> 0.497</td> <td>   -4.076</td> <td>    1.981</td>\n",
       "</tr>\n",
       "<tr>\n",
       "  <th>x2</th>  <td>    1.1219</td> <td>    1.747</td> <td>    0.642</td> <td> 0.521</td> <td>   -2.314</td> <td>    4.557</td>\n",
       "</tr>\n",
       "<tr>\n",
       "  <th>x3</th>  <td>    0.1221</td> <td>    2.420</td> <td>    0.050</td> <td> 0.960</td> <td>   -4.636</td> <td>    4.881</td>\n",
       "</tr>\n",
       "<tr>\n",
       "  <th>x4</th>  <td>    0.7161</td> <td>    1.218</td> <td>    0.588</td> <td> 0.557</td> <td>   -1.678</td> <td>    3.111</td>\n",
       "</tr>\n",
       "<tr>\n",
       "  <th>x5</th>  <td>   -2.1168</td> <td>    2.458</td> <td>   -0.861</td> <td> 0.390</td> <td>   -6.949</td> <td>    2.715</td>\n",
       "</tr>\n",
       "<tr>\n",
       "  <th>x6</th>  <td>    2.5233</td> <td>    1.616</td> <td>    1.562</td> <td> 0.119</td> <td>   -0.654</td> <td>    5.700</td>\n",
       "</tr>\n",
       "<tr>\n",
       "  <th>x7</th>  <td>   -0.3054</td> <td>    2.044</td> <td>   -0.149</td> <td> 0.881</td> <td>   -4.323</td> <td>    3.713</td>\n",
       "</tr>\n",
       "<tr>\n",
       "  <th>x8</th>  <td>   -3.4107</td> <td>    2.299</td> <td>   -1.484</td> <td> 0.139</td> <td>   -7.930</td> <td>    1.108</td>\n",
       "</tr>\n",
       "<tr>\n",
       "  <th>x9</th>  <td>    3.1559</td> <td>    3.217</td> <td>    0.981</td> <td> 0.327</td> <td>   -3.169</td> <td>    9.480</td>\n",
       "</tr>\n",
       "<tr>\n",
       "  <th>x10</th> <td>   -2.5444</td> <td>    3.563</td> <td>   -0.714</td> <td> 0.476</td> <td>   -9.549</td> <td>    4.460</td>\n",
       "</tr>\n",
       "<tr>\n",
       "  <th>x11</th> <td>   -2.0605</td> <td>    1.570</td> <td>   -1.312</td> <td> 0.190</td> <td>   -5.148</td> <td>    1.027</td>\n",
       "</tr>\n",
       "<tr>\n",
       "  <th>x12</th> <td>    0.9910</td> <td>    1.387</td> <td>    0.715</td> <td> 0.475</td> <td>   -1.735</td> <td>    3.717</td>\n",
       "</tr>\n",
       "<tr>\n",
       "  <th>x13</th> <td>   -3.6475</td> <td>    2.003</td> <td>   -1.821</td> <td> 0.069</td> <td>   -7.585</td> <td>    0.290</td>\n",
       "</tr>\n",
       "</table>\n",
       "<table class=\"simpletable\">\n",
       "<tr>\n",
       "  <th>Omnibus:</th>       <td>144.214</td> <th>  Durbin-Watson:     </th> <td>   0.097</td> \n",
       "</tr>\n",
       "<tr>\n",
       "  <th>Prob(Omnibus):</th> <td> 0.000</td>  <th>  Jarque-Bera (JB):  </th> <td> 595.691</td> \n",
       "</tr>\n",
       "<tr>\n",
       "  <th>Skew:</th>          <td> 1.532</td>  <th>  Prob(JB):          </th> <td>4.44e-130</td>\n",
       "</tr>\n",
       "<tr>\n",
       "  <th>Kurtosis:</th>      <td> 8.099</td>  <th>  Cond. No.          </th> <td>    9.98</td> \n",
       "</tr>\n",
       "</table><br/><br/>Notes:<br/>[1] R² is computed without centering (uncentered) since the model does not contain a constant.<br/>[2] Standard Errors assume that the covariance matrix of the errors is correctly specified."
      ],
      "text/plain": [
       "<class 'statsmodels.iolib.summary.Summary'>\n",
       "\"\"\"\n",
       "                                 OLS Regression Results                                \n",
       "=======================================================================================\n",
       "Dep. Variable:                   medv   R-squared (uncentered):                   0.106\n",
       "Model:                            OLS   Adj. R-squared (uncentered):              0.076\n",
       "Method:                 Least Squares   F-statistic:                              3.559\n",
       "Date:                Sun, 08 Jan 2023   Prob (F-statistic):                    2.70e-05\n",
       "Time:                        10:07:29   Log-Likelihood:                         -1842.6\n",
       "No. Observations:                 404   AIC:                                      3711.\n",
       "Df Residuals:                     391   BIC:                                      3763.\n",
       "Df Model:                          13                                                  \n",
       "Covariance Type:            nonrobust                                                  \n",
       "==============================================================================\n",
       "                 coef    std err          t      P>|t|      [0.025      0.975]\n",
       "------------------------------------------------------------------------------\n",
       "x1            -1.0471      1.540     -0.680      0.497      -4.076       1.981\n",
       "x2             1.1219      1.747      0.642      0.521      -2.314       4.557\n",
       "x3             0.1221      2.420      0.050      0.960      -4.636       4.881\n",
       "x4             0.7161      1.218      0.588      0.557      -1.678       3.111\n",
       "x5            -2.1168      2.458     -0.861      0.390      -6.949       2.715\n",
       "x6             2.5233      1.616      1.562      0.119      -0.654       5.700\n",
       "x7            -0.3054      2.044     -0.149      0.881      -4.323       3.713\n",
       "x8            -3.4107      2.299     -1.484      0.139      -7.930       1.108\n",
       "x9             3.1559      3.217      0.981      0.327      -3.169       9.480\n",
       "x10           -2.5444      3.563     -0.714      0.476      -9.549       4.460\n",
       "x11           -2.0605      1.570     -1.312      0.190      -5.148       1.027\n",
       "x12            0.9910      1.387      0.715      0.475      -1.735       3.717\n",
       "x13           -3.6475      2.003     -1.821      0.069      -7.585       0.290\n",
       "==============================================================================\n",
       "Omnibus:                      144.214   Durbin-Watson:                   0.097\n",
       "Prob(Omnibus):                  0.000   Jarque-Bera (JB):              595.691\n",
       "Skew:                           1.532   Prob(JB):                    4.44e-130\n",
       "Kurtosis:                       8.099   Cond. No.                         9.98\n",
       "==============================================================================\n",
       "\n",
       "Notes:\n",
       "[1] R² is computed without centering (uncentered) since the model does not contain a constant.\n",
       "[2] Standard Errors assume that the covariance matrix of the errors is correctly specified.\n",
       "\"\"\""
      ]
     },
     "execution_count": 28,
     "metadata": {},
     "output_type": "execute_result"
    }
   ],
   "source": [
    "X = X_train_prep\n",
    "y = y_train\n",
    "\n",
    "# Ajusto un model linial\n",
    "model = sm.OLS(y, X).fit()\n",
    "predictions = model.predict(X_test_prep)\n",
    "model.summary()"
   ]
  },
  {
   "cell_type": "code",
   "execution_count": 29,
   "id": "d0bc0002",
   "metadata": {},
   "outputs": [
    {
     "name": "stdout",
     "output_type": "stream",
     "text": [
      "Les prediccions són: [  7.92892388  -4.23909543   1.10208123   0.29785516  -3.06932243\n",
      "   4.56371537  10.08983405 -15.81587425  -1.30310499   1.70762557\n",
      "  -3.76635893   3.36790516   0.96514877   7.11944112  -5.77075316\n",
      "  -6.37765821  -2.23848538   2.48132018  -7.57291963   3.1138302\n",
      "  13.27208159  -1.86700796  -2.54082474 -11.22187734   9.78699169\n",
      "  -4.66290857  -5.01077005  11.16702651  -2.34662659   7.0739313\n",
      "  -1.30540039  -3.48597494  14.74727141  -9.84885755  -2.28965244\n",
      "  -3.00880482   6.48666396  -1.95491626  -0.62551713 -15.48594198\n",
      "  -6.33060646 -11.17521244  -4.43650438  -3.06654842  -0.93187162\n",
      "   2.16076629  -8.12606355   1.30034338  -8.90399744  12.00592086\n",
      " -16.24507754  -6.32958099  -1.29190976   9.34734951  -3.28672382\n",
      "  -0.65289488   4.67874638 -15.77521227  -9.73247739  -4.34185087\n",
      "   5.83730934  -4.7382808   -1.10984557   9.91850773  -1.6417848\n",
      "  -0.79844199  -3.01159875  -8.04042117  14.48660372   2.79645713\n",
      " -13.92816148  -7.8273415    0.33771601  -0.36472295  -0.11395975\n",
      "  -0.87118252  -0.26386942  -3.06453409   9.09031446   9.68827445\n",
      "  13.45887743   1.344398    14.08815197  -5.88617475  -6.56656224\n",
      "  17.86762872  -1.67176132  -3.55300943   0.09396681  -7.32332275\n",
      "  -1.8834431    6.64353896  13.18463475  -7.70327954  10.51127554\n",
      "  -4.94640314   2.06712319  -0.10149644   9.67826966   1.14236514\n",
      "   7.20488783]\n"
     ]
    }
   ],
   "source": [
    "print(\"Les prediccions són:\", predictions)"
   ]
  },
  {
   "cell_type": "code",
   "execution_count": 30,
   "id": "277fb81a",
   "metadata": {},
   "outputs": [
    {
     "name": "stdout",
     "output_type": "stream",
     "text": [
      "Els paràmetres són:\n",
      " x1    -1.047075\n",
      "x2     1.121890\n",
      "x3     0.122137\n",
      "x4     0.716147\n",
      "x5    -2.116845\n",
      "x6     2.523340\n",
      "x7    -0.305400\n",
      "x8    -3.410711\n",
      "x9     3.155933\n",
      "x10   -2.544407\n",
      "x11   -2.060516\n",
      "x12    0.990953\n",
      "x13   -3.647521\n",
      "dtype: float64\n"
     ]
    }
   ],
   "source": [
    "print(\"Els paràmetres són:\\n\", model.params)"
   ]
  },
  {
   "cell_type": "markdown",
   "id": "7f62e8ad",
   "metadata": {},
   "source": [
    "#### Regressió linial en SKLearn"
   ]
  },
  {
   "cell_type": "code",
   "execution_count": 31,
   "id": "9776b979",
   "metadata": {},
   "outputs": [
    {
     "name": "stdout",
     "output_type": "stream",
     "text": [
      "[30.56976547 18.40174615 23.74292282 22.93869674 19.57151915 27.20455695\n",
      " 32.73067564  6.82496733 21.33773659 24.34846716 18.87448265 26.00874674\n",
      " 23.60599036 29.7602827  16.87008843 16.26318337 20.40235621 25.12216176\n",
      " 15.06792196 25.75467178 35.91292317 20.77383362 20.10001685 11.41896424\n",
      " 32.42783328 17.97793302 17.63007153 33.80786809 20.294215   29.71477288\n",
      " 21.33544119 19.15486665 37.388113   12.79198403 20.35118914 19.63203677\n",
      " 29.12750554 20.68592533 22.01532445  7.15489961 16.31023513 11.46562915\n",
      " 18.2043372  19.57429317 21.70896997 24.80160788 14.51477803 23.94118497\n",
      " 13.73684414 34.64676245  6.39576405 16.3112606  21.34893182 31.98819109\n",
      " 19.35411777 21.9879467  27.31958796  6.86562931 12.9083642  18.29899071\n",
      " 28.47815092 17.90256078 21.53099602 32.55934931 20.99905678 21.8423996\n",
      " 19.62924283 14.60042042 37.1274453  25.43729871  8.7126801  14.81350008\n",
      " 22.97855759 22.27611863 22.52688184 21.76965907 22.37697216 19.5763075\n",
      " 31.73115604 32.32911603 36.09971901 23.98523958 36.72899355 16.75466684\n",
      " 16.07427935 40.50847031 20.96908027 19.08783216 22.73480839 15.31751883\n",
      " 20.75739849 29.28438055 35.82547633 14.93756205 33.15211713 17.69443844\n",
      " 24.70796477 22.53934514 32.31911124 23.78320672 29.84572941]\n"
     ]
    }
   ],
   "source": [
    "# Defineixo les variables independents (dades entrenament estandaritzades) i la variable resposta \n",
    "X = X_train_prep\n",
    "y = y_train\n",
    "\n",
    "# Ajusto un model linial\n",
    "lm = linear_model.LinearRegression()\n",
    "model = lm.fit(X,y)\n",
    "\n",
    "# Faig prediccions de la variable resposta (medv) amb les dades de prova estandaritzades\n",
    "predictions = lm.predict(X_test_prep)\n",
    "print(predictions)"
   ]
  },
  {
   "cell_type": "code",
   "execution_count": 32,
   "id": "a2de79c6",
   "metadata": {},
   "outputs": [
    {
     "data": {
      "text/plain": [
       "(101,)"
      ]
     },
     "execution_count": 32,
     "metadata": {},
     "output_type": "execute_result"
    }
   ],
   "source": [
    "predictions.shape"
   ]
  },
  {
   "cell_type": "code",
   "execution_count": 33,
   "id": "7f49a8b2",
   "metadata": {},
   "outputs": [
    {
     "name": "stdout",
     "output_type": "stream",
     "text": [
      "La intersecció és: 22.640841584158423\n",
      "Els paràmetres són: [-1.04707463  1.1218896   0.12213716  0.71614662 -2.11684451  2.52333994\n",
      " -0.30539988 -3.41071064  3.15593339 -2.54440713 -2.06051617  0.9909535\n",
      " -3.64752065]\n"
     ]
    }
   ],
   "source": [
    "print(\"La intersecció és:\", model.intercept_)\n",
    "print(\"Els paràmetres són:\", model.coef_)"
   ]
  },
  {
   "cell_type": "code",
   "execution_count": 58,
   "id": "262e4573",
   "metadata": {},
   "outputs": [
    {
     "name": "stdout",
     "output_type": "stream",
     "text": [
      "[30.56976547 18.40174615 23.74292282 22.93869674 19.57151915]\n"
     ]
    }
   ],
   "source": [
    "# Procediment anàleg al codi de sobre, però les dades estan en forma de dataframe\n",
    "X = dfXTrainPrep\n",
    "y = y_train\n",
    "\n",
    "lm = linear_model.LinearRegression()\n",
    "model = lm.fit(X,y)\n",
    "\n",
    "predictions = lm.predict(dfXTestPrep)\n",
    "print(predictions[0:5])   # Mostro les 5 primeres prediccions de la variable resposta"
   ]
  },
  {
   "cell_type": "markdown",
   "id": "95ae2eac",
   "metadata": {},
   "source": [
    "## Exercici 2\n",
    "Compara’ls en base al MSE i al R^2."
   ]
  },
  {
   "cell_type": "markdown",
   "id": "65734219",
   "metadata": {},
   "source": [
    "#### MSE "
   ]
  },
  {
   "cell_type": "code",
   "execution_count": 35,
   "id": "e2180b76",
   "metadata": {},
   "outputs": [
    {
     "name": "stdout",
     "output_type": "stream",
     "text": [
      "MSE: 1970.995 \n",
      "RMSE: 44.396\n"
     ]
    }
   ],
   "source": [
    "# Statsmodels\n",
    "\n",
    "X = X_train_prep\n",
    "y = y_train\n",
    "model = sm.OLS(y, X).fit()\n",
    "predictions = model.predict(X_test_prep)\n",
    "print(\"MSE:\", round(model.mse_model,3), \"\\nRMSE:\", round(math.sqrt(model.mse_model),3))"
   ]
  },
  {
   "cell_type": "code",
   "execution_count": 36,
   "id": "049a521e",
   "metadata": {},
   "outputs": [
    {
     "name": "stdout",
     "output_type": "stream",
     "text": [
      "MSE: 16.556 \n",
      "RMSE: 4.069\n"
     ]
    }
   ],
   "source": [
    "# SKLearn\n",
    "\n",
    "X = X_train_prep\n",
    "y = y_train\n",
    "lm = linear_model.LinearRegression()\n",
    "model = lm.fit(X,y)\n",
    "predictions = lm.predict(X_test_prep)\n",
    "print(\"MSE:\", round(mean_squared_error(y_test, predictions),3),\"\\nRMSE:\",\n",
    "      round(math.sqrt(mean_squared_error(y_test, predictions)),3))"
   ]
  },
  {
   "cell_type": "markdown",
   "id": "b2f99c3f",
   "metadata": {},
   "source": [
    "El valor més baix del MSE (o RMSE) indica errors menors i, per tant, un millor ajust del model de regressió, així que el model en SKLearn és el millor."
   ]
  },
  {
   "cell_type": "markdown",
   "id": "919a5ae4",
   "metadata": {},
   "source": [
    "#### R^2 "
   ]
  },
  {
   "cell_type": "code",
   "execution_count": 37,
   "id": "9cb13607",
   "metadata": {},
   "outputs": [
    {
     "name": "stdout",
     "output_type": "stream",
     "text": [
      "R^2: 0.106 \n",
      "R^2 ajustat: 0.076\n"
     ]
    }
   ],
   "source": [
    "# Statsmodels\n",
    "\n",
    "X = X_train_prep\n",
    "y = y_train\n",
    "model = sm.OLS(y, X).fit()\n",
    "#predictions = model.predict(X_test_prep)\n",
    "\n",
    "print(\"R^2:\", round(model.rsquared, 3), \"\\nR^2 ajustat:\", round(model.rsquared_adj, 3))"
   ]
  },
  {
   "cell_type": "code",
   "execution_count": 38,
   "id": "6c3654dd",
   "metadata": {},
   "outputs": [],
   "source": [
    "# SKLearn\n",
    "\n",
    "X = X_train_prep\n",
    "y = y_train\n",
    "\n",
    "lm = linear_model.LinearRegression()\n",
    "model = lm.fit(X,y)"
   ]
  },
  {
   "cell_type": "code",
   "execution_count": 39,
   "id": "25e70db6",
   "metadata": {},
   "outputs": [
    {
     "name": "stdout",
     "output_type": "stream",
     "text": [
      "R^2: 0.731\n"
     ]
    }
   ],
   "source": [
    "print(\"R^2:\", round(lm.score(X,y), 3))"
   ]
  },
  {
   "cell_type": "markdown",
   "id": "eea31d23",
   "metadata": {},
   "source": [
    "El valor de R Square (R^2) en SKLearn al ser més gran que el del Statsmodels indica que el model en SKLearn presenta un millor ajust entre la predicció i el valor real."
   ]
  },
  {
   "cell_type": "markdown",
   "id": "2f06c1c5",
   "metadata": {},
   "source": [
    "## Exercici 3\n",
    "Entrena’ls utilitzant els diferents paràmetres que admeten per intentar millorar-ne la predicció."
   ]
  },
  {
   "cell_type": "code",
   "execution_count": 40,
   "id": "ecc333f9",
   "metadata": {},
   "outputs": [],
   "source": [
    "# Per millorar el models de regressió vull aplicar el \"Gradient Descent\" per a regressió múltiple (SKLearn),\n",
    "# però al fer l'ajust de les dades m`ha donat un error que no he sabut resoldre. \n",
    "\n",
    "def generateXvector(X):\n",
    "    vectorX = np.c_[np.ones((len(X), 1)), X]\n",
    "    return vectorX"
   ]
  },
  {
   "cell_type": "code",
   "execution_count": 41,
   "id": "4aaf8591",
   "metadata": {},
   "outputs": [],
   "source": [
    "def theta_init(X):\n",
    "    theta = np.random.randn(len(X[0])+1, 1)\n",
    "    return theta"
   ]
  },
  {
   "cell_type": "code",
   "execution_count": 42,
   "id": "12290cac",
   "metadata": {},
   "outputs": [],
   "source": [
    "def Multivariable_Linear_Regression(X,y,learningrate, iterations):\n",
    "    y_new = np.reshape(y, (len(y), 1))   \n",
    "    cost_lst = []\n",
    "    vectorX = generateXvector(X)\n",
    "    theta = theta_init(X)\n",
    "    m = len(X)\n",
    "    for i in range(iterations):\n",
    "        gradients = 2/m * vectorX.T.dot(vectorX.dot(theta) - y_new)\n",
    "        theta = theta - learningrate * gradients\n",
    "        y_pred = vectorX.dot(theta)\n",
    "        cost_value = 1/(2*len(y))*((y_pred - y)**2) \n",
    "        #Calculate the loss for each training instance\n",
    "        total = 0\n",
    "        for i in range(len(y)):\n",
    "            total += cost_value[i][0] \n",
    "            #Calculate the cost function for each iteration\n",
    "        cost_lst.append(total)\n",
    "    plt.plot(np.arange(1,iterations),cost_lst[1:], color = 'red')\n",
    "    plt.title('Cost function Graph')\n",
    "    plt.xlabel('Number of iterations')\n",
    "    plt.ylabel('Cost')\n",
    "    return theta"
   ]
  },
  {
   "cell_type": "code",
   "execution_count": 43,
   "id": "1182258a",
   "metadata": {},
   "outputs": [
    {
     "name": "stdout",
     "output_type": "stream",
     "text": [
      "La intersecció és: 22.640841584158423\n",
      "Els paràmetres són: [-1.04707463  1.1218896   0.12213716  0.71614662 -2.11684451  2.52333994\n",
      " -0.30539988 -3.41071064  3.15593339 -2.54440713 -2.06051617  0.9909535\n",
      " -3.64752065]\n"
     ]
    }
   ],
   "source": [
    "# Regressió en SKLearn\n",
    "X = X_train_prep\n",
    "y = y_train\n",
    "lm = linear_model.LinearRegression()\n",
    "model = lm.fit(X,y)\n",
    "print(\"La intersecció és:\", model.intercept_)\n",
    "print(\"Els paràmetres són:\", model.coef_)"
   ]
  },
  {
   "cell_type": "code",
   "execution_count": 44,
   "id": "f5461b05",
   "metadata": {},
   "outputs": [
    {
     "ename": "ValueError",
     "evalue": "Data must be 1-dimensional",
     "output_type": "error",
     "traceback": [
      "\u001b[1;31m---------------------------------------------------------------------------\u001b[0m",
      "\u001b[1;31mValueError\u001b[0m                                Traceback (most recent call last)",
      "Input \u001b[1;32mIn [44]\u001b[0m, in \u001b[0;36m<cell line: 6>\u001b[1;34m()\u001b[0m\n\u001b[0;32m      4\u001b[0m X \u001b[38;5;241m=\u001b[39m X_train_prep\n\u001b[0;32m      5\u001b[0m y \u001b[38;5;241m=\u001b[39m y_train\n\u001b[1;32m----> 6\u001b[0m \u001b[43mMultivariable_Linear_Regression\u001b[49m\u001b[43m(\u001b[49m\u001b[43mX\u001b[49m\u001b[43m,\u001b[49m\u001b[43my\u001b[49m\u001b[43m,\u001b[49m\u001b[43m \u001b[49m\u001b[38;5;241;43m0.03\u001b[39;49m\u001b[43m,\u001b[49m\u001b[43m \u001b[49m\u001b[38;5;241;43m30000\u001b[39;49m\u001b[43m)\u001b[49m\n",
      "Input \u001b[1;32mIn [42]\u001b[0m, in \u001b[0;36mMultivariable_Linear_Regression\u001b[1;34m(X, y, learningrate, iterations)\u001b[0m\n\u001b[0;32m      1\u001b[0m \u001b[38;5;28;01mdef\u001b[39;00m \u001b[38;5;21mMultivariable_Linear_Regression\u001b[39m(X,y,learningrate, iterations):\n\u001b[1;32m----> 2\u001b[0m     y_new \u001b[38;5;241m=\u001b[39m \u001b[43mnp\u001b[49m\u001b[38;5;241;43m.\u001b[39;49m\u001b[43mreshape\u001b[49m\u001b[43m(\u001b[49m\u001b[43my\u001b[49m\u001b[43m,\u001b[49m\u001b[43m \u001b[49m\u001b[43m(\u001b[49m\u001b[38;5;28;43mlen\u001b[39;49m\u001b[43m(\u001b[49m\u001b[43my\u001b[49m\u001b[43m)\u001b[49m\u001b[43m,\u001b[49m\u001b[43m \u001b[49m\u001b[38;5;241;43m1\u001b[39;49m\u001b[43m)\u001b[49m\u001b[43m)\u001b[49m   \n\u001b[0;32m      3\u001b[0m     cost_lst \u001b[38;5;241m=\u001b[39m []\n\u001b[0;32m      4\u001b[0m     vectorX \u001b[38;5;241m=\u001b[39m generateXvector(X)\n",
      "File \u001b[1;32m<__array_function__ internals>:5\u001b[0m, in \u001b[0;36mreshape\u001b[1;34m(*args, **kwargs)\u001b[0m\n",
      "File \u001b[1;32m~\\anaconda3\\lib\\site-packages\\numpy\\core\\fromnumeric.py:298\u001b[0m, in \u001b[0;36mreshape\u001b[1;34m(a, newshape, order)\u001b[0m\n\u001b[0;32m    198\u001b[0m \u001b[38;5;129m@array_function_dispatch\u001b[39m(_reshape_dispatcher)\n\u001b[0;32m    199\u001b[0m \u001b[38;5;28;01mdef\u001b[39;00m \u001b[38;5;21mreshape\u001b[39m(a, newshape, order\u001b[38;5;241m=\u001b[39m\u001b[38;5;124m'\u001b[39m\u001b[38;5;124mC\u001b[39m\u001b[38;5;124m'\u001b[39m):\n\u001b[0;32m    200\u001b[0m     \u001b[38;5;124;03m\"\"\"\u001b[39;00m\n\u001b[0;32m    201\u001b[0m \u001b[38;5;124;03m    Gives a new shape to an array without changing its data.\u001b[39;00m\n\u001b[0;32m    202\u001b[0m \n\u001b[1;32m   (...)\u001b[0m\n\u001b[0;32m    296\u001b[0m \u001b[38;5;124;03m           [5, 6]])\u001b[39;00m\n\u001b[0;32m    297\u001b[0m \u001b[38;5;124;03m    \"\"\"\u001b[39;00m\n\u001b[1;32m--> 298\u001b[0m     \u001b[38;5;28;01mreturn\u001b[39;00m \u001b[43m_wrapfunc\u001b[49m\u001b[43m(\u001b[49m\u001b[43ma\u001b[49m\u001b[43m,\u001b[49m\u001b[43m \u001b[49m\u001b[38;5;124;43m'\u001b[39;49m\u001b[38;5;124;43mreshape\u001b[39;49m\u001b[38;5;124;43m'\u001b[39;49m\u001b[43m,\u001b[49m\u001b[43m \u001b[49m\u001b[43mnewshape\u001b[49m\u001b[43m,\u001b[49m\u001b[43m \u001b[49m\u001b[43morder\u001b[49m\u001b[38;5;241;43m=\u001b[39;49m\u001b[43morder\u001b[49m\u001b[43m)\u001b[49m\n",
      "File \u001b[1;32m~\\anaconda3\\lib\\site-packages\\numpy\\core\\fromnumeric.py:54\u001b[0m, in \u001b[0;36m_wrapfunc\u001b[1;34m(obj, method, *args, **kwds)\u001b[0m\n\u001b[0;32m     52\u001b[0m bound \u001b[38;5;241m=\u001b[39m \u001b[38;5;28mgetattr\u001b[39m(obj, method, \u001b[38;5;28;01mNone\u001b[39;00m)\n\u001b[0;32m     53\u001b[0m \u001b[38;5;28;01mif\u001b[39;00m bound \u001b[38;5;129;01mis\u001b[39;00m \u001b[38;5;28;01mNone\u001b[39;00m:\n\u001b[1;32m---> 54\u001b[0m     \u001b[38;5;28;01mreturn\u001b[39;00m _wrapit(obj, method, \u001b[38;5;241m*\u001b[39margs, \u001b[38;5;241m*\u001b[39m\u001b[38;5;241m*\u001b[39mkwds)\n\u001b[0;32m     56\u001b[0m \u001b[38;5;28;01mtry\u001b[39;00m:\n\u001b[0;32m     57\u001b[0m     \u001b[38;5;28;01mreturn\u001b[39;00m bound(\u001b[38;5;241m*\u001b[39margs, \u001b[38;5;241m*\u001b[39m\u001b[38;5;241m*\u001b[39mkwds)\n",
      "File \u001b[1;32m~\\anaconda3\\lib\\site-packages\\numpy\\core\\fromnumeric.py:47\u001b[0m, in \u001b[0;36m_wrapit\u001b[1;34m(obj, method, *args, **kwds)\u001b[0m\n\u001b[0;32m     45\u001b[0m     \u001b[38;5;28;01mif\u001b[39;00m \u001b[38;5;129;01mnot\u001b[39;00m \u001b[38;5;28misinstance\u001b[39m(result, mu\u001b[38;5;241m.\u001b[39mndarray):\n\u001b[0;32m     46\u001b[0m         result \u001b[38;5;241m=\u001b[39m asarray(result)\n\u001b[1;32m---> 47\u001b[0m     result \u001b[38;5;241m=\u001b[39m \u001b[43mwrap\u001b[49m\u001b[43m(\u001b[49m\u001b[43mresult\u001b[49m\u001b[43m)\u001b[49m\n\u001b[0;32m     48\u001b[0m \u001b[38;5;28;01mreturn\u001b[39;00m result\n",
      "File \u001b[1;32m~\\anaconda3\\lib\\site-packages\\pandas\\core\\generic.py:2095\u001b[0m, in \u001b[0;36mNDFrame.__array_wrap__\u001b[1;34m(self, result, context)\u001b[0m\n\u001b[0;32m   2093\u001b[0m     \u001b[38;5;28;01mreturn\u001b[39;00m res\n\u001b[0;32m   2094\u001b[0m d \u001b[38;5;241m=\u001b[39m \u001b[38;5;28mself\u001b[39m\u001b[38;5;241m.\u001b[39m_construct_axes_dict(\u001b[38;5;28mself\u001b[39m\u001b[38;5;241m.\u001b[39m_AXIS_ORDERS, copy\u001b[38;5;241m=\u001b[39m\u001b[38;5;28;01mFalse\u001b[39;00m)\n\u001b[1;32m-> 2095\u001b[0m \u001b[38;5;28;01mreturn\u001b[39;00m \u001b[38;5;28mself\u001b[39m\u001b[38;5;241m.\u001b[39m_constructor(res, \u001b[38;5;241m*\u001b[39m\u001b[38;5;241m*\u001b[39md)\u001b[38;5;241m.\u001b[39m__finalize__(\u001b[38;5;28mself\u001b[39m, method\u001b[38;5;241m=\u001b[39m\u001b[38;5;124m\"\u001b[39m\u001b[38;5;124m__array_wrap__\u001b[39m\u001b[38;5;124m\"\u001b[39m)\n",
      "File \u001b[1;32m~\\anaconda3\\lib\\site-packages\\pandas\\core\\series.py:451\u001b[0m, in \u001b[0;36mSeries.__init__\u001b[1;34m(self, data, index, dtype, name, copy, fastpath)\u001b[0m\n\u001b[0;32m    449\u001b[0m         data \u001b[38;5;241m=\u001b[39m data\u001b[38;5;241m.\u001b[39mcopy()\n\u001b[0;32m    450\u001b[0m \u001b[38;5;28;01melse\u001b[39;00m:\n\u001b[1;32m--> 451\u001b[0m     data \u001b[38;5;241m=\u001b[39m \u001b[43msanitize_array\u001b[49m\u001b[43m(\u001b[49m\u001b[43mdata\u001b[49m\u001b[43m,\u001b[49m\u001b[43m \u001b[49m\u001b[43mindex\u001b[49m\u001b[43m,\u001b[49m\u001b[43m \u001b[49m\u001b[43mdtype\u001b[49m\u001b[43m,\u001b[49m\u001b[43m \u001b[49m\u001b[43mcopy\u001b[49m\u001b[43m)\u001b[49m\n\u001b[0;32m    453\u001b[0m     manager \u001b[38;5;241m=\u001b[39m get_option(\u001b[38;5;124m\"\u001b[39m\u001b[38;5;124mmode.data_manager\u001b[39m\u001b[38;5;124m\"\u001b[39m)\n\u001b[0;32m    454\u001b[0m     \u001b[38;5;28;01mif\u001b[39;00m manager \u001b[38;5;241m==\u001b[39m \u001b[38;5;124m\"\u001b[39m\u001b[38;5;124mblock\u001b[39m\u001b[38;5;124m\"\u001b[39m:\n",
      "File \u001b[1;32m~\\anaconda3\\lib\\site-packages\\pandas\\core\\construction.py:598\u001b[0m, in \u001b[0;36msanitize_array\u001b[1;34m(data, index, dtype, copy, raise_cast_failure, allow_2d)\u001b[0m\n\u001b[0;32m    595\u001b[0m             subarr \u001b[38;5;241m=\u001b[39m cast(np\u001b[38;5;241m.\u001b[39mndarray, subarr)\n\u001b[0;32m    596\u001b[0m             subarr \u001b[38;5;241m=\u001b[39m maybe_infer_to_datetimelike(subarr)\n\u001b[1;32m--> 598\u001b[0m subarr \u001b[38;5;241m=\u001b[39m \u001b[43m_sanitize_ndim\u001b[49m\u001b[43m(\u001b[49m\u001b[43msubarr\u001b[49m\u001b[43m,\u001b[49m\u001b[43m \u001b[49m\u001b[43mdata\u001b[49m\u001b[43m,\u001b[49m\u001b[43m \u001b[49m\u001b[43mdtype\u001b[49m\u001b[43m,\u001b[49m\u001b[43m \u001b[49m\u001b[43mindex\u001b[49m\u001b[43m,\u001b[49m\u001b[43m \u001b[49m\u001b[43mallow_2d\u001b[49m\u001b[38;5;241;43m=\u001b[39;49m\u001b[43mallow_2d\u001b[49m\u001b[43m)\u001b[49m\n\u001b[0;32m    600\u001b[0m \u001b[38;5;28;01mif\u001b[39;00m \u001b[38;5;28misinstance\u001b[39m(subarr, np\u001b[38;5;241m.\u001b[39mndarray):\n\u001b[0;32m    601\u001b[0m     \u001b[38;5;66;03m# at this point we should have dtype be None or subarr.dtype == dtype\u001b[39;00m\n\u001b[0;32m    602\u001b[0m     dtype \u001b[38;5;241m=\u001b[39m cast(np\u001b[38;5;241m.\u001b[39mdtype, dtype)\n",
      "File \u001b[1;32m~\\anaconda3\\lib\\site-packages\\pandas\\core\\construction.py:649\u001b[0m, in \u001b[0;36m_sanitize_ndim\u001b[1;34m(result, data, dtype, index, allow_2d)\u001b[0m\n\u001b[0;32m    647\u001b[0m     \u001b[38;5;28;01mif\u001b[39;00m allow_2d:\n\u001b[0;32m    648\u001b[0m         \u001b[38;5;28;01mreturn\u001b[39;00m result\n\u001b[1;32m--> 649\u001b[0m     \u001b[38;5;28;01mraise\u001b[39;00m \u001b[38;5;167;01mValueError\u001b[39;00m(\u001b[38;5;124m\"\u001b[39m\u001b[38;5;124mData must be 1-dimensional\u001b[39m\u001b[38;5;124m\"\u001b[39m)\n\u001b[0;32m    650\u001b[0m \u001b[38;5;28;01mif\u001b[39;00m is_object_dtype(dtype) \u001b[38;5;129;01mand\u001b[39;00m \u001b[38;5;28misinstance\u001b[39m(dtype, ExtensionDtype):\n\u001b[0;32m    651\u001b[0m     \u001b[38;5;66;03m# i.e. PandasDtype(\"O\")\u001b[39;00m\n\u001b[0;32m    653\u001b[0m     result \u001b[38;5;241m=\u001b[39m com\u001b[38;5;241m.\u001b[39masarray_tuplesafe(data, dtype\u001b[38;5;241m=\u001b[39mnp\u001b[38;5;241m.\u001b[39mdtype(\u001b[38;5;124m\"\u001b[39m\u001b[38;5;124mobject\u001b[39m\u001b[38;5;124m\"\u001b[39m))\n",
      "\u001b[1;31mValueError\u001b[0m: Data must be 1-dimensional"
     ]
    }
   ],
   "source": [
    "# Ajustament de les dades amb el Gradient Descent.\n",
    "from sklearn.linear_model import LinearRegression\n",
    "\n",
    "X = X_train_prep\n",
    "y = y_train\n",
    "Multivariable_Linear_Regression(X,y, 0.03, 30000)"
   ]
  },
  {
   "cell_type": "markdown",
   "id": "88e5272c",
   "metadata": {},
   "source": [
    "## Exercici 4\n",
    "Compara el seu rendiment emprant l’aproximació traint/test o emprant totes les dades (validació interna)."
   ]
  },
  {
   "cell_type": "code",
   "execution_count": 45,
   "id": "c52c4941",
   "metadata": {},
   "outputs": [
    {
     "name": "stdout",
     "output_type": "stream",
     "text": [
      "GridSearchCV(cv=3, estimator=Lasso(),\n",
      "             param_grid={'alpha': array([1.  , 0.5 , 0.2 , 0.1 , 0.05, 0.02, 0.01])})\n",
      "{'alpha': 0.01}\n"
     ]
    }
   ],
   "source": [
    "# Implemento la classe GridSearchCV. Utilitzo una regressió LASSO, en què cal fixar valors d'alpha.\n",
    "\n",
    "from sklearn.linear_model import Lasso\n",
    "from sklearn.model_selection import GridSearchCV\n",
    "\n",
    "X = X_train_prep\n",
    "y = y_train\n",
    "\n",
    "alphas = np.array([1, 0.5, 0.2, 0.1, 0.05, 0.02, 0.01])\n",
    "model = Lasso()\n",
    "grid = GridSearchCV(estimator = model,\n",
    "                    param_grid = dict(alpha = alphas),\n",
    "                    cv = 3)\n",
    "print(grid.fit(X, y))\n",
    "print(grid.best_params_)"
   ]
  },
  {
   "cell_type": "markdown",
   "id": "4b779a2d",
   "metadata": {},
   "source": [
    "Els millors paràmetres del model són per a alpha igual a 0.01."
   ]
  },
  {
   "cell_type": "code",
   "execution_count": 46,
   "id": "65271db6",
   "metadata": {},
   "outputs": [
    {
     "data": {
      "text/plain": [
       "{'mean_fit_time': array([0.00433683, 0.00521517, 0.        , 0.00521851, 0.        ,\n",
       "        0.        , 0.        ]),\n",
       " 'std_fit_time': array([0.00613321, 0.00737536, 0.        , 0.00738008, 0.        ,\n",
       "        0.        , 0.        ]),\n",
       " 'mean_score_time': array([0.        , 0.        , 0.        , 0.        , 0.        ,\n",
       "        0.00520953, 0.        ]),\n",
       " 'std_score_time': array([0.        , 0.        , 0.        , 0.        , 0.        ,\n",
       "        0.00736738, 0.        ]),\n",
       " 'param_alpha': masked_array(data=[1.0, 0.5, 0.2, 0.1, 0.05, 0.02, 0.01],\n",
       "              mask=[False, False, False, False, False, False, False],\n",
       "        fill_value='?',\n",
       "             dtype=object),\n",
       " 'params': [{'alpha': 1.0},\n",
       "  {'alpha': 0.5},\n",
       "  {'alpha': 0.2},\n",
       "  {'alpha': 0.1},\n",
       "  {'alpha': 0.05},\n",
       "  {'alpha': 0.02},\n",
       "  {'alpha': 0.01}],\n",
       " 'split0_test_score': array([0.63884832, 0.6655122 , 0.69955475, 0.70770182, 0.70890062,\n",
       "        0.70694874, 0.70600486]),\n",
       " 'split1_test_score': array([0.61674304, 0.61826001, 0.64475596, 0.66131619, 0.67196475,\n",
       "        0.67662439, 0.67789481]),\n",
       " 'split2_test_score': array([0.6022853 , 0.61680681, 0.6526116 , 0.67052594, 0.67604715,\n",
       "        0.67794083, 0.67810315]),\n",
       " 'mean_test_score': array([0.61929222, 0.63352634, 0.66564077, 0.67984798, 0.68563751,\n",
       "        0.68717132, 0.68733428]),\n",
       " 'std_test_score': array([0.01503523, 0.0226252 , 0.0241943 , 0.0200513 , 0.01653372,\n",
       "        0.01399507, 0.01320237]),\n",
       " 'rank_test_score': array([7, 6, 5, 4, 3, 2, 1])}"
      ]
     },
     "execution_count": 46,
     "metadata": {},
     "output_type": "execute_result"
    }
   ],
   "source": [
    "# Anàlisi detallat del rendiment\n",
    "grid.cv_results_"
   ]
  },
  {
   "cell_type": "code",
   "execution_count": 47,
   "id": "444488d8",
   "metadata": {},
   "outputs": [
    {
     "name": "stdout",
     "output_type": "stream",
     "text": [
      "GridSearchCV(cv=3, estimator=Lasso(),\n",
      "             param_grid={'alpha': array([1.  , 0.5 , 0.2 , 0.1 , 0.05, 0.02, 0.01]),\n",
      "                         'fit_intercept': [True, False]})\n",
      "{'alpha': 0.01, 'fit_intercept': True}\n"
     ]
    }
   ],
   "source": [
    "# Anàleg al cas anterior, però en aquest codi s'avalua si és millor un model amb terme independent o sense.\n",
    "\n",
    "fit_intercept = [True, False]\n",
    "\n",
    "grid = GridSearchCV(estimator = model,\n",
    "                    param_grid = dict(alpha = alphas,\n",
    "                                      fit_intercept = fit_intercept),\n",
    "                    cv = 3)\n",
    "\n",
    "print(grid.fit(X, y))\n",
    "print(grid.best_params_)"
   ]
  },
  {
   "cell_type": "code",
   "execution_count": 48,
   "id": "effaefe4",
   "metadata": {},
   "outputs": [
    {
     "data": {
      "text/plain": [
       "{'mean_fit_time': array([0.0025413 , 0.00208036, 0.00181556, 0.00106986, 0.0003802 ,\n",
       "        0.00417431, 0.00522518, 0.        , 0.        , 0.        ,\n",
       "        0.        , 0.        , 0.00520929, 0.        ]),\n",
       " 'std_fit_time': array([6.50219906e-04, 1.63060801e-05, 5.32006935e-04, 1.49036511e-05,\n",
       "        5.37681395e-04, 5.90336858e-03, 7.38952266e-03, 0.00000000e+00,\n",
       "        0.00000000e+00, 0.00000000e+00, 0.00000000e+00, 0.00000000e+00,\n",
       "        7.36704434e-03, 0.00000000e+00]),\n",
       " 'mean_score_time': array([0.00034984, 0.00104197, 0.00109458, 0.00104507, 0.00035183,\n",
       "        0.        , 0.        , 0.        , 0.00519896, 0.        ,\n",
       "        0.00520929, 0.        , 0.        , 0.        ]),\n",
       " 'std_score_time': array([4.94747806e-04, 2.65900560e-05, 3.25159590e-05, 3.01404422e-05,\n",
       "        4.97557596e-04, 0.00000000e+00, 0.00000000e+00, 0.00000000e+00,\n",
       "        7.35243343e-03, 0.00000000e+00, 7.36704434e-03, 0.00000000e+00,\n",
       "        0.00000000e+00, 0.00000000e+00]),\n",
       " 'param_alpha': masked_array(data=[1.0, 1.0, 0.5, 0.5, 0.2, 0.2, 0.1, 0.1, 0.05, 0.05,\n",
       "                    0.02, 0.02, 0.01, 0.01],\n",
       "              mask=[False, False, False, False, False, False, False, False,\n",
       "                    False, False, False, False, False, False],\n",
       "        fill_value='?',\n",
       "             dtype=object),\n",
       " 'param_fit_intercept': masked_array(data=[True, False, True, False, True, False, True, False,\n",
       "                    True, False, True, False, True, False],\n",
       "              mask=[False, False, False, False, False, False, False, False,\n",
       "                    False, False, False, False, False, False],\n",
       "        fill_value='?',\n",
       "             dtype=object),\n",
       " 'params': [{'alpha': 1.0, 'fit_intercept': True},\n",
       "  {'alpha': 1.0, 'fit_intercept': False},\n",
       "  {'alpha': 0.5, 'fit_intercept': True},\n",
       "  {'alpha': 0.5, 'fit_intercept': False},\n",
       "  {'alpha': 0.2, 'fit_intercept': True},\n",
       "  {'alpha': 0.2, 'fit_intercept': False},\n",
       "  {'alpha': 0.1, 'fit_intercept': True},\n",
       "  {'alpha': 0.1, 'fit_intercept': False},\n",
       "  {'alpha': 0.05, 'fit_intercept': True},\n",
       "  {'alpha': 0.05, 'fit_intercept': False},\n",
       "  {'alpha': 0.02, 'fit_intercept': True},\n",
       "  {'alpha': 0.02, 'fit_intercept': False},\n",
       "  {'alpha': 0.01, 'fit_intercept': True},\n",
       "  {'alpha': 0.01, 'fit_intercept': False}],\n",
       " 'split0_test_score': array([ 0.63884832, -5.67687792,  0.6655122 , -5.77819577,  0.69955475,\n",
       "        -5.83514875,  0.70770182, -5.89816375,  0.70890062, -5.92938676,\n",
       "         0.70694874, -5.95096815,  0.70600486, -5.95867302]),\n",
       " 'split1_test_score': array([ 0.61674304, -5.35259399,  0.61826001, -5.38052609,  0.64475596,\n",
       "        -5.39909403,  0.66131619, -5.42271879,  0.67196475, -5.43758153,\n",
       "         0.67662439, -5.44755743,  0.67789481, -5.45102554]),\n",
       " 'split2_test_score': array([ 0.6022853 , -5.65481309,  0.61680681, -5.65969593,  0.6526116 ,\n",
       "        -5.69872953,  0.67052594, -5.70622971,  0.67604715, -5.70932298,\n",
       "         0.67794083, -5.71147192,  0.67810315, -5.71361106]),\n",
       " 'mean_test_score': array([ 0.61929222, -5.56142833,  0.63352634, -5.60613926,  0.66564077,\n",
       "        -5.64432411,  0.67984798, -5.67570408,  0.68563751, -5.69209709,\n",
       "         0.68717132, -5.7033325 ,  0.68733428, -5.70776987]),\n",
       " 'std_test_score': array([0.01503523, 0.14794267, 0.0226252 , 0.16670639, 0.0241943 ,\n",
       "        0.18212796, 0.0200513 , 0.19529608, 0.01653372, 0.20114778,\n",
       "        0.01399507, 0.20559714, 0.01320237, 0.20728737]),\n",
       " 'rank_test_score': array([ 7,  8,  6,  9,  5, 10,  4, 11,  3, 12,  2, 13,  1, 14])}"
      ]
     },
     "execution_count": 48,
     "metadata": {},
     "output_type": "execute_result"
    }
   ],
   "source": [
    "# Anàlisi detallat del rendiment\n",
    "grid.cv_results_"
   ]
  },
  {
   "cell_type": "markdown",
   "id": "cea504d7",
   "metadata": {},
   "source": [
    "## Exercici 5\n",
    "No facis servir la variable del nombre d'habitacions (RM) a l’hora de fer prediccions."
   ]
  },
  {
   "cell_type": "code",
   "execution_count": 49,
   "id": "6fb0f852",
   "metadata": {},
   "outputs": [
    {
     "name": "stdout",
     "output_type": "stream",
     "text": [
      "[30.56976547 18.40174615 23.74292282 22.93869674 19.57151915 27.20455695\n",
      " 32.73067564  6.82496733 21.33773659 24.34846716 18.87448265 26.00874674\n",
      " 23.60599036 29.7602827  16.87008843 16.26318337 20.40235621 25.12216176\n",
      " 15.06792196 25.75467178 35.91292317 20.77383362 20.10001685 11.41896424\n",
      " 32.42783328 17.97793302 17.63007153 33.80786809 20.294215   29.71477288\n",
      " 21.33544119 19.15486665 37.388113   12.79198403 20.35118914 19.63203677\n",
      " 29.12750554 20.68592533 22.01532445  7.15489961 16.31023513 11.46562915\n",
      " 18.2043372  19.57429317 21.70896997 24.80160788 14.51477803 23.94118497\n",
      " 13.73684414 34.64676245  6.39576405 16.3112606  21.34893182 31.98819109\n",
      " 19.35411777 21.9879467  27.31958796  6.86562931 12.9083642  18.29899071\n",
      " 28.47815092 17.90256078 21.53099602 32.55934931 20.99905678 21.8423996\n",
      " 19.62924283 14.60042042 37.1274453  25.43729871  8.7126801  14.81350008\n",
      " 22.97855759 22.27611863 22.52688184 21.76965907 22.37697216 19.5763075\n",
      " 31.73115604 32.32911603 36.09971901 23.98523958 36.72899355 16.75466684\n",
      " 16.07427935 40.50847031 20.96908027 19.08783216 22.73480839 15.31751883\n",
      " 20.75739849 29.28438055 35.82547633 14.93756205 33.15211713 17.69443844\n",
      " 24.70796477 22.53934514 32.31911124 23.78320672 29.84572941]\n"
     ]
    }
   ],
   "source": [
    "# Regressió linial en SKLearn (realitzat a l'exercici 1)\n",
    "\n",
    "X = X_train_prep\n",
    "y = y_train\n",
    "\n",
    "lm = linear_model.LinearRegression()\n",
    "model = lm.fit(X,y)\n",
    "\n",
    "# Faig prediccions de la variable resposta (medv) amb les dades de prova estandaritzades\n",
    "predictions = lm.predict(X_test_prep)\n",
    "print(predictions)"
   ]
  },
  {
   "cell_type": "code",
   "execution_count": 62,
   "id": "54e46d88",
   "metadata": {},
   "outputs": [
    {
     "name": "stdout",
     "output_type": "stream",
     "text": [
      "[32.73002792 16.61548817 24.05820958 23.20726165 18.42851187]\n"
     ]
    }
   ],
   "source": [
    "# Regressió linial anàloga al cas anterior sense usar la variable rm (nombre d'habitacions)\n",
    "\n",
    "X = dfXTrainPrep.drop([\"rm\"], axis=1)\n",
    "y = y_train\n",
    "XTest = dfXTestPrep.drop([\"rm\"], axis=1)\n",
    "\n",
    "lm = linear_model.LinearRegression()\n",
    "model = lm.fit(X,y)\n",
    "\n",
    "predictions = lm.predict(XTest)\n",
    "print(predictions[0:5])      # Mostro les 5 primeres prediccions de la variable resposta"
   ]
  },
  {
   "cell_type": "code",
   "execution_count": null,
   "id": "9018bed4",
   "metadata": {},
   "outputs": [],
   "source": []
  }
 ],
 "metadata": {
  "kernelspec": {
   "display_name": "Python 3 (ipykernel)",
   "language": "python",
   "name": "python3"
  },
  "language_info": {
   "codemirror_mode": {
    "name": "ipython",
    "version": 3
   },
   "file_extension": ".py",
   "mimetype": "text/x-python",
   "name": "python",
   "nbconvert_exporter": "python",
   "pygments_lexer": "ipython3",
   "version": "3.9.12"
  }
 },
 "nbformat": 4,
 "nbformat_minor": 5
}
