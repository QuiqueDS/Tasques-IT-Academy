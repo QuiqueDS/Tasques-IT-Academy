{
 "cells": [
  {
   "cell_type": "markdown",
   "id": "b51c170c",
   "metadata": {},
   "source": [
    "# TASCA M9 T01\n",
    "Exercicis d'anàlisi de sentiment i textos."
   ]
  },
  {
   "cell_type": "markdown",
   "id": "c8f0671e",
   "metadata": {},
   "source": [
    "# > Exercici 1\n",
    "Agafa un text en anglès que vulguis, i calcula'n la freqüència de les paraules."
   ]
  },
  {
   "cell_type": "code",
   "execution_count": 1,
   "id": "070f5f20",
   "metadata": {},
   "outputs": [],
   "source": [
    "#Loading NLTK\n",
    "import nltk\n",
    "#nltk.download('punkt')"
   ]
  },
  {
   "cell_type": "code",
   "execution_count": 2,
   "id": "79edc235",
   "metadata": {},
   "outputs": [
    {
     "data": {
      "text/plain": [
       "['Franciscan friar William of Baskerville and his novice, Adso of Melk, arrive at an early 14th century\\nBenedictine abbey in Northern Italy.',\n",
       " 'A mysterious death has occurred ahead of an important theological Church conference.',\n",
       " 'William, known for his deductive and analytical mind, confronts the worried Abbot and gains permission to investigate the death:\\na young illuminator appears to have committed suicide.']"
      ]
     },
     "execution_count": 2,
     "metadata": {},
     "output_type": "execute_result"
    }
   ],
   "source": [
    "from nltk.tokenize import sent_tokenize\n",
    "text = \"\"\"Franciscan friar William of Baskerville and his novice, Adso of Melk, arrive at an early 14th century\n",
    "Benedictine abbey in Northern Italy. A mysterious death has occurred ahead of an important theological Church conference.\n",
    "William, known for his deductive and analytical mind, confronts the worried Abbot and gains permission to investigate the death:\n",
    "a young illuminator appears to have committed suicide.\"\"\"\n",
    "tokenizedText=sent_tokenize(text)\n",
    "tokenizedText"
   ]
  },
  {
   "cell_type": "code",
   "execution_count": 3,
   "id": "70797cbb",
   "metadata": {},
   "outputs": [
    {
     "name": "stdout",
     "output_type": "stream",
     "text": [
      "['Franciscan', 'friar', 'William', 'of', 'Baskerville', 'and', 'his', 'novice', ',', 'Adso', 'of', 'Melk', ',', 'arrive', 'at', 'an', 'early', '14th', 'century', 'Benedictine', 'abbey', 'in', 'Northern', 'Italy', '.', 'A', 'mysterious', 'death', 'has', 'occurred', 'ahead', 'of', 'an', 'important', 'theological', 'Church', 'conference', '.', 'William', ',', 'known', 'for', 'his', 'deductive', 'and', 'analytical', 'mind', ',', 'confronts', 'the', 'worried', 'Abbot', 'and', 'gains', 'permission', 'to', 'investigate', 'the', 'death', ':', 'a', 'young', 'illuminator', 'appears', 'to', 'have', 'committed', 'suicide', '.']\n"
     ]
    }
   ],
   "source": [
    "from nltk.tokenize import word_tokenize\n",
    "tokenizedWord=word_tokenize(text)\n",
    "print(tokenizedWord)"
   ]
  },
  {
   "cell_type": "code",
   "execution_count": 4,
   "id": "09e40f09",
   "metadata": {},
   "outputs": [
    {
     "name": "stdout",
     "output_type": "stream",
     "text": [
      "<FreqDist with 54 samples and 69 outcomes>\n"
     ]
    }
   ],
   "source": [
    "from nltk.probability import FreqDist\n",
    "\n",
    "fDist = FreqDist(tokenizedWord)\n",
    "print(fDist)"
   ]
  },
  {
   "cell_type": "code",
   "execution_count": 5,
   "id": "9a7dbf49",
   "metadata": {
    "scrolled": true
   },
   "outputs": [
    {
     "name": "stdout",
     "output_type": "stream",
     "text": [
      "[(',', 4), ('of', 3), ('and', 3), ('.', 3), ('William', 2), ('his', 2), ('an', 2), ('death', 2), ('the', 2), ('to', 2), ('Franciscan', 1), ('friar', 1), ('Baskerville', 1), ('novice', 1), ('Adso', 1), ('Melk', 1), ('arrive', 1), ('at', 1), ('early', 1), ('14th', 1), ('century', 1), ('Benedictine', 1), ('abbey', 1), ('in', 1), ('Northern', 1), ('Italy', 1), ('A', 1), ('mysterious', 1), ('has', 1), ('occurred', 1), ('ahead', 1), ('important', 1), ('theological', 1), ('Church', 1), ('conference', 1), ('known', 1), ('for', 1), ('deductive', 1), ('analytical', 1), ('mind', 1), ('confronts', 1), ('worried', 1), ('Abbot', 1), ('gains', 1), ('permission', 1), ('investigate', 1), (':', 1), ('a', 1), ('young', 1), ('illuminator', 1), ('appears', 1), ('have', 1), ('committed', 1), ('suicide', 1)]\n"
     ]
    }
   ],
   "source": [
    "fWord = fDist.most_common()   \n",
    "print(fWord)"
   ]
  },
  {
   "cell_type": "markdown",
   "id": "23fabd39",
   "metadata": {},
   "source": [
    "S'obté tot en ordre de freqüència descendent"
   ]
  },
  {
   "cell_type": "code",
   "execution_count": 6,
   "id": "af9286b8",
   "metadata": {},
   "outputs": [
    {
     "data": {
      "image/png": "[encoded data removed]",
      "text/plain": [
       "<Figure size 432x288 with 1 Axes>"
      ]
     },
     "metadata": {
      "needs_background": "light"
     },
     "output_type": "display_data"
    }
   ],
   "source": [
    "# Frequency Distribution Plot\n",
    "import matplotlib.pyplot as plt\n",
    "fDist.plot(69,cumulative=False)\n",
    "plt.show()"
   ]
  },
  {
   "cell_type": "markdown",
   "id": "d78800c7",
   "metadata": {},
   "source": [
    "# > Exercici 2\n",
    "Treu les stopwords i realitza stemming al teu conjunt de dades."
   ]
  },
  {
   "cell_type": "markdown",
   "id": "f3d60960",
   "metadata": {},
   "source": [
    "#### a- Eliminació de les stopwords"
   ]
  },
  {
   "cell_type": "code",
   "execution_count": 7,
   "id": "9dae15bd",
   "metadata": {},
   "outputs": [
    {
     "name": "stdout",
     "output_type": "stream",
     "text": [
      "{'own', 'wasn', 'hasn', \"won't\", \"aren't\", \"hadn't\", 'been', 'mightn', 'if', 'weren', 'are', 'themselves', \"couldn't\", 'for', \"you've\", 'during', 'from', \"didn't\", 'down', \"shouldn't\", 'a', 'not', 'won', 'them', 'again', 'ain', 'ours', 'were', \"you'll\", 'those', 'had', 'than', 'his', 'd', \"weren't\", 'your', \"wouldn't\", 'we', 'that', 'which', 'in', 'above', 'few', \"needn't\", \"shan't\", 'after', 'himself', 'hadn', 'because', 'o', 'here', 'to', 'has', 'don', 'who', 'while', 'other', 'whom', \"haven't\", 'll', 'yourselves', 'can', 'ma', 'hers', \"doesn't\", 'only', 'nor', 'do', 'what', 'these', 'will', 'doesn', 'haven', \"mustn't\", 'him', 'at', 'just', \"mightn't\", 'so', 'be', 'they', 'does', 'between', 'itself', 'up', \"don't\", 'all', 'being', 'very', \"it's\", 'until', 'didn', 'where', 'their', \"you're\", 'out', 'then', 'needn', 'me', 'below', 'aren', 'as', 'its', 'no', 've', \"hasn't\", 'her', 'into', 'why', 'ourselves', 'herself', 'once', \"should've\", 'through', 'now', 'myself', \"you'd\", 'on', 'yourself', 'i', 'mustn', 't', 'more', 's', 'did', 'was', 'most', 'too', 'there', 'shouldn', 'or', 'shan', 'is', 'having', \"that'll\", 'any', 'have', 'how', 'such', 'but', 'same', 'off', \"wasn't\", 'each', 'by', 'it', 'my', 'before', 'over', 'wouldn', 'when', 'and', 'y', 'theirs', 'am', 'about', 'the', 'she', 'an', 'doing', 'isn', \"isn't\", 'he', 'with', 'against', 'yours', 'further', 'our', \"she's\", 'of', 'm', 'couldn', 'some', 'this', 'you', 'both', 're', 'should', 'under'}\n"
     ]
    }
   ],
   "source": [
    "# Llista de stopwords\n",
    "from nltk.corpus import stopwords\n",
    "stopWords=set(stopwords.words(\"english\"))\n",
    "print(stopWords)"
   ]
  },
  {
   "cell_type": "code",
   "execution_count": 8,
   "id": "b9fe2870",
   "metadata": {},
   "outputs": [
    {
     "name": "stdout",
     "output_type": "stream",
     "text": [
      "Text without stopwords:\n",
      " ['Franciscan', 'friar', 'William', 'Baskerville', 'novice', ',', 'Adso', 'Melk', ',', 'arrive', 'early', '14th', 'century', 'Benedictine', 'abbey', 'Northern', 'Italy', '.', 'A', 'mysterious', 'death', 'occurred', 'ahead', 'important', 'theological', 'Church', 'conference', '.', 'William', ',', 'known', 'deductive', 'analytical', 'mind', ',', 'confronts', 'worried', 'Abbot', 'gains', 'permission', 'investigate', 'death', ':', 'young', 'illuminator', 'appears', 'committed', 'suicide', '.']\n"
     ]
    }
   ],
   "source": [
    "# Eliminació de les stopwords\n",
    "filteredSent=[]\n",
    "for w in tokenizedWord:\n",
    "    if w not in stopWords:\n",
    "        filteredSent.append(w)\n",
    "# print(\"Tokenized sentence:\",tokenizedText)\n",
    "print(\"Text without stopwords:\\n\",filteredSent)"
   ]
  },
  {
   "cell_type": "markdown",
   "id": "55b1a0ae",
   "metadata": {},
   "source": [
    "#### b- Realització de stemming"
   ]
  },
  {
   "cell_type": "code",
   "execution_count": 10,
   "id": "808e2fd5",
   "metadata": {},
   "outputs": [
    {
     "name": "stdout",
     "output_type": "stream",
     "text": [
      "Stemmed Sentence:\n",
      " ['franciscan', 'friar', 'william', 'baskervil', 'novic', ',', 'adso', 'melk', ',', 'arriv', 'earli', '14th', 'centuri', 'benedictin', 'abbey', 'northern', 'itali', '.', 'a', 'mysteri', 'death', 'occur', 'ahead', 'import', 'theolog', 'church', 'confer', '.', 'william', ',', 'known', 'deduct', 'analyt', 'mind', ',', 'confront', 'worri', 'abbot', 'gain', 'permiss', 'investig', 'death', ':', 'young', 'illumin', 'appear', 'commit', 'suicid', '.']\n"
     ]
    }
   ],
   "source": [
    "from nltk.stem import PorterStemmer\n",
    "from nltk.tokenize import sent_tokenize, word_tokenize\n",
    "\n",
    "ps = PorterStemmer()\n",
    "\n",
    "stemmedWords=[]\n",
    "for w in filteredSent:\n",
    "    stemmedWords.append(ps.stem(w))\n",
    "\n",
    "# print(\"Text without stopwords:\",filteredSent)\n",
    "print(\"Stemmed Sentence:\\n\",stemmedWords)"
   ]
  },
  {
   "cell_type": "markdown",
   "id": "0ba788a6",
   "metadata": {},
   "source": [
    "# > Exercici 3\n",
    "Realitza sentiment analysis al teu conjunt de dades."
   ]
  },
  {
   "cell_type": "code",
   "execution_count": 12,
   "id": "645b37e2",
   "metadata": {},
   "outputs": [
    {
     "name": "stdout",
     "output_type": "stream",
     "text": [
      "Collecting textblob\n",
      "  Downloading textblob-0.17.1-py2.py3-none-any.whl (636 kB)\n",
      "Requirement already satisfied: nltk>=3.1 in c:\\users\\enasl\\anaconda3\\lib\\site-packages (from textblob) (3.7)\n",
      "Requirement already satisfied: tqdm in c:\\users\\enasl\\anaconda3\\lib\\site-packages (from nltk>=3.1->textblob) (4.64.0)\n",
      "Requirement already satisfied: click in c:\\users\\enasl\\anaconda3\\lib\\site-packages (from nltk>=3.1->textblob) (8.0.4)\n",
      "Requirement already satisfied: joblib in c:\\users\\enasl\\anaconda3\\lib\\site-packages (from nltk>=3.1->textblob) (1.1.0)\n",
      "Requirement already satisfied: regex>=2021.8.3 in c:\\users\\enasl\\anaconda3\\lib\\site-packages (from nltk>=3.1->textblob) (2022.3.15)\n",
      "Requirement already satisfied: colorama in c:\\users\\enasl\\anaconda3\\lib\\site-packages (from click->nltk>=3.1->textblob) (0.4.4)\n",
      "Installing collected packages: textblob\n",
      "Successfully installed textblob-0.17.1\n"
     ]
    }
   ],
   "source": [
    "!pip install textblob\n",
    "from textblob import TextBlob"
   ]
  },
  {
   "cell_type": "code",
   "execution_count": 14,
   "id": "bb04ea7a",
   "metadata": {},
   "outputs": [],
   "source": [
    "blob = TextBlob(text)"
   ]
  },
  {
   "cell_type": "code",
   "execution_count": 15,
   "id": "946dbf09",
   "metadata": {},
   "outputs": [
    {
     "data": {
      "text/plain": [
       "Sentiment(polarity=0.15, subjectivity=0.6749999999999999)"
      ]
     },
     "execution_count": 15,
     "metadata": {},
     "output_type": "execute_result"
    }
   ],
   "source": [
    "blob.sentiment"
   ]
  },
  {
   "cell_type": "markdown",
   "id": "ec717c5c",
   "metadata": {},
   "source": [
    "El retorn és una tupla de forma (polaritat, subjetivitat), la polaritat és un valor flotant dins del rang [-1.0, 1.0] (on -1 és molt negatiu, 0 neutre, i 1 positiu) i la subjetivitat és un valor flotant dins del rang [0.0, 1.0] (on 0.0 és molt objetiu i 1.0 és molt subjetiu)."
   ]
  },
  {
   "cell_type": "code",
   "execution_count": 20,
   "id": "7f75546a",
   "metadata": {},
   "outputs": [
    {
     "data": {
      "text/plain": [
       "0.15"
      ]
     },
     "execution_count": 20,
     "metadata": {},
     "output_type": "execute_result"
    }
   ],
   "source": [
    "# blob.sentiment.polarity"
   ]
  },
  {
   "cell_type": "code",
   "execution_count": 18,
   "id": "9d2d59aa",
   "metadata": {},
   "outputs": [
    {
     "data": {
      "text/plain": [
       "0.6749999999999999"
      ]
     },
     "execution_count": 18,
     "metadata": {},
     "output_type": "execute_result"
    }
   ],
   "source": [
    "# blob.sentiment.subjectivity"
   ]
  },
  {
   "cell_type": "code",
   "execution_count": null,
   "id": "15d8dc96",
   "metadata": {},
   "outputs": [],
   "source": []
  }
 ],
 "metadata": {
  "kernelspec": {
   "display_name": "Python 3 (ipykernel)",
   "language": "python",
   "name": "python3"
  },
  "language_info": {
   "codemirror_mode": {
    "name": "ipython",
    "version": 3
   },
   "file_extension": ".py",
   "mimetype": "text/x-python",
   "name": "python",
   "nbconvert_exporter": "python",
   "pygments_lexer": "ipython3",
   "version": "3.9.12"
  }
 },
 "nbformat": 4,
 "nbformat_minor": 5
}
